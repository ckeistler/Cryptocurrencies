{
 "cells": [
  {
   "cell_type": "markdown",
   "metadata": {},
   "source": [
    "# Clustering Crypto"
   ]
  },
  {
   "cell_type": "code",
   "execution_count": 219,
   "metadata": {},
   "outputs": [],
   "source": [
    "# Initial imports\n",
    "import pandas as pd\n",
    "import hvplot.pandas\n",
    "from path import Path\n",
    "import plotly.express as px\n",
    "from sklearn.preprocessing import StandardScaler, MinMaxScaler\n",
    "from sklearn.decomposition import PCA\n",
    "from sklearn.cluster import KMeans"
   ]
  },
  {
   "cell_type": "markdown",
   "metadata": {},
   "source": [
    "### Deliverable 1: Preprocessing the Data for PCA"
   ]
  },
  {
   "cell_type": "code",
   "execution_count": 220,
   "metadata": {},
   "outputs": [
    {
     "data": {
      "text/html": [
       "<div>\n",
       "<style scoped>\n",
       "    .dataframe tbody tr th:only-of-type {\n",
       "        vertical-align: middle;\n",
       "    }\n",
       "\n",
       "    .dataframe tbody tr th {\n",
       "        vertical-align: top;\n",
       "    }\n",
       "\n",
       "    .dataframe thead th {\n",
       "        text-align: right;\n",
       "    }\n",
       "</style>\n",
       "<table border=\"1\" class=\"dataframe\">\n",
       "  <thead>\n",
       "    <tr style=\"text-align: right;\">\n",
       "      <th></th>\n",
       "      <th>CoinName</th>\n",
       "      <th>Algorithm</th>\n",
       "      <th>IsTrading</th>\n",
       "      <th>ProofType</th>\n",
       "      <th>TotalCoinsMined</th>\n",
       "      <th>TotalCoinSupply</th>\n",
       "    </tr>\n",
       "  </thead>\n",
       "  <tbody>\n",
       "    <tr>\n",
       "      <th>42</th>\n",
       "      <td>42 Coin</td>\n",
       "      <td>Scrypt</td>\n",
       "      <td>True</td>\n",
       "      <td>PoW/PoS</td>\n",
       "      <td>4.199995e+01</td>\n",
       "      <td>42</td>\n",
       "    </tr>\n",
       "    <tr>\n",
       "      <th>365</th>\n",
       "      <td>365Coin</td>\n",
       "      <td>X11</td>\n",
       "      <td>True</td>\n",
       "      <td>PoW/PoS</td>\n",
       "      <td>NaN</td>\n",
       "      <td>2300000000</td>\n",
       "    </tr>\n",
       "    <tr>\n",
       "      <th>404</th>\n",
       "      <td>404Coin</td>\n",
       "      <td>Scrypt</td>\n",
       "      <td>True</td>\n",
       "      <td>PoW/PoS</td>\n",
       "      <td>1.055185e+09</td>\n",
       "      <td>532000000</td>\n",
       "    </tr>\n",
       "    <tr>\n",
       "      <th>611</th>\n",
       "      <td>SixEleven</td>\n",
       "      <td>SHA-256</td>\n",
       "      <td>True</td>\n",
       "      <td>PoW</td>\n",
       "      <td>NaN</td>\n",
       "      <td>611000</td>\n",
       "    </tr>\n",
       "    <tr>\n",
       "      <th>808</th>\n",
       "      <td>808</td>\n",
       "      <td>SHA-256</td>\n",
       "      <td>True</td>\n",
       "      <td>PoW/PoS</td>\n",
       "      <td>0.000000e+00</td>\n",
       "      <td>0</td>\n",
       "    </tr>\n",
       "    <tr>\n",
       "      <th>1337</th>\n",
       "      <td>EliteCoin</td>\n",
       "      <td>X13</td>\n",
       "      <td>True</td>\n",
       "      <td>PoW/PoS</td>\n",
       "      <td>2.927942e+10</td>\n",
       "      <td>314159265359</td>\n",
       "    </tr>\n",
       "    <tr>\n",
       "      <th>2015</th>\n",
       "      <td>2015 coin</td>\n",
       "      <td>X11</td>\n",
       "      <td>True</td>\n",
       "      <td>PoW/PoS</td>\n",
       "      <td>NaN</td>\n",
       "      <td>0</td>\n",
       "    </tr>\n",
       "    <tr>\n",
       "      <th>BTC</th>\n",
       "      <td>Bitcoin</td>\n",
       "      <td>SHA-256</td>\n",
       "      <td>True</td>\n",
       "      <td>PoW</td>\n",
       "      <td>1.792718e+07</td>\n",
       "      <td>21000000</td>\n",
       "    </tr>\n",
       "    <tr>\n",
       "      <th>ETH</th>\n",
       "      <td>Ethereum</td>\n",
       "      <td>Ethash</td>\n",
       "      <td>True</td>\n",
       "      <td>PoW</td>\n",
       "      <td>1.076842e+08</td>\n",
       "      <td>0</td>\n",
       "    </tr>\n",
       "    <tr>\n",
       "      <th>LTC</th>\n",
       "      <td>Litecoin</td>\n",
       "      <td>Scrypt</td>\n",
       "      <td>True</td>\n",
       "      <td>PoW</td>\n",
       "      <td>6.303924e+07</td>\n",
       "      <td>84000000</td>\n",
       "    </tr>\n",
       "  </tbody>\n",
       "</table>\n",
       "</div>"
      ],
      "text/plain": [
       "       CoinName Algorithm  IsTrading ProofType  TotalCoinsMined  \\\n",
       "42      42 Coin    Scrypt       True   PoW/PoS     4.199995e+01   \n",
       "365     365Coin       X11       True   PoW/PoS              NaN   \n",
       "404     404Coin    Scrypt       True   PoW/PoS     1.055185e+09   \n",
       "611   SixEleven   SHA-256       True       PoW              NaN   \n",
       "808         808   SHA-256       True   PoW/PoS     0.000000e+00   \n",
       "1337  EliteCoin       X13       True   PoW/PoS     2.927942e+10   \n",
       "2015  2015 coin       X11       True   PoW/PoS              NaN   \n",
       "BTC     Bitcoin   SHA-256       True       PoW     1.792718e+07   \n",
       "ETH    Ethereum    Ethash       True       PoW     1.076842e+08   \n",
       "LTC    Litecoin    Scrypt       True       PoW     6.303924e+07   \n",
       "\n",
       "     TotalCoinSupply  \n",
       "42                42  \n",
       "365       2300000000  \n",
       "404        532000000  \n",
       "611           611000  \n",
       "808                0  \n",
       "1337    314159265359  \n",
       "2015               0  \n",
       "BTC         21000000  \n",
       "ETH                0  \n",
       "LTC         84000000  "
      ]
     },
     "execution_count": 220,
     "metadata": {},
     "output_type": "execute_result"
    }
   ],
   "source": [
    "# Load the crypto_data.csv dataset.\n",
    "file_path = \"Resources/crypto_data.csv\"\n",
    "crypto_df = pd.read_csv(file_path, index_col=\"Unnamed: 0\")\n",
    "crypto_df.head(10)"
   ]
  },
  {
   "cell_type": "code",
   "execution_count": 221,
   "metadata": {},
   "outputs": [
    {
     "data": {
      "text/html": [
       "<div>\n",
       "<style scoped>\n",
       "    .dataframe tbody tr th:only-of-type {\n",
       "        vertical-align: middle;\n",
       "    }\n",
       "\n",
       "    .dataframe tbody tr th {\n",
       "        vertical-align: top;\n",
       "    }\n",
       "\n",
       "    .dataframe thead th {\n",
       "        text-align: right;\n",
       "    }\n",
       "</style>\n",
       "<table border=\"1\" class=\"dataframe\">\n",
       "  <thead>\n",
       "    <tr style=\"text-align: right;\">\n",
       "      <th></th>\n",
       "      <th>CoinName</th>\n",
       "      <th>Algorithm</th>\n",
       "      <th>IsTrading</th>\n",
       "      <th>ProofType</th>\n",
       "      <th>TotalCoinsMined</th>\n",
       "      <th>TotalCoinSupply</th>\n",
       "    </tr>\n",
       "  </thead>\n",
       "  <tbody>\n",
       "    <tr>\n",
       "      <th>42</th>\n",
       "      <td>42 Coin</td>\n",
       "      <td>Scrypt</td>\n",
       "      <td>True</td>\n",
       "      <td>PoW/PoS</td>\n",
       "      <td>4.199995e+01</td>\n",
       "      <td>42</td>\n",
       "    </tr>\n",
       "    <tr>\n",
       "      <th>365</th>\n",
       "      <td>365Coin</td>\n",
       "      <td>X11</td>\n",
       "      <td>True</td>\n",
       "      <td>PoW/PoS</td>\n",
       "      <td>NaN</td>\n",
       "      <td>2300000000</td>\n",
       "    </tr>\n",
       "    <tr>\n",
       "      <th>404</th>\n",
       "      <td>404Coin</td>\n",
       "      <td>Scrypt</td>\n",
       "      <td>True</td>\n",
       "      <td>PoW/PoS</td>\n",
       "      <td>1.055185e+09</td>\n",
       "      <td>532000000</td>\n",
       "    </tr>\n",
       "    <tr>\n",
       "      <th>611</th>\n",
       "      <td>SixEleven</td>\n",
       "      <td>SHA-256</td>\n",
       "      <td>True</td>\n",
       "      <td>PoW</td>\n",
       "      <td>NaN</td>\n",
       "      <td>611000</td>\n",
       "    </tr>\n",
       "    <tr>\n",
       "      <th>808</th>\n",
       "      <td>808</td>\n",
       "      <td>SHA-256</td>\n",
       "      <td>True</td>\n",
       "      <td>PoW/PoS</td>\n",
       "      <td>0.000000e+00</td>\n",
       "      <td>0</td>\n",
       "    </tr>\n",
       "    <tr>\n",
       "      <th>...</th>\n",
       "      <td>...</td>\n",
       "      <td>...</td>\n",
       "      <td>...</td>\n",
       "      <td>...</td>\n",
       "      <td>...</td>\n",
       "      <td>...</td>\n",
       "    </tr>\n",
       "    <tr>\n",
       "      <th>SERO</th>\n",
       "      <td>Super Zero</td>\n",
       "      <td>Ethash</td>\n",
       "      <td>True</td>\n",
       "      <td>PoW</td>\n",
       "      <td>NaN</td>\n",
       "      <td>1000000000</td>\n",
       "    </tr>\n",
       "    <tr>\n",
       "      <th>UOS</th>\n",
       "      <td>UOS</td>\n",
       "      <td>SHA-256</td>\n",
       "      <td>True</td>\n",
       "      <td>DPoI</td>\n",
       "      <td>NaN</td>\n",
       "      <td>1000000000</td>\n",
       "    </tr>\n",
       "    <tr>\n",
       "      <th>BDX</th>\n",
       "      <td>Beldex</td>\n",
       "      <td>CryptoNight</td>\n",
       "      <td>True</td>\n",
       "      <td>PoW</td>\n",
       "      <td>9.802226e+08</td>\n",
       "      <td>1400222610</td>\n",
       "    </tr>\n",
       "    <tr>\n",
       "      <th>ZEN</th>\n",
       "      <td>Horizen</td>\n",
       "      <td>Equihash</td>\n",
       "      <td>True</td>\n",
       "      <td>PoW</td>\n",
       "      <td>7.296538e+06</td>\n",
       "      <td>21000000</td>\n",
       "    </tr>\n",
       "    <tr>\n",
       "      <th>XBC</th>\n",
       "      <td>BitcoinPlus</td>\n",
       "      <td>Scrypt</td>\n",
       "      <td>True</td>\n",
       "      <td>PoS</td>\n",
       "      <td>1.283270e+05</td>\n",
       "      <td>1000000</td>\n",
       "    </tr>\n",
       "  </tbody>\n",
       "</table>\n",
       "<p>1144 rows × 6 columns</p>\n",
       "</div>"
      ],
      "text/plain": [
       "         CoinName    Algorithm  IsTrading ProofType  TotalCoinsMined  \\\n",
       "42        42 Coin       Scrypt       True   PoW/PoS     4.199995e+01   \n",
       "365       365Coin          X11       True   PoW/PoS              NaN   \n",
       "404       404Coin       Scrypt       True   PoW/PoS     1.055185e+09   \n",
       "611     SixEleven      SHA-256       True       PoW              NaN   \n",
       "808           808      SHA-256       True   PoW/PoS     0.000000e+00   \n",
       "...           ...          ...        ...       ...              ...   \n",
       "SERO   Super Zero       Ethash       True       PoW              NaN   \n",
       "UOS           UOS      SHA-256       True      DPoI              NaN   \n",
       "BDX        Beldex  CryptoNight       True       PoW     9.802226e+08   \n",
       "ZEN       Horizen     Equihash       True       PoW     7.296538e+06   \n",
       "XBC   BitcoinPlus       Scrypt       True       PoS     1.283270e+05   \n",
       "\n",
       "     TotalCoinSupply  \n",
       "42                42  \n",
       "365       2300000000  \n",
       "404        532000000  \n",
       "611           611000  \n",
       "808                0  \n",
       "...              ...  \n",
       "SERO      1000000000  \n",
       "UOS       1000000000  \n",
       "BDX       1400222610  \n",
       "ZEN         21000000  \n",
       "XBC          1000000  \n",
       "\n",
       "[1144 rows x 6 columns]"
      ]
     },
     "execution_count": 221,
     "metadata": {},
     "output_type": "execute_result"
    }
   ],
   "source": [
    "# Keep all the cryptocurrencies that are being traded.\n",
    "crypto_df = crypto_df.loc[crypto_df[\"IsTrading\"] == True]\n",
    "crypto_df"
   ]
  },
  {
   "cell_type": "code",
   "execution_count": 222,
   "metadata": {},
   "outputs": [],
   "source": [
    "# Keep all the cryptocurrencies that have a working algorithm.\n",
    "# THIS ISN'T REFERENCED IN OUR INSTRUCTIONS"
   ]
  },
  {
   "cell_type": "code",
   "execution_count": 223,
   "metadata": {},
   "outputs": [
    {
     "data": {
      "text/html": [
       "<div>\n",
       "<style scoped>\n",
       "    .dataframe tbody tr th:only-of-type {\n",
       "        vertical-align: middle;\n",
       "    }\n",
       "\n",
       "    .dataframe tbody tr th {\n",
       "        vertical-align: top;\n",
       "    }\n",
       "\n",
       "    .dataframe thead th {\n",
       "        text-align: right;\n",
       "    }\n",
       "</style>\n",
       "<table border=\"1\" class=\"dataframe\">\n",
       "  <thead>\n",
       "    <tr style=\"text-align: right;\">\n",
       "      <th></th>\n",
       "      <th>CoinName</th>\n",
       "      <th>Algorithm</th>\n",
       "      <th>ProofType</th>\n",
       "      <th>TotalCoinsMined</th>\n",
       "      <th>TotalCoinSupply</th>\n",
       "    </tr>\n",
       "  </thead>\n",
       "  <tbody>\n",
       "    <tr>\n",
       "      <th>42</th>\n",
       "      <td>42 Coin</td>\n",
       "      <td>Scrypt</td>\n",
       "      <td>PoW/PoS</td>\n",
       "      <td>4.199995e+01</td>\n",
       "      <td>42</td>\n",
       "    </tr>\n",
       "    <tr>\n",
       "      <th>365</th>\n",
       "      <td>365Coin</td>\n",
       "      <td>X11</td>\n",
       "      <td>PoW/PoS</td>\n",
       "      <td>NaN</td>\n",
       "      <td>2300000000</td>\n",
       "    </tr>\n",
       "    <tr>\n",
       "      <th>404</th>\n",
       "      <td>404Coin</td>\n",
       "      <td>Scrypt</td>\n",
       "      <td>PoW/PoS</td>\n",
       "      <td>1.055185e+09</td>\n",
       "      <td>532000000</td>\n",
       "    </tr>\n",
       "    <tr>\n",
       "      <th>611</th>\n",
       "      <td>SixEleven</td>\n",
       "      <td>SHA-256</td>\n",
       "      <td>PoW</td>\n",
       "      <td>NaN</td>\n",
       "      <td>611000</td>\n",
       "    </tr>\n",
       "    <tr>\n",
       "      <th>808</th>\n",
       "      <td>808</td>\n",
       "      <td>SHA-256</td>\n",
       "      <td>PoW/PoS</td>\n",
       "      <td>0.000000e+00</td>\n",
       "      <td>0</td>\n",
       "    </tr>\n",
       "    <tr>\n",
       "      <th>...</th>\n",
       "      <td>...</td>\n",
       "      <td>...</td>\n",
       "      <td>...</td>\n",
       "      <td>...</td>\n",
       "      <td>...</td>\n",
       "    </tr>\n",
       "    <tr>\n",
       "      <th>SERO</th>\n",
       "      <td>Super Zero</td>\n",
       "      <td>Ethash</td>\n",
       "      <td>PoW</td>\n",
       "      <td>NaN</td>\n",
       "      <td>1000000000</td>\n",
       "    </tr>\n",
       "    <tr>\n",
       "      <th>UOS</th>\n",
       "      <td>UOS</td>\n",
       "      <td>SHA-256</td>\n",
       "      <td>DPoI</td>\n",
       "      <td>NaN</td>\n",
       "      <td>1000000000</td>\n",
       "    </tr>\n",
       "    <tr>\n",
       "      <th>BDX</th>\n",
       "      <td>Beldex</td>\n",
       "      <td>CryptoNight</td>\n",
       "      <td>PoW</td>\n",
       "      <td>9.802226e+08</td>\n",
       "      <td>1400222610</td>\n",
       "    </tr>\n",
       "    <tr>\n",
       "      <th>ZEN</th>\n",
       "      <td>Horizen</td>\n",
       "      <td>Equihash</td>\n",
       "      <td>PoW</td>\n",
       "      <td>7.296538e+06</td>\n",
       "      <td>21000000</td>\n",
       "    </tr>\n",
       "    <tr>\n",
       "      <th>XBC</th>\n",
       "      <td>BitcoinPlus</td>\n",
       "      <td>Scrypt</td>\n",
       "      <td>PoS</td>\n",
       "      <td>1.283270e+05</td>\n",
       "      <td>1000000</td>\n",
       "    </tr>\n",
       "  </tbody>\n",
       "</table>\n",
       "<p>1144 rows × 5 columns</p>\n",
       "</div>"
      ],
      "text/plain": [
       "         CoinName    Algorithm ProofType  TotalCoinsMined TotalCoinSupply\n",
       "42        42 Coin       Scrypt   PoW/PoS     4.199995e+01              42\n",
       "365       365Coin          X11   PoW/PoS              NaN      2300000000\n",
       "404       404Coin       Scrypt   PoW/PoS     1.055185e+09       532000000\n",
       "611     SixEleven      SHA-256       PoW              NaN          611000\n",
       "808           808      SHA-256   PoW/PoS     0.000000e+00               0\n",
       "...           ...          ...       ...              ...             ...\n",
       "SERO   Super Zero       Ethash       PoW              NaN      1000000000\n",
       "UOS           UOS      SHA-256      DPoI              NaN      1000000000\n",
       "BDX        Beldex  CryptoNight       PoW     9.802226e+08      1400222610\n",
       "ZEN       Horizen     Equihash       PoW     7.296538e+06        21000000\n",
       "XBC   BitcoinPlus       Scrypt       PoS     1.283270e+05         1000000\n",
       "\n",
       "[1144 rows x 5 columns]"
      ]
     },
     "execution_count": 223,
     "metadata": {},
     "output_type": "execute_result"
    }
   ],
   "source": [
    "# Remove the \"IsTrading\" column. \n",
    "crypto_df = crypto_df.drop([\"IsTrading\"], axis = 1)\n",
    "crypto_df"
   ]
  },
  {
   "cell_type": "code",
   "execution_count": 224,
   "metadata": {},
   "outputs": [
    {
     "name": "stdout",
     "output_type": "stream",
     "text": [
      "column CoinName has 0 null values\n",
      "column Algorithm has 0 null values\n",
      "column ProofType has 0 null values\n",
      "column TotalCoinsMined has 459 null values\n",
      "column TotalCoinSupply has 0 null values\n"
     ]
    }
   ],
   "source": [
    "for column in crypto_df.columns:\n",
    "        print(f\"column {column} has {crypto_df[column].isnull().sum()} null values\")"
   ]
  },
  {
   "cell_type": "code",
   "execution_count": 225,
   "metadata": {},
   "outputs": [
    {
     "data": {
      "text/html": [
       "<div>\n",
       "<style scoped>\n",
       "    .dataframe tbody tr th:only-of-type {\n",
       "        vertical-align: middle;\n",
       "    }\n",
       "\n",
       "    .dataframe tbody tr th {\n",
       "        vertical-align: top;\n",
       "    }\n",
       "\n",
       "    .dataframe thead th {\n",
       "        text-align: right;\n",
       "    }\n",
       "</style>\n",
       "<table border=\"1\" class=\"dataframe\">\n",
       "  <thead>\n",
       "    <tr style=\"text-align: right;\">\n",
       "      <th></th>\n",
       "      <th>CoinName</th>\n",
       "      <th>Algorithm</th>\n",
       "      <th>ProofType</th>\n",
       "      <th>TotalCoinsMined</th>\n",
       "      <th>TotalCoinSupply</th>\n",
       "    </tr>\n",
       "  </thead>\n",
       "  <tbody>\n",
       "    <tr>\n",
       "      <th>42</th>\n",
       "      <td>42 Coin</td>\n",
       "      <td>Scrypt</td>\n",
       "      <td>PoW/PoS</td>\n",
       "      <td>4.199995e+01</td>\n",
       "      <td>42</td>\n",
       "    </tr>\n",
       "    <tr>\n",
       "      <th>404</th>\n",
       "      <td>404Coin</td>\n",
       "      <td>Scrypt</td>\n",
       "      <td>PoW/PoS</td>\n",
       "      <td>1.055185e+09</td>\n",
       "      <td>532000000</td>\n",
       "    </tr>\n",
       "    <tr>\n",
       "      <th>808</th>\n",
       "      <td>808</td>\n",
       "      <td>SHA-256</td>\n",
       "      <td>PoW/PoS</td>\n",
       "      <td>0.000000e+00</td>\n",
       "      <td>0</td>\n",
       "    </tr>\n",
       "    <tr>\n",
       "      <th>1337</th>\n",
       "      <td>EliteCoin</td>\n",
       "      <td>X13</td>\n",
       "      <td>PoW/PoS</td>\n",
       "      <td>2.927942e+10</td>\n",
       "      <td>314159265359</td>\n",
       "    </tr>\n",
       "    <tr>\n",
       "      <th>BTC</th>\n",
       "      <td>Bitcoin</td>\n",
       "      <td>SHA-256</td>\n",
       "      <td>PoW</td>\n",
       "      <td>1.792718e+07</td>\n",
       "      <td>21000000</td>\n",
       "    </tr>\n",
       "    <tr>\n",
       "      <th>...</th>\n",
       "      <td>...</td>\n",
       "      <td>...</td>\n",
       "      <td>...</td>\n",
       "      <td>...</td>\n",
       "      <td>...</td>\n",
       "    </tr>\n",
       "    <tr>\n",
       "      <th>ZEPH</th>\n",
       "      <td>ZEPHYR</td>\n",
       "      <td>SHA-256</td>\n",
       "      <td>DPoS</td>\n",
       "      <td>2.000000e+09</td>\n",
       "      <td>2000000000</td>\n",
       "    </tr>\n",
       "    <tr>\n",
       "      <th>GAP</th>\n",
       "      <td>Gapcoin</td>\n",
       "      <td>Scrypt</td>\n",
       "      <td>PoW/PoS</td>\n",
       "      <td>1.493105e+07</td>\n",
       "      <td>250000000</td>\n",
       "    </tr>\n",
       "    <tr>\n",
       "      <th>BDX</th>\n",
       "      <td>Beldex</td>\n",
       "      <td>CryptoNight</td>\n",
       "      <td>PoW</td>\n",
       "      <td>9.802226e+08</td>\n",
       "      <td>1400222610</td>\n",
       "    </tr>\n",
       "    <tr>\n",
       "      <th>ZEN</th>\n",
       "      <td>Horizen</td>\n",
       "      <td>Equihash</td>\n",
       "      <td>PoW</td>\n",
       "      <td>7.296538e+06</td>\n",
       "      <td>21000000</td>\n",
       "    </tr>\n",
       "    <tr>\n",
       "      <th>XBC</th>\n",
       "      <td>BitcoinPlus</td>\n",
       "      <td>Scrypt</td>\n",
       "      <td>PoS</td>\n",
       "      <td>1.283270e+05</td>\n",
       "      <td>1000000</td>\n",
       "    </tr>\n",
       "  </tbody>\n",
       "</table>\n",
       "<p>685 rows × 5 columns</p>\n",
       "</div>"
      ],
      "text/plain": [
       "         CoinName    Algorithm ProofType  TotalCoinsMined TotalCoinSupply\n",
       "42        42 Coin       Scrypt   PoW/PoS     4.199995e+01              42\n",
       "404       404Coin       Scrypt   PoW/PoS     1.055185e+09       532000000\n",
       "808           808      SHA-256   PoW/PoS     0.000000e+00               0\n",
       "1337    EliteCoin          X13   PoW/PoS     2.927942e+10    314159265359\n",
       "BTC       Bitcoin      SHA-256       PoW     1.792718e+07        21000000\n",
       "...           ...          ...       ...              ...             ...\n",
       "ZEPH       ZEPHYR      SHA-256      DPoS     2.000000e+09      2000000000\n",
       "GAP       Gapcoin       Scrypt   PoW/PoS     1.493105e+07       250000000\n",
       "BDX        Beldex  CryptoNight       PoW     9.802226e+08      1400222610\n",
       "ZEN       Horizen     Equihash       PoW     7.296538e+06        21000000\n",
       "XBC   BitcoinPlus       Scrypt       PoS     1.283270e+05         1000000\n",
       "\n",
       "[685 rows x 5 columns]"
      ]
     },
     "execution_count": 225,
     "metadata": {},
     "output_type": "execute_result"
    }
   ],
   "source": [
    "# Remove rows that have at least 1 null value.\n",
    "crypto_df = crypto_df.dropna()\n",
    "crypto_df"
   ]
  },
  {
   "cell_type": "code",
   "execution_count": 226,
   "metadata": {},
   "outputs": [
    {
     "data": {
      "text/html": [
       "<div>\n",
       "<style scoped>\n",
       "    .dataframe tbody tr th:only-of-type {\n",
       "        vertical-align: middle;\n",
       "    }\n",
       "\n",
       "    .dataframe tbody tr th {\n",
       "        vertical-align: top;\n",
       "    }\n",
       "\n",
       "    .dataframe thead th {\n",
       "        text-align: right;\n",
       "    }\n",
       "</style>\n",
       "<table border=\"1\" class=\"dataframe\">\n",
       "  <thead>\n",
       "    <tr style=\"text-align: right;\">\n",
       "      <th></th>\n",
       "      <th>CoinName</th>\n",
       "      <th>Algorithm</th>\n",
       "      <th>ProofType</th>\n",
       "      <th>TotalCoinsMined</th>\n",
       "      <th>TotalCoinSupply</th>\n",
       "    </tr>\n",
       "  </thead>\n",
       "  <tbody>\n",
       "    <tr>\n",
       "      <th>42</th>\n",
       "      <td>42 Coin</td>\n",
       "      <td>Scrypt</td>\n",
       "      <td>PoW/PoS</td>\n",
       "      <td>4.199995e+01</td>\n",
       "      <td>42</td>\n",
       "    </tr>\n",
       "    <tr>\n",
       "      <th>404</th>\n",
       "      <td>404Coin</td>\n",
       "      <td>Scrypt</td>\n",
       "      <td>PoW/PoS</td>\n",
       "      <td>1.055185e+09</td>\n",
       "      <td>532000000</td>\n",
       "    </tr>\n",
       "    <tr>\n",
       "      <th>1337</th>\n",
       "      <td>EliteCoin</td>\n",
       "      <td>X13</td>\n",
       "      <td>PoW/PoS</td>\n",
       "      <td>2.927942e+10</td>\n",
       "      <td>314159265359</td>\n",
       "    </tr>\n",
       "    <tr>\n",
       "      <th>BTC</th>\n",
       "      <td>Bitcoin</td>\n",
       "      <td>SHA-256</td>\n",
       "      <td>PoW</td>\n",
       "      <td>1.792718e+07</td>\n",
       "      <td>21000000</td>\n",
       "    </tr>\n",
       "    <tr>\n",
       "      <th>ETH</th>\n",
       "      <td>Ethereum</td>\n",
       "      <td>Ethash</td>\n",
       "      <td>PoW</td>\n",
       "      <td>1.076842e+08</td>\n",
       "      <td>0</td>\n",
       "    </tr>\n",
       "    <tr>\n",
       "      <th>...</th>\n",
       "      <td>...</td>\n",
       "      <td>...</td>\n",
       "      <td>...</td>\n",
       "      <td>...</td>\n",
       "      <td>...</td>\n",
       "    </tr>\n",
       "    <tr>\n",
       "      <th>ZEPH</th>\n",
       "      <td>ZEPHYR</td>\n",
       "      <td>SHA-256</td>\n",
       "      <td>DPoS</td>\n",
       "      <td>2.000000e+09</td>\n",
       "      <td>2000000000</td>\n",
       "    </tr>\n",
       "    <tr>\n",
       "      <th>GAP</th>\n",
       "      <td>Gapcoin</td>\n",
       "      <td>Scrypt</td>\n",
       "      <td>PoW/PoS</td>\n",
       "      <td>1.493105e+07</td>\n",
       "      <td>250000000</td>\n",
       "    </tr>\n",
       "    <tr>\n",
       "      <th>BDX</th>\n",
       "      <td>Beldex</td>\n",
       "      <td>CryptoNight</td>\n",
       "      <td>PoW</td>\n",
       "      <td>9.802226e+08</td>\n",
       "      <td>1400222610</td>\n",
       "    </tr>\n",
       "    <tr>\n",
       "      <th>ZEN</th>\n",
       "      <td>Horizen</td>\n",
       "      <td>Equihash</td>\n",
       "      <td>PoW</td>\n",
       "      <td>7.296538e+06</td>\n",
       "      <td>21000000</td>\n",
       "    </tr>\n",
       "    <tr>\n",
       "      <th>XBC</th>\n",
       "      <td>BitcoinPlus</td>\n",
       "      <td>Scrypt</td>\n",
       "      <td>PoS</td>\n",
       "      <td>1.283270e+05</td>\n",
       "      <td>1000000</td>\n",
       "    </tr>\n",
       "  </tbody>\n",
       "</table>\n",
       "<p>532 rows × 5 columns</p>\n",
       "</div>"
      ],
      "text/plain": [
       "         CoinName    Algorithm ProofType  TotalCoinsMined TotalCoinSupply\n",
       "42        42 Coin       Scrypt   PoW/PoS     4.199995e+01              42\n",
       "404       404Coin       Scrypt   PoW/PoS     1.055185e+09       532000000\n",
       "1337    EliteCoin          X13   PoW/PoS     2.927942e+10    314159265359\n",
       "BTC       Bitcoin      SHA-256       PoW     1.792718e+07        21000000\n",
       "ETH      Ethereum       Ethash       PoW     1.076842e+08               0\n",
       "...           ...          ...       ...              ...             ...\n",
       "ZEPH       ZEPHYR      SHA-256      DPoS     2.000000e+09      2000000000\n",
       "GAP       Gapcoin       Scrypt   PoW/PoS     1.493105e+07       250000000\n",
       "BDX        Beldex  CryptoNight       PoW     9.802226e+08      1400222610\n",
       "ZEN       Horizen     Equihash       PoW     7.296538e+06        21000000\n",
       "XBC   BitcoinPlus       Scrypt       PoS     1.283270e+05         1000000\n",
       "\n",
       "[532 rows x 5 columns]"
      ]
     },
     "execution_count": 226,
     "metadata": {},
     "output_type": "execute_result"
    }
   ],
   "source": [
    "# Keep the rows where coins are mined.\n",
    "crypto_df = crypto_df.loc[crypto_df['TotalCoinsMined'] > 0]\n",
    "crypto_df"
   ]
  },
  {
   "cell_type": "code",
   "execution_count": 227,
   "metadata": {},
   "outputs": [
    {
     "data": {
      "text/html": [
       "<div>\n",
       "<style scoped>\n",
       "    .dataframe tbody tr th:only-of-type {\n",
       "        vertical-align: middle;\n",
       "    }\n",
       "\n",
       "    .dataframe tbody tr th {\n",
       "        vertical-align: top;\n",
       "    }\n",
       "\n",
       "    .dataframe thead th {\n",
       "        text-align: right;\n",
       "    }\n",
       "</style>\n",
       "<table border=\"1\" class=\"dataframe\">\n",
       "  <thead>\n",
       "    <tr style=\"text-align: right;\">\n",
       "      <th></th>\n",
       "      <th>CoinName</th>\n",
       "    </tr>\n",
       "  </thead>\n",
       "  <tbody>\n",
       "    <tr>\n",
       "      <th>42</th>\n",
       "      <td>42 Coin</td>\n",
       "    </tr>\n",
       "    <tr>\n",
       "      <th>404</th>\n",
       "      <td>404Coin</td>\n",
       "    </tr>\n",
       "    <tr>\n",
       "      <th>1337</th>\n",
       "      <td>EliteCoin</td>\n",
       "    </tr>\n",
       "    <tr>\n",
       "      <th>BTC</th>\n",
       "      <td>Bitcoin</td>\n",
       "    </tr>\n",
       "    <tr>\n",
       "      <th>ETH</th>\n",
       "      <td>Ethereum</td>\n",
       "    </tr>\n",
       "    <tr>\n",
       "      <th>...</th>\n",
       "      <td>...</td>\n",
       "    </tr>\n",
       "    <tr>\n",
       "      <th>ZEPH</th>\n",
       "      <td>ZEPHYR</td>\n",
       "    </tr>\n",
       "    <tr>\n",
       "      <th>GAP</th>\n",
       "      <td>Gapcoin</td>\n",
       "    </tr>\n",
       "    <tr>\n",
       "      <th>BDX</th>\n",
       "      <td>Beldex</td>\n",
       "    </tr>\n",
       "    <tr>\n",
       "      <th>ZEN</th>\n",
       "      <td>Horizen</td>\n",
       "    </tr>\n",
       "    <tr>\n",
       "      <th>XBC</th>\n",
       "      <td>BitcoinPlus</td>\n",
       "    </tr>\n",
       "  </tbody>\n",
       "</table>\n",
       "<p>532 rows × 1 columns</p>\n",
       "</div>"
      ],
      "text/plain": [
       "         CoinName\n",
       "42        42 Coin\n",
       "404       404Coin\n",
       "1337    EliteCoin\n",
       "BTC       Bitcoin\n",
       "ETH      Ethereum\n",
       "...           ...\n",
       "ZEPH       ZEPHYR\n",
       "GAP       Gapcoin\n",
       "BDX        Beldex\n",
       "ZEN       Horizen\n",
       "XBC   BitcoinPlus\n",
       "\n",
       "[532 rows x 1 columns]"
      ]
     },
     "execution_count": 227,
     "metadata": {},
     "output_type": "execute_result"
    }
   ],
   "source": [
    "# Create a new DataFrame that holds only the cryptocurrencies names.\n",
    "selected_columns = crypto_df[['CoinName']]\n",
    "df2 = selected_columns.copy()\n",
    "df2"
   ]
  },
  {
   "cell_type": "code",
   "execution_count": 228,
   "metadata": {},
   "outputs": [
    {
     "data": {
      "text/html": [
       "<div>\n",
       "<style scoped>\n",
       "    .dataframe tbody tr th:only-of-type {\n",
       "        vertical-align: middle;\n",
       "    }\n",
       "\n",
       "    .dataframe tbody tr th {\n",
       "        vertical-align: top;\n",
       "    }\n",
       "\n",
       "    .dataframe thead th {\n",
       "        text-align: right;\n",
       "    }\n",
       "</style>\n",
       "<table border=\"1\" class=\"dataframe\">\n",
       "  <thead>\n",
       "    <tr style=\"text-align: right;\">\n",
       "      <th></th>\n",
       "      <th>Algorithm</th>\n",
       "      <th>ProofType</th>\n",
       "      <th>TotalCoinsMined</th>\n",
       "      <th>TotalCoinSupply</th>\n",
       "    </tr>\n",
       "  </thead>\n",
       "  <tbody>\n",
       "    <tr>\n",
       "      <th>42</th>\n",
       "      <td>Scrypt</td>\n",
       "      <td>PoW/PoS</td>\n",
       "      <td>4.199995e+01</td>\n",
       "      <td>42</td>\n",
       "    </tr>\n",
       "    <tr>\n",
       "      <th>404</th>\n",
       "      <td>Scrypt</td>\n",
       "      <td>PoW/PoS</td>\n",
       "      <td>1.055185e+09</td>\n",
       "      <td>532000000</td>\n",
       "    </tr>\n",
       "    <tr>\n",
       "      <th>1337</th>\n",
       "      <td>X13</td>\n",
       "      <td>PoW/PoS</td>\n",
       "      <td>2.927942e+10</td>\n",
       "      <td>314159265359</td>\n",
       "    </tr>\n",
       "    <tr>\n",
       "      <th>BTC</th>\n",
       "      <td>SHA-256</td>\n",
       "      <td>PoW</td>\n",
       "      <td>1.792718e+07</td>\n",
       "      <td>21000000</td>\n",
       "    </tr>\n",
       "    <tr>\n",
       "      <th>ETH</th>\n",
       "      <td>Ethash</td>\n",
       "      <td>PoW</td>\n",
       "      <td>1.076842e+08</td>\n",
       "      <td>0</td>\n",
       "    </tr>\n",
       "    <tr>\n",
       "      <th>...</th>\n",
       "      <td>...</td>\n",
       "      <td>...</td>\n",
       "      <td>...</td>\n",
       "      <td>...</td>\n",
       "    </tr>\n",
       "    <tr>\n",
       "      <th>ZEPH</th>\n",
       "      <td>SHA-256</td>\n",
       "      <td>DPoS</td>\n",
       "      <td>2.000000e+09</td>\n",
       "      <td>2000000000</td>\n",
       "    </tr>\n",
       "    <tr>\n",
       "      <th>GAP</th>\n",
       "      <td>Scrypt</td>\n",
       "      <td>PoW/PoS</td>\n",
       "      <td>1.493105e+07</td>\n",
       "      <td>250000000</td>\n",
       "    </tr>\n",
       "    <tr>\n",
       "      <th>BDX</th>\n",
       "      <td>CryptoNight</td>\n",
       "      <td>PoW</td>\n",
       "      <td>9.802226e+08</td>\n",
       "      <td>1400222610</td>\n",
       "    </tr>\n",
       "    <tr>\n",
       "      <th>ZEN</th>\n",
       "      <td>Equihash</td>\n",
       "      <td>PoW</td>\n",
       "      <td>7.296538e+06</td>\n",
       "      <td>21000000</td>\n",
       "    </tr>\n",
       "    <tr>\n",
       "      <th>XBC</th>\n",
       "      <td>Scrypt</td>\n",
       "      <td>PoS</td>\n",
       "      <td>1.283270e+05</td>\n",
       "      <td>1000000</td>\n",
       "    </tr>\n",
       "  </tbody>\n",
       "</table>\n",
       "<p>532 rows × 4 columns</p>\n",
       "</div>"
      ],
      "text/plain": [
       "        Algorithm ProofType  TotalCoinsMined TotalCoinSupply\n",
       "42         Scrypt   PoW/PoS     4.199995e+01              42\n",
       "404        Scrypt   PoW/PoS     1.055185e+09       532000000\n",
       "1337          X13   PoW/PoS     2.927942e+10    314159265359\n",
       "BTC       SHA-256       PoW     1.792718e+07        21000000\n",
       "ETH        Ethash       PoW     1.076842e+08               0\n",
       "...           ...       ...              ...             ...\n",
       "ZEPH      SHA-256      DPoS     2.000000e+09      2000000000\n",
       "GAP        Scrypt   PoW/PoS     1.493105e+07       250000000\n",
       "BDX   CryptoNight       PoW     9.802226e+08      1400222610\n",
       "ZEN      Equihash       PoW     7.296538e+06        21000000\n",
       "XBC        Scrypt       PoS     1.283270e+05         1000000\n",
       "\n",
       "[532 rows x 4 columns]"
      ]
     },
     "execution_count": 228,
     "metadata": {},
     "output_type": "execute_result"
    }
   ],
   "source": [
    "# Drop the 'CoinName' column since it's not going to be used on the clustering algorithm.\n",
    "crypto_df = crypto_df.drop([\"CoinName\"], axis = 1)\n",
    "crypto_df"
   ]
  },
  {
   "cell_type": "code",
   "execution_count": 229,
   "metadata": {},
   "outputs": [
    {
     "data": {
      "text/html": [
       "<div>\n",
       "<style scoped>\n",
       "    .dataframe tbody tr th:only-of-type {\n",
       "        vertical-align: middle;\n",
       "    }\n",
       "\n",
       "    .dataframe tbody tr th {\n",
       "        vertical-align: top;\n",
       "    }\n",
       "\n",
       "    .dataframe thead th {\n",
       "        text-align: right;\n",
       "    }\n",
       "</style>\n",
       "<table border=\"1\" class=\"dataframe\">\n",
       "  <thead>\n",
       "    <tr style=\"text-align: right;\">\n",
       "      <th></th>\n",
       "      <th>TotalCoinsMined</th>\n",
       "      <th>TotalCoinSupply</th>\n",
       "      <th>Algorithm_1GB AES Pattern Search</th>\n",
       "      <th>Algorithm_536</th>\n",
       "      <th>Algorithm_Argon2d</th>\n",
       "      <th>Algorithm_BLAKE256</th>\n",
       "      <th>Algorithm_Blake</th>\n",
       "      <th>Algorithm_Blake2S</th>\n",
       "      <th>Algorithm_Blake2b</th>\n",
       "      <th>Algorithm_C11</th>\n",
       "      <th>...</th>\n",
       "      <th>ProofType_PoW/PoS</th>\n",
       "      <th>ProofType_PoW/PoS</th>\n",
       "      <th>ProofType_PoW/PoW</th>\n",
       "      <th>ProofType_PoW/nPoS</th>\n",
       "      <th>ProofType_Pos</th>\n",
       "      <th>ProofType_Proof of Authority</th>\n",
       "      <th>ProofType_Proof of Trust</th>\n",
       "      <th>ProofType_TPoS</th>\n",
       "      <th>ProofType_Zero-Knowledge Proof</th>\n",
       "      <th>ProofType_dPoW/PoW</th>\n",
       "    </tr>\n",
       "  </thead>\n",
       "  <tbody>\n",
       "    <tr>\n",
       "      <th>42</th>\n",
       "      <td>4.199995e+01</td>\n",
       "      <td>42</td>\n",
       "      <td>0</td>\n",
       "      <td>0</td>\n",
       "      <td>0</td>\n",
       "      <td>0</td>\n",
       "      <td>0</td>\n",
       "      <td>0</td>\n",
       "      <td>0</td>\n",
       "      <td>0</td>\n",
       "      <td>...</td>\n",
       "      <td>1</td>\n",
       "      <td>0</td>\n",
       "      <td>0</td>\n",
       "      <td>0</td>\n",
       "      <td>0</td>\n",
       "      <td>0</td>\n",
       "      <td>0</td>\n",
       "      <td>0</td>\n",
       "      <td>0</td>\n",
       "      <td>0</td>\n",
       "    </tr>\n",
       "    <tr>\n",
       "      <th>404</th>\n",
       "      <td>1.055185e+09</td>\n",
       "      <td>532000000</td>\n",
       "      <td>0</td>\n",
       "      <td>0</td>\n",
       "      <td>0</td>\n",
       "      <td>0</td>\n",
       "      <td>0</td>\n",
       "      <td>0</td>\n",
       "      <td>0</td>\n",
       "      <td>0</td>\n",
       "      <td>...</td>\n",
       "      <td>1</td>\n",
       "      <td>0</td>\n",
       "      <td>0</td>\n",
       "      <td>0</td>\n",
       "      <td>0</td>\n",
       "      <td>0</td>\n",
       "      <td>0</td>\n",
       "      <td>0</td>\n",
       "      <td>0</td>\n",
       "      <td>0</td>\n",
       "    </tr>\n",
       "    <tr>\n",
       "      <th>1337</th>\n",
       "      <td>2.927942e+10</td>\n",
       "      <td>314159265359</td>\n",
       "      <td>0</td>\n",
       "      <td>0</td>\n",
       "      <td>0</td>\n",
       "      <td>0</td>\n",
       "      <td>0</td>\n",
       "      <td>0</td>\n",
       "      <td>0</td>\n",
       "      <td>0</td>\n",
       "      <td>...</td>\n",
       "      <td>1</td>\n",
       "      <td>0</td>\n",
       "      <td>0</td>\n",
       "      <td>0</td>\n",
       "      <td>0</td>\n",
       "      <td>0</td>\n",
       "      <td>0</td>\n",
       "      <td>0</td>\n",
       "      <td>0</td>\n",
       "      <td>0</td>\n",
       "    </tr>\n",
       "    <tr>\n",
       "      <th>BTC</th>\n",
       "      <td>1.792718e+07</td>\n",
       "      <td>21000000</td>\n",
       "      <td>0</td>\n",
       "      <td>0</td>\n",
       "      <td>0</td>\n",
       "      <td>0</td>\n",
       "      <td>0</td>\n",
       "      <td>0</td>\n",
       "      <td>0</td>\n",
       "      <td>0</td>\n",
       "      <td>...</td>\n",
       "      <td>0</td>\n",
       "      <td>0</td>\n",
       "      <td>0</td>\n",
       "      <td>0</td>\n",
       "      <td>0</td>\n",
       "      <td>0</td>\n",
       "      <td>0</td>\n",
       "      <td>0</td>\n",
       "      <td>0</td>\n",
       "      <td>0</td>\n",
       "    </tr>\n",
       "    <tr>\n",
       "      <th>ETH</th>\n",
       "      <td>1.076842e+08</td>\n",
       "      <td>0</td>\n",
       "      <td>0</td>\n",
       "      <td>0</td>\n",
       "      <td>0</td>\n",
       "      <td>0</td>\n",
       "      <td>0</td>\n",
       "      <td>0</td>\n",
       "      <td>0</td>\n",
       "      <td>0</td>\n",
       "      <td>...</td>\n",
       "      <td>0</td>\n",
       "      <td>0</td>\n",
       "      <td>0</td>\n",
       "      <td>0</td>\n",
       "      <td>0</td>\n",
       "      <td>0</td>\n",
       "      <td>0</td>\n",
       "      <td>0</td>\n",
       "      <td>0</td>\n",
       "      <td>0</td>\n",
       "    </tr>\n",
       "    <tr>\n",
       "      <th>...</th>\n",
       "      <td>...</td>\n",
       "      <td>...</td>\n",
       "      <td>...</td>\n",
       "      <td>...</td>\n",
       "      <td>...</td>\n",
       "      <td>...</td>\n",
       "      <td>...</td>\n",
       "      <td>...</td>\n",
       "      <td>...</td>\n",
       "      <td>...</td>\n",
       "      <td>...</td>\n",
       "      <td>...</td>\n",
       "      <td>...</td>\n",
       "      <td>...</td>\n",
       "      <td>...</td>\n",
       "      <td>...</td>\n",
       "      <td>...</td>\n",
       "      <td>...</td>\n",
       "      <td>...</td>\n",
       "      <td>...</td>\n",
       "      <td>...</td>\n",
       "    </tr>\n",
       "    <tr>\n",
       "      <th>ZEPH</th>\n",
       "      <td>2.000000e+09</td>\n",
       "      <td>2000000000</td>\n",
       "      <td>0</td>\n",
       "      <td>0</td>\n",
       "      <td>0</td>\n",
       "      <td>0</td>\n",
       "      <td>0</td>\n",
       "      <td>0</td>\n",
       "      <td>0</td>\n",
       "      <td>0</td>\n",
       "      <td>...</td>\n",
       "      <td>0</td>\n",
       "      <td>0</td>\n",
       "      <td>0</td>\n",
       "      <td>0</td>\n",
       "      <td>0</td>\n",
       "      <td>0</td>\n",
       "      <td>0</td>\n",
       "      <td>0</td>\n",
       "      <td>0</td>\n",
       "      <td>0</td>\n",
       "    </tr>\n",
       "    <tr>\n",
       "      <th>GAP</th>\n",
       "      <td>1.493105e+07</td>\n",
       "      <td>250000000</td>\n",
       "      <td>0</td>\n",
       "      <td>0</td>\n",
       "      <td>0</td>\n",
       "      <td>0</td>\n",
       "      <td>0</td>\n",
       "      <td>0</td>\n",
       "      <td>0</td>\n",
       "      <td>0</td>\n",
       "      <td>...</td>\n",
       "      <td>1</td>\n",
       "      <td>0</td>\n",
       "      <td>0</td>\n",
       "      <td>0</td>\n",
       "      <td>0</td>\n",
       "      <td>0</td>\n",
       "      <td>0</td>\n",
       "      <td>0</td>\n",
       "      <td>0</td>\n",
       "      <td>0</td>\n",
       "    </tr>\n",
       "    <tr>\n",
       "      <th>BDX</th>\n",
       "      <td>9.802226e+08</td>\n",
       "      <td>1400222610</td>\n",
       "      <td>0</td>\n",
       "      <td>0</td>\n",
       "      <td>0</td>\n",
       "      <td>0</td>\n",
       "      <td>0</td>\n",
       "      <td>0</td>\n",
       "      <td>0</td>\n",
       "      <td>0</td>\n",
       "      <td>...</td>\n",
       "      <td>0</td>\n",
       "      <td>0</td>\n",
       "      <td>0</td>\n",
       "      <td>0</td>\n",
       "      <td>0</td>\n",
       "      <td>0</td>\n",
       "      <td>0</td>\n",
       "      <td>0</td>\n",
       "      <td>0</td>\n",
       "      <td>0</td>\n",
       "    </tr>\n",
       "    <tr>\n",
       "      <th>ZEN</th>\n",
       "      <td>7.296538e+06</td>\n",
       "      <td>21000000</td>\n",
       "      <td>0</td>\n",
       "      <td>0</td>\n",
       "      <td>0</td>\n",
       "      <td>0</td>\n",
       "      <td>0</td>\n",
       "      <td>0</td>\n",
       "      <td>0</td>\n",
       "      <td>0</td>\n",
       "      <td>...</td>\n",
       "      <td>0</td>\n",
       "      <td>0</td>\n",
       "      <td>0</td>\n",
       "      <td>0</td>\n",
       "      <td>0</td>\n",
       "      <td>0</td>\n",
       "      <td>0</td>\n",
       "      <td>0</td>\n",
       "      <td>0</td>\n",
       "      <td>0</td>\n",
       "    </tr>\n",
       "    <tr>\n",
       "      <th>XBC</th>\n",
       "      <td>1.283270e+05</td>\n",
       "      <td>1000000</td>\n",
       "      <td>0</td>\n",
       "      <td>0</td>\n",
       "      <td>0</td>\n",
       "      <td>0</td>\n",
       "      <td>0</td>\n",
       "      <td>0</td>\n",
       "      <td>0</td>\n",
       "      <td>0</td>\n",
       "      <td>...</td>\n",
       "      <td>0</td>\n",
       "      <td>0</td>\n",
       "      <td>0</td>\n",
       "      <td>0</td>\n",
       "      <td>0</td>\n",
       "      <td>0</td>\n",
       "      <td>0</td>\n",
       "      <td>0</td>\n",
       "      <td>0</td>\n",
       "      <td>0</td>\n",
       "    </tr>\n",
       "  </tbody>\n",
       "</table>\n",
       "<p>532 rows × 98 columns</p>\n",
       "</div>"
      ],
      "text/plain": [
       "      TotalCoinsMined TotalCoinSupply  Algorithm_1GB AES Pattern Search  \\\n",
       "42       4.199995e+01              42                                 0   \n",
       "404      1.055185e+09       532000000                                 0   \n",
       "1337     2.927942e+10    314159265359                                 0   \n",
       "BTC      1.792718e+07        21000000                                 0   \n",
       "ETH      1.076842e+08               0                                 0   \n",
       "...               ...             ...                               ...   \n",
       "ZEPH     2.000000e+09      2000000000                                 0   \n",
       "GAP      1.493105e+07       250000000                                 0   \n",
       "BDX      9.802226e+08      1400222610                                 0   \n",
       "ZEN      7.296538e+06        21000000                                 0   \n",
       "XBC      1.283270e+05         1000000                                 0   \n",
       "\n",
       "      Algorithm_536  Algorithm_Argon2d  Algorithm_BLAKE256  Algorithm_Blake  \\\n",
       "42                0                  0                   0                0   \n",
       "404               0                  0                   0                0   \n",
       "1337              0                  0                   0                0   \n",
       "BTC               0                  0                   0                0   \n",
       "ETH               0                  0                   0                0   \n",
       "...             ...                ...                 ...              ...   \n",
       "ZEPH              0                  0                   0                0   \n",
       "GAP               0                  0                   0                0   \n",
       "BDX               0                  0                   0                0   \n",
       "ZEN               0                  0                   0                0   \n",
       "XBC               0                  0                   0                0   \n",
       "\n",
       "      Algorithm_Blake2S  Algorithm_Blake2b  Algorithm_C11  ...  \\\n",
       "42                    0                  0              0  ...   \n",
       "404                   0                  0              0  ...   \n",
       "1337                  0                  0              0  ...   \n",
       "BTC                   0                  0              0  ...   \n",
       "ETH                   0                  0              0  ...   \n",
       "...                 ...                ...            ...  ...   \n",
       "ZEPH                  0                  0              0  ...   \n",
       "GAP                   0                  0              0  ...   \n",
       "BDX                   0                  0              0  ...   \n",
       "ZEN                   0                  0              0  ...   \n",
       "XBC                   0                  0              0  ...   \n",
       "\n",
       "      ProofType_PoW/PoS  ProofType_PoW/PoS   ProofType_PoW/PoW  \\\n",
       "42                    1                   0                  0   \n",
       "404                   1                   0                  0   \n",
       "1337                  1                   0                  0   \n",
       "BTC                   0                   0                  0   \n",
       "ETH                   0                   0                  0   \n",
       "...                 ...                 ...                ...   \n",
       "ZEPH                  0                   0                  0   \n",
       "GAP                   1                   0                  0   \n",
       "BDX                   0                   0                  0   \n",
       "ZEN                   0                   0                  0   \n",
       "XBC                   0                   0                  0   \n",
       "\n",
       "      ProofType_PoW/nPoS  ProofType_Pos  ProofType_Proof of Authority  \\\n",
       "42                     0              0                             0   \n",
       "404                    0              0                             0   \n",
       "1337                   0              0                             0   \n",
       "BTC                    0              0                             0   \n",
       "ETH                    0              0                             0   \n",
       "...                  ...            ...                           ...   \n",
       "ZEPH                   0              0                             0   \n",
       "GAP                    0              0                             0   \n",
       "BDX                    0              0                             0   \n",
       "ZEN                    0              0                             0   \n",
       "XBC                    0              0                             0   \n",
       "\n",
       "      ProofType_Proof of Trust  ProofType_TPoS  \\\n",
       "42                           0               0   \n",
       "404                          0               0   \n",
       "1337                         0               0   \n",
       "BTC                          0               0   \n",
       "ETH                          0               0   \n",
       "...                        ...             ...   \n",
       "ZEPH                         0               0   \n",
       "GAP                          0               0   \n",
       "BDX                          0               0   \n",
       "ZEN                          0               0   \n",
       "XBC                          0               0   \n",
       "\n",
       "      ProofType_Zero-Knowledge Proof  ProofType_dPoW/PoW  \n",
       "42                                 0                   0  \n",
       "404                                0                   0  \n",
       "1337                               0                   0  \n",
       "BTC                                0                   0  \n",
       "ETH                                0                   0  \n",
       "...                              ...                 ...  \n",
       "ZEPH                               0                   0  \n",
       "GAP                                0                   0  \n",
       "BDX                                0                   0  \n",
       "ZEN                                0                   0  \n",
       "XBC                                0                   0  \n",
       "\n",
       "[532 rows x 98 columns]"
      ]
     },
     "execution_count": 229,
     "metadata": {},
     "output_type": "execute_result"
    }
   ],
   "source": [
    "# Use get_dummies() to create variables for text features.\n",
    "crypto_df1 = pd.get_dummies(crypto_df, columns=[\"Algorithm\", 'ProofType'])\n",
    "crypto_df1"
   ]
  },
  {
   "cell_type": "code",
   "execution_count": 230,
   "metadata": {},
   "outputs": [
    {
     "data": {
      "text/plain": [
       "array([[-0.11710817, -0.1528703 , -0.0433963 , -0.0433963 , -0.0433963 ,\n",
       "        -0.06142951, -0.07530656, -0.0433963 , -0.06142951, -0.06142951,\n",
       "        -0.0433963 , -0.0433963 , -0.19245009, -0.06142951, -0.09740465,\n",
       "        -0.0433963 , -0.11547005, -0.07530656, -0.0433963 , -0.0433963 ,\n",
       "        -0.15191091, -0.0433963 , -0.13118084, -0.0433963 , -0.0433963 ,\n",
       "        -0.08703883, -0.0433963 , -0.0433963 , -0.0433963 , -0.0433963 ,\n",
       "        -0.06142951, -0.0433963 , -0.08703883, -0.08703883, -0.08703883,\n",
       "        -0.0433963 , -0.13118084, -0.13840913, -0.13840913, -0.0433963 ,\n",
       "        -0.06142951, -0.0433963 , -0.07530656, -0.18168574, -0.0433963 ,\n",
       "        -0.0433963 , -0.0433963 , -0.07530656, -0.15826614, -0.31491833,\n",
       "        -0.0433963 , -0.08703883, -0.07530656, -0.06142951,  1.38675049,\n",
       "        -0.0433963 , -0.0433963 , -0.06142951, -0.0433963 , -0.0433963 ,\n",
       "        -0.0433963 , -0.0433963 , -0.0433963 , -0.0433963 , -0.0433963 ,\n",
       "        -0.0433963 , -0.39879994, -0.0433963 , -0.18168574, -0.0433963 ,\n",
       "        -0.08703883, -0.08703883, -0.10680283, -0.0433963 , -0.13118084,\n",
       "        -0.0433963 , -0.0433963 , -0.0433963 , -0.0433963 , -0.07530656,\n",
       "        -0.43911856, -0.0433963 , -0.06142951, -0.0433963 , -0.0433963 ,\n",
       "        -0.89632016, -0.0433963 , -0.0433963 ,  1.42222617, -0.0433963 ,\n",
       "        -0.0433963 , -0.0433963 , -0.0433963 , -0.0433963 , -0.0433963 ,\n",
       "        -0.0433963 , -0.0433963 , -0.0433963 ],\n",
       "       [-0.09396955, -0.145009  , -0.0433963 , -0.0433963 , -0.0433963 ,\n",
       "        -0.06142951, -0.07530656, -0.0433963 , -0.06142951, -0.06142951,\n",
       "        -0.0433963 , -0.0433963 , -0.19245009, -0.06142951, -0.09740465,\n",
       "        -0.0433963 , -0.11547005, -0.07530656, -0.0433963 , -0.0433963 ,\n",
       "        -0.15191091, -0.0433963 , -0.13118084, -0.0433963 , -0.0433963 ,\n",
       "        -0.08703883, -0.0433963 , -0.0433963 , -0.0433963 , -0.0433963 ,\n",
       "        -0.06142951, -0.0433963 , -0.08703883, -0.08703883, -0.08703883,\n",
       "        -0.0433963 , -0.13118084, -0.13840913, -0.13840913, -0.0433963 ,\n",
       "        -0.06142951, -0.0433963 , -0.07530656, -0.18168574, -0.0433963 ,\n",
       "        -0.0433963 , -0.0433963 , -0.07530656, -0.15826614, -0.31491833,\n",
       "        -0.0433963 , -0.08703883, -0.07530656, -0.06142951,  1.38675049,\n",
       "        -0.0433963 , -0.0433963 , -0.06142951, -0.0433963 , -0.0433963 ,\n",
       "        -0.0433963 , -0.0433963 , -0.0433963 , -0.0433963 , -0.0433963 ,\n",
       "        -0.0433963 , -0.39879994, -0.0433963 , -0.18168574, -0.0433963 ,\n",
       "        -0.08703883, -0.08703883, -0.10680283, -0.0433963 , -0.13118084,\n",
       "        -0.0433963 , -0.0433963 , -0.0433963 , -0.0433963 , -0.07530656,\n",
       "        -0.43911856, -0.0433963 , -0.06142951, -0.0433963 , -0.0433963 ,\n",
       "        -0.89632016, -0.0433963 , -0.0433963 ,  1.42222617, -0.0433963 ,\n",
       "        -0.0433963 , -0.0433963 , -0.0433963 , -0.0433963 , -0.0433963 ,\n",
       "        -0.0433963 , -0.0433963 , -0.0433963 ],\n",
       "       [ 0.52494561,  4.48942416, -0.0433963 , -0.0433963 , -0.0433963 ,\n",
       "        -0.06142951, -0.07530656, -0.0433963 , -0.06142951, -0.06142951,\n",
       "        -0.0433963 , -0.0433963 , -0.19245009, -0.06142951, -0.09740465,\n",
       "        -0.0433963 , -0.11547005, -0.07530656, -0.0433963 , -0.0433963 ,\n",
       "        -0.15191091, -0.0433963 , -0.13118084, -0.0433963 , -0.0433963 ,\n",
       "        -0.08703883, -0.0433963 , -0.0433963 , -0.0433963 , -0.0433963 ,\n",
       "        -0.06142951, -0.0433963 , -0.08703883, -0.08703883, -0.08703883,\n",
       "        -0.0433963 , -0.13118084, -0.13840913, -0.13840913, -0.0433963 ,\n",
       "        -0.06142951, -0.0433963 , -0.07530656, -0.18168574, -0.0433963 ,\n",
       "        -0.0433963 , -0.0433963 , -0.07530656, -0.15826614, -0.31491833,\n",
       "        -0.0433963 , -0.08703883, -0.07530656, -0.06142951, -0.72111026,\n",
       "        -0.0433963 , -0.0433963 , -0.06142951, -0.0433963 , -0.0433963 ,\n",
       "        -0.0433963 , -0.0433963 , -0.0433963 , -0.0433963 , -0.0433963 ,\n",
       "        -0.0433963 , -0.39879994, -0.0433963 ,  5.50400923, -0.0433963 ,\n",
       "        -0.08703883, -0.08703883, -0.10680283, -0.0433963 , -0.13118084,\n",
       "        -0.0433963 , -0.0433963 , -0.0433963 , -0.0433963 , -0.07530656,\n",
       "        -0.43911856, -0.0433963 , -0.06142951, -0.0433963 , -0.0433963 ,\n",
       "        -0.89632016, -0.0433963 , -0.0433963 ,  1.42222617, -0.0433963 ,\n",
       "        -0.0433963 , -0.0433963 , -0.0433963 , -0.0433963 , -0.0433963 ,\n",
       "        -0.0433963 , -0.0433963 , -0.0433963 ],\n",
       "       [-0.11671506, -0.15255998, -0.0433963 , -0.0433963 , -0.0433963 ,\n",
       "        -0.06142951, -0.07530656, -0.0433963 , -0.06142951, -0.06142951,\n",
       "        -0.0433963 , -0.0433963 , -0.19245009, -0.06142951, -0.09740465,\n",
       "        -0.0433963 , -0.11547005, -0.07530656, -0.0433963 , -0.0433963 ,\n",
       "        -0.15191091, -0.0433963 , -0.13118084, -0.0433963 , -0.0433963 ,\n",
       "        -0.08703883, -0.0433963 , -0.0433963 , -0.0433963 , -0.0433963 ,\n",
       "        -0.06142951, -0.0433963 , -0.08703883, -0.08703883, -0.08703883,\n",
       "        -0.0433963 , -0.13118084, -0.13840913, -0.13840913, -0.0433963 ,\n",
       "        -0.06142951, -0.0433963 , -0.07530656, -0.18168574, -0.0433963 ,\n",
       "        -0.0433963 , -0.0433963 , -0.07530656, -0.15826614,  3.17542648,\n",
       "        -0.0433963 , -0.08703883, -0.07530656, -0.06142951, -0.72111026,\n",
       "        -0.0433963 , -0.0433963 , -0.06142951, -0.0433963 , -0.0433963 ,\n",
       "        -0.0433963 , -0.0433963 , -0.0433963 , -0.0433963 , -0.0433963 ,\n",
       "        -0.0433963 , -0.39879994, -0.0433963 , -0.18168574, -0.0433963 ,\n",
       "        -0.08703883, -0.08703883, -0.10680283, -0.0433963 , -0.13118084,\n",
       "        -0.0433963 , -0.0433963 , -0.0433963 , -0.0433963 , -0.07530656,\n",
       "        -0.43911856, -0.0433963 , -0.06142951, -0.0433963 , -0.0433963 ,\n",
       "         1.11567277, -0.0433963 , -0.0433963 , -0.70312305, -0.0433963 ,\n",
       "        -0.0433963 , -0.0433963 , -0.0433963 , -0.0433963 , -0.0433963 ,\n",
       "        -0.0433963 , -0.0433963 , -0.0433963 ],\n",
       "       [-0.11474682, -0.1528703 , -0.0433963 , -0.0433963 , -0.0433963 ,\n",
       "        -0.06142951, -0.07530656, -0.0433963 , -0.06142951, -0.06142951,\n",
       "        -0.0433963 , -0.0433963 , -0.19245009, -0.06142951, -0.09740465,\n",
       "        -0.0433963 , -0.11547005, -0.07530656, -0.0433963 , -0.0433963 ,\n",
       "        -0.15191091, -0.0433963 ,  7.62306442, -0.0433963 , -0.0433963 ,\n",
       "        -0.08703883, -0.0433963 , -0.0433963 , -0.0433963 , -0.0433963 ,\n",
       "        -0.06142951, -0.0433963 , -0.08703883, -0.08703883, -0.08703883,\n",
       "        -0.0433963 , -0.13118084, -0.13840913, -0.13840913, -0.0433963 ,\n",
       "        -0.06142951, -0.0433963 , -0.07530656, -0.18168574, -0.0433963 ,\n",
       "        -0.0433963 , -0.0433963 , -0.07530656, -0.15826614, -0.31491833,\n",
       "        -0.0433963 , -0.08703883, -0.07530656, -0.06142951, -0.72111026,\n",
       "        -0.0433963 , -0.0433963 , -0.06142951, -0.0433963 , -0.0433963 ,\n",
       "        -0.0433963 , -0.0433963 , -0.0433963 , -0.0433963 , -0.0433963 ,\n",
       "        -0.0433963 , -0.39879994, -0.0433963 , -0.18168574, -0.0433963 ,\n",
       "        -0.08703883, -0.08703883, -0.10680283, -0.0433963 , -0.13118084,\n",
       "        -0.0433963 , -0.0433963 , -0.0433963 , -0.0433963 , -0.07530656,\n",
       "        -0.43911856, -0.0433963 , -0.06142951, -0.0433963 , -0.0433963 ,\n",
       "         1.11567277, -0.0433963 , -0.0433963 , -0.70312305, -0.0433963 ,\n",
       "        -0.0433963 , -0.0433963 , -0.0433963 , -0.0433963 , -0.0433963 ,\n",
       "        -0.0433963 , -0.0433963 , -0.0433963 ]])"
      ]
     },
     "execution_count": 230,
     "metadata": {},
     "output_type": "execute_result"
    }
   ],
   "source": [
    "# Standardize the data with StandardScaler().\n",
    "#crypto_df.dtypes\n",
    "data_scaler = StandardScaler()\n",
    "crypto_df_scaled = data_scaler.fit_transform(crypto_df1)\n",
    "crypto_df_scaled[:5]"
   ]
  },
  {
   "cell_type": "markdown",
   "metadata": {},
   "source": [
    "### Deliverable 2: Reducing Data Dimensions Using PCA"
   ]
  },
  {
   "cell_type": "code",
   "execution_count": 231,
   "metadata": {},
   "outputs": [
    {
     "data": {
      "text/plain": [
       "array([[-0.32892483,  1.08391012, -0.5611957 ],\n",
       "       [-0.31224685,  1.08408819, -0.56160529],\n",
       "       [ 2.31223407,  1.61831975, -0.66121241],\n",
       "       ...,\n",
       "       [ 0.33211244, -2.31238506,  0.40941732],\n",
       "       [-0.15156256, -2.01632573,  0.41677538],\n",
       "       [-0.2798876 ,  0.87375709, -0.25340878]])"
      ]
     },
     "execution_count": 231,
     "metadata": {},
     "output_type": "execute_result"
    }
   ],
   "source": [
    "# Using PCA to reduce dimension to three principal components.\n",
    "# Initialize PCA model\n",
    "pca = PCA(n_components=3)\n",
    "crypto_pca = pca.fit_transform(crypto_df_scaled)\n",
    "crypto_pca"
   ]
  },
  {
   "cell_type": "code",
   "execution_count": 232,
   "metadata": {},
   "outputs": [
    {
     "data": {
      "text/html": [
       "<div>\n",
       "<style scoped>\n",
       "    .dataframe tbody tr th:only-of-type {\n",
       "        vertical-align: middle;\n",
       "    }\n",
       "\n",
       "    .dataframe tbody tr th {\n",
       "        vertical-align: top;\n",
       "    }\n",
       "\n",
       "    .dataframe thead th {\n",
       "        text-align: right;\n",
       "    }\n",
       "</style>\n",
       "<table border=\"1\" class=\"dataframe\">\n",
       "  <thead>\n",
       "    <tr style=\"text-align: right;\">\n",
       "      <th></th>\n",
       "      <th>pc1</th>\n",
       "      <th>pc2</th>\n",
       "      <th>pc3</th>\n",
       "    </tr>\n",
       "  </thead>\n",
       "  <tbody>\n",
       "    <tr>\n",
       "      <th>42</th>\n",
       "      <td>-0.328925</td>\n",
       "      <td>1.083910</td>\n",
       "      <td>-0.561196</td>\n",
       "    </tr>\n",
       "    <tr>\n",
       "      <th>404</th>\n",
       "      <td>-0.312247</td>\n",
       "      <td>1.084088</td>\n",
       "      <td>-0.561605</td>\n",
       "    </tr>\n",
       "    <tr>\n",
       "      <th>1337</th>\n",
       "      <td>2.312234</td>\n",
       "      <td>1.618320</td>\n",
       "      <td>-0.661212</td>\n",
       "    </tr>\n",
       "    <tr>\n",
       "      <th>BTC</th>\n",
       "      <td>-0.146176</td>\n",
       "      <td>-1.354912</td>\n",
       "      <td>0.171761</td>\n",
       "    </tr>\n",
       "    <tr>\n",
       "      <th>ETH</th>\n",
       "      <td>-0.143578</td>\n",
       "      <td>-2.100166</td>\n",
       "      <td>0.296442</td>\n",
       "    </tr>\n",
       "    <tr>\n",
       "      <th>...</th>\n",
       "      <td>...</td>\n",
       "      <td>...</td>\n",
       "      <td>...</td>\n",
       "    </tr>\n",
       "    <tr>\n",
       "      <th>ZEPH</th>\n",
       "      <td>2.457294</td>\n",
       "      <td>0.775829</td>\n",
       "      <td>-0.023265</td>\n",
       "    </tr>\n",
       "    <tr>\n",
       "      <th>GAP</th>\n",
       "      <td>-0.326968</td>\n",
       "      <td>1.083797</td>\n",
       "      <td>-0.561223</td>\n",
       "    </tr>\n",
       "    <tr>\n",
       "      <th>BDX</th>\n",
       "      <td>0.332112</td>\n",
       "      <td>-2.312385</td>\n",
       "      <td>0.409417</td>\n",
       "    </tr>\n",
       "    <tr>\n",
       "      <th>ZEN</th>\n",
       "      <td>-0.151563</td>\n",
       "      <td>-2.016326</td>\n",
       "      <td>0.416775</td>\n",
       "    </tr>\n",
       "    <tr>\n",
       "      <th>XBC</th>\n",
       "      <td>-0.279888</td>\n",
       "      <td>0.873757</td>\n",
       "      <td>-0.253409</td>\n",
       "    </tr>\n",
       "  </tbody>\n",
       "</table>\n",
       "<p>532 rows × 3 columns</p>\n",
       "</div>"
      ],
      "text/plain": [
       "           pc1       pc2       pc3\n",
       "42   -0.328925  1.083910 -0.561196\n",
       "404  -0.312247  1.084088 -0.561605\n",
       "1337  2.312234  1.618320 -0.661212\n",
       "BTC  -0.146176 -1.354912  0.171761\n",
       "ETH  -0.143578 -2.100166  0.296442\n",
       "...        ...       ...       ...\n",
       "ZEPH  2.457294  0.775829 -0.023265\n",
       "GAP  -0.326968  1.083797 -0.561223\n",
       "BDX   0.332112 -2.312385  0.409417\n",
       "ZEN  -0.151563 -2.016326  0.416775\n",
       "XBC  -0.279888  0.873757 -0.253409\n",
       "\n",
       "[532 rows x 3 columns]"
      ]
     },
     "execution_count": 232,
     "metadata": {},
     "output_type": "execute_result"
    }
   ],
   "source": [
    "# Create a DataFrame with the three principal components.\n",
    "pcs_df = pd.DataFrame(\n",
    "    data=crypto_pca, columns=[\"pc1\", \"pc2\", \"pc3\"]\n",
    ")\n",
    "pcs_df.index = df2.index\n",
    "pcs_df"
   ]
  },
  {
   "cell_type": "markdown",
   "metadata": {},
   "source": [
    "### Deliverable 3: Clustering Crytocurrencies Using K-Means\n",
    "\n",
    "#### Finding the Best Value for `k` Using the Elbow Curve"
   ]
  },
  {
   "cell_type": "code",
   "execution_count": 233,
   "metadata": {},
   "outputs": [
    {
     "name": "stderr",
     "output_type": "stream",
     "text": [
      "C:\\opt\\Anaconda3\\lib\\site-packages\\sklearn\\cluster\\_kmeans.py:1039: UserWarning: KMeans is known to have a memory leak on Windows with MKL, when there are less chunks than available threads. You can avoid it by setting the environment variable OMP_NUM_THREADS=3.\n",
      "  warnings.warn(\n"
     ]
    },
    {
     "data": {},
     "metadata": {},
     "output_type": "display_data"
    },
    {
     "data": {
      "application/vnd.holoviews_exec.v0+json": "",
      "text/html": [
       "<div id='1120'>\n",
       "\n",
       "\n",
       "\n",
       "\n",
       "\n",
       "  <div class=\"bk-root\" id=\"618ae8a7-b40e-4975-9d43-4f4cea90a3d3\" data-root-id=\"1120\"></div>\n",
       "</div>\n",
       "<script type=\"application/javascript\">(function(root) {\n",
       "  function embed_document(root) {\n",
       "    var docs_json = {\"d723629a-3aa8-4b62-a76e-0ca7c3807e16\":{\"defs\":[{\"extends\":null,\"module\":null,\"name\":\"ReactiveHTML1\",\"overrides\":[],\"properties\":[]},{\"extends\":null,\"module\":null,\"name\":\"FlexBox1\",\"overrides\":[],\"properties\":[{\"default\":\"flex-start\",\"kind\":null,\"name\":\"align_content\"},{\"default\":\"flex-start\",\"kind\":null,\"name\":\"align_items\"},{\"default\":\"row\",\"kind\":null,\"name\":\"flex_direction\"},{\"default\":\"wrap\",\"kind\":null,\"name\":\"flex_wrap\"},{\"default\":\"flex-start\",\"kind\":null,\"name\":\"justify_content\"}]},{\"extends\":null,\"module\":null,\"name\":\"TemplateActions1\",\"overrides\":[],\"properties\":[{\"default\":0,\"kind\":null,\"name\":\"open_modal\"},{\"default\":0,\"kind\":null,\"name\":\"close_modal\"}]},{\"extends\":null,\"module\":null,\"name\":\"MaterialTemplateActions1\",\"overrides\":[],\"properties\":[{\"default\":0,\"kind\":null,\"name\":\"open_modal\"},{\"default\":0,\"kind\":null,\"name\":\"close_modal\"}]}],\"roots\":{\"references\":[{\"attributes\":{},\"id\":\"1139\",\"type\":\"BasicTicker\"},{\"attributes\":{},\"id\":\"1144\",\"type\":\"WheelZoomTool\"},{\"attributes\":{},\"id\":\"1142\",\"type\":\"SaveTool\"},{\"attributes\":{\"margin\":[5,5,5,5],\"name\":\"HSpacer01809\",\"sizing_mode\":\"stretch_width\"},\"id\":\"1121\",\"type\":\"Spacer\"},{\"attributes\":{\"overlay\":{\"id\":\"1147\"}},\"id\":\"1145\",\"type\":\"BoxZoomTool\"},{\"attributes\":{},\"id\":\"1146\",\"type\":\"ResetTool\"},{\"attributes\":{\"data_source\":{\"id\":\"1155\"},\"glyph\":{\"id\":\"1158\"},\"hover_glyph\":null,\"muted_glyph\":{\"id\":\"1160\"},\"nonselection_glyph\":{\"id\":\"1159\"},\"selection_glyph\":{\"id\":\"1163\"},\"view\":{\"id\":\"1162\"}},\"id\":\"1161\",\"type\":\"GlyphRenderer\"},{\"attributes\":{\"active_multi\":null,\"tools\":[{\"id\":\"1124\"},{\"id\":\"1142\"},{\"id\":\"1143\"},{\"id\":\"1144\"},{\"id\":\"1145\"},{\"id\":\"1146\"}]},\"id\":\"1148\",\"type\":\"Toolbar\"},{\"attributes\":{\"line_color\":\"#30a2da\",\"line_width\":2,\"x\":{\"field\":\"k\"},\"y\":{\"field\":\"inertia\"}},\"id\":\"1158\",\"type\":\"Line\"},{\"attributes\":{},\"id\":\"1156\",\"type\":\"Selection\"},{\"attributes\":{\"end\":10.0,\"reset_end\":10.0,\"reset_start\":1.0,\"start\":1.0,\"tags\":[[[\"k\",\"k\",null]]]},\"id\":\"1122\",\"type\":\"Range1d\"},{\"attributes\":{\"ticks\":[1,2,3,4,5,6,7,8,9,10]},\"id\":\"1164\",\"type\":\"FixedTicker\"},{\"attributes\":{\"line_alpha\":0.1,\"line_color\":\"#30a2da\",\"line_width\":2,\"x\":{\"field\":\"k\"},\"y\":{\"field\":\"inertia\"}},\"id\":\"1159\",\"type\":\"Line\"},{\"attributes\":{\"callback\":null,\"renderers\":[{\"id\":\"1161\"}],\"tags\":[\"hv_created\"],\"tooltips\":[[\"k\",\"@{k}\"],[\"inertia\",\"@{inertia}\"]]},\"id\":\"1124\",\"type\":\"HoverTool\"},{\"attributes\":{\"line_alpha\":0.2,\"line_color\":\"#30a2da\",\"line_width\":2,\"x\":{\"field\":\"k\"},\"y\":{\"field\":\"inertia\"}},\"id\":\"1160\",\"type\":\"Line\"},{\"attributes\":{\"margin\":[5,5,5,5],\"name\":\"HSpacer01810\",\"sizing_mode\":\"stretch_width\"},\"id\":\"1191\",\"type\":\"Spacer\"},{\"attributes\":{\"line_color\":\"#30a2da\",\"line_width\":2,\"x\":{\"field\":\"k\"},\"y\":{\"field\":\"inertia\"}},\"id\":\"1163\",\"type\":\"Line\"},{\"attributes\":{\"source\":{\"id\":\"1155\"}},\"id\":\"1162\",\"type\":\"CDSView\"},{\"attributes\":{\"data\":{\"inertia\":{\"__ndarray__\":\"w/3l43FyrEBgQJMhy1WjQFKPi13s/5ZAspJNiJZFfkAFYismOCZyQM/8kDEQ7GtAFyuqmzrsZUDE2ZIAbm5iQDp5CHoQ6V1ALfv/ZSjcV0A=\",\"dtype\":\"float64\",\"order\":\"little\",\"shape\":[10]},\"k\":[1,2,3,4,5,6,7,8,9,10]},\"selected\":{\"id\":\"1156\"},\"selection_policy\":{\"id\":\"1179\"}},\"id\":\"1155\",\"type\":\"ColumnDataSource\"},{\"attributes\":{\"text\":\"Elbow Curve\",\"text_color\":\"black\",\"text_font_size\":\"12pt\"},\"id\":\"1126\",\"type\":\"Title\"},{\"attributes\":{\"bottom_units\":\"screen\",\"fill_alpha\":0.5,\"fill_color\":\"lightgrey\",\"left_units\":\"screen\",\"level\":\"overlay\",\"line_alpha\":1.0,\"line_color\":\"black\",\"line_dash\":[4,4],\"line_width\":2,\"right_units\":\"screen\",\"syncable\":false,\"top_units\":\"screen\"},\"id\":\"1147\",\"type\":\"BoxAnnotation\"},{\"attributes\":{\"end\":3995.8006894645227,\"reset_end\":3995.8006894645227,\"reset_start\":-259.138281887763,\"start\":-259.138281887763,\"tags\":[[[\"inertia\",\"inertia\",null]]]},\"id\":\"1123\",\"type\":\"Range1d\"},{\"attributes\":{\"children\":[{\"id\":\"1121\"},{\"id\":\"1125\"},{\"id\":\"1191\"}],\"margin\":[0,0,0,0],\"name\":\"Row01805\",\"tags\":[\"embedded\"]},\"id\":\"1120\",\"type\":\"Row\"},{\"attributes\":{},\"id\":\"1165\",\"type\":\"BasicTickFormatter\"},{\"attributes\":{},\"id\":\"1130\",\"type\":\"LinearScale\"},{\"attributes\":{},\"id\":\"1166\",\"type\":\"AllLabels\"},{\"attributes\":{},\"id\":\"1143\",\"type\":\"PanTool\"},{\"attributes\":{},\"id\":\"1132\",\"type\":\"LinearScale\"},{\"attributes\":{},\"id\":\"1170\",\"type\":\"BasicTickFormatter\"},{\"attributes\":{},\"id\":\"1179\",\"type\":\"UnionRenderers\"},{\"attributes\":{\"below\":[{\"id\":\"1134\"}],\"center\":[{\"id\":\"1137\"},{\"id\":\"1141\"}],\"height\":300,\"left\":[{\"id\":\"1138\"}],\"margin\":[5,5,5,5],\"min_border_bottom\":10,\"min_border_left\":10,\"min_border_right\":10,\"min_border_top\":10,\"renderers\":[{\"id\":\"1161\"}],\"sizing_mode\":\"fixed\",\"title\":{\"id\":\"1126\"},\"toolbar\":{\"id\":\"1148\"},\"width\":700,\"x_range\":{\"id\":\"1122\"},\"x_scale\":{\"id\":\"1130\"},\"y_range\":{\"id\":\"1123\"},\"y_scale\":{\"id\":\"1132\"}},\"id\":\"1125\",\"subtype\":\"Figure\",\"type\":\"Plot\"},{\"attributes\":{\"axis\":{\"id\":\"1134\"},\"grid_line_color\":null,\"ticker\":null},\"id\":\"1137\",\"type\":\"Grid\"},{\"attributes\":{},\"id\":\"1171\",\"type\":\"AllLabels\"},{\"attributes\":{\"axis_label\":\"k\",\"formatter\":{\"id\":\"1165\"},\"major_label_policy\":{\"id\":\"1166\"},\"ticker\":{\"id\":\"1164\"}},\"id\":\"1134\",\"type\":\"LinearAxis\"},{\"attributes\":{\"axis\":{\"id\":\"1138\"},\"dimension\":1,\"grid_line_color\":null,\"ticker\":null},\"id\":\"1141\",\"type\":\"Grid\"},{\"attributes\":{\"axis_label\":\"inertia\",\"formatter\":{\"id\":\"1170\"},\"major_label_policy\":{\"id\":\"1171\"},\"ticker\":{\"id\":\"1139\"}},\"id\":\"1138\",\"type\":\"LinearAxis\"}],\"root_ids\":[\"1120\"]},\"title\":\"Bokeh Application\",\"version\":\"2.3.3\"}};\n",
       "    var render_items = [{\"docid\":\"d723629a-3aa8-4b62-a76e-0ca7c3807e16\",\"root_ids\":[\"1120\"],\"roots\":{\"1120\":\"618ae8a7-b40e-4975-9d43-4f4cea90a3d3\"}}];\n",
       "    root.Bokeh.embed.embed_items_notebook(docs_json, render_items);\n",
       "  }\n",
       "  if (root.Bokeh !== undefined && root.Bokeh.Panel !== undefined) {\n",
       "    embed_document(root);\n",
       "  } else {\n",
       "    var attempts = 0;\n",
       "    var timer = setInterval(function(root) {\n",
       "      if (root.Bokeh !== undefined && root.Bokeh.Panel !== undefined) {\n",
       "        clearInterval(timer);\n",
       "        embed_document(root);\n",
       "      } else if (document.readyState == \"complete\") {\n",
       "        attempts++;\n",
       "        if (attempts > 200) {\n",
       "          clearInterval(timer);\n",
       "          console.log(\"Bokeh: ERROR: Unable to run BokehJS code because BokehJS library is missing\");\n",
       "        }\n",
       "      }\n",
       "    }, 25, root)\n",
       "  }\n",
       "})(window);</script>"
      ],
      "text/plain": [
       ":Curve   [k]   (inertia)"
      ]
     },
     "execution_count": 233,
     "metadata": {
      "application/vnd.holoviews_exec.v0+json": {
       "id": "1120"
      }
     },
     "output_type": "execute_result"
    }
   ],
   "source": [
    "# Create an elbow curve to find the best value for K.\n",
    "inertia = []\n",
    "k = list(range(1, 11))\n",
    "for i in k:\n",
    "    km = KMeans(n_clusters=i, random_state=0)\n",
    "    km.fit(pcs_df)\n",
    "    inertia.append(km.inertia_)\n",
    "elbow_data = {\"k\": k, \"inertia\": inertia}\n",
    "df_elbow = pd.DataFrame(elbow_data)\n",
    "df_elbow.hvplot.line(x=\"k\", y=\"inertia\", xticks=k, title=\"Elbow Curve\")"
   ]
  },
  {
   "cell_type": "markdown",
   "metadata": {},
   "source": [
    "Running K-Means with `k=4`"
   ]
  },
  {
   "cell_type": "code",
   "execution_count": 234,
   "metadata": {},
   "outputs": [
    {
     "data": {
      "text/plain": [
       "array([0, 0, 0, 3, 3, 3, 0, 3, 3, 3, 0, 3, 0, 0, 3, 0, 3, 3, 0, 0, 3, 3,\n",
       "       3, 3, 3, 0, 3, 3, 3, 0, 3, 0, 3, 3, 0, 0, 3, 3, 3, 3, 3, 3, 0, 0,\n",
       "       3, 3, 3, 3, 3, 0, 0, 3, 0, 3, 3, 3, 3, 0, 3, 3, 0, 3, 0, 0, 0, 3,\n",
       "       3, 3, 0, 0, 0, 0, 0, 3, 3, 3, 0, 0, 3, 0, 3, 0, 0, 3, 3, 3, 3, 0,\n",
       "       0, 3, 0, 3, 3, 0, 0, 3, 0, 0, 3, 3, 0, 0, 3, 0, 0, 3, 0, 3, 0, 3,\n",
       "       0, 3, 0, 0, 3, 3, 0, 3, 3, 3, 0, 3, 3, 3, 3, 3, 0, 0, 3, 3, 3, 0,\n",
       "       3, 0, 3, 3, 0, 3, 0, 3, 0, 0, 3, 3, 0, 3, 3, 0, 0, 3, 0, 3, 0, 0,\n",
       "       0, 3, 3, 3, 3, 0, 0, 0, 0, 0, 3, 3, 0, 0, 0, 0, 0, 3, 0, 0, 0, 0,\n",
       "       0, 3, 0, 3, 0, 0, 3, 0, 3, 0, 0, 3, 0, 3, 0, 3, 0, 3, 0, 0, 0, 0,\n",
       "       3, 0, 0, 0, 0, 0, 3, 3, 0, 0, 3, 3, 0, 0, 0, 0, 0, 3, 0, 0, 0, 0,\n",
       "       0, 0, 0, 0, 3, 0, 0, 0, 0, 0, 0, 3, 3, 3, 0, 0, 0, 0, 3, 0, 3, 0,\n",
       "       0, 3, 0, 3, 3, 0, 3, 3, 0, 3, 0, 0, 0, 3, 0, 0, 3, 0, 0, 0, 0, 0,\n",
       "       0, 0, 3, 0, 3, 0, 0, 0, 0, 3, 0, 3, 0, 3, 3, 3, 3, 0, 3, 0, 0, 3,\n",
       "       0, 3, 3, 3, 0, 3, 0, 3, 3, 3, 0, 3, 0, 3, 0, 0, 0, 3, 0, 3, 3, 3,\n",
       "       3, 3, 0, 0, 3, 0, 0, 0, 3, 0, 3, 0, 3, 0, 3, 0, 0, 0, 0, 3, 0, 0,\n",
       "       3, 0, 0, 0, 3, 3, 3, 3, 0, 0, 0, 0, 3, 0, 3, 3, 3, 0, 0, 3, 3, 0,\n",
       "       0, 3, 0, 3, 3, 3, 0, 3, 3, 0, 0, 0, 3, 3, 3, 0, 3, 0, 3, 3, 0, 3,\n",
       "       3, 3, 3, 0, 1, 1, 3, 3, 3, 0, 1, 0, 0, 0, 0, 3, 3, 3, 3, 0, 0, 0,\n",
       "       3, 0, 3, 0, 0, 0, 0, 3, 0, 0, 3, 0, 0, 3, 3, 0, 3, 0, 3, 3, 3, 3,\n",
       "       0, 0, 3, 0, 3, 0, 0, 0, 0, 0, 0, 3, 3, 3, 0, 0, 0, 0, 0, 0, 3, 0,\n",
       "       3, 3, 3, 3, 0, 0, 0, 0, 3, 0, 0, 3, 0, 0, 3, 1, 3, 0, 3, 3, 0, 0,\n",
       "       3, 0, 3, 3, 0, 3, 3, 0, 3, 0, 3, 0, 0, 3, 0, 0, 0, 0, 0, 3, 3, 3,\n",
       "       0, 0, 0, 3, 0, 3, 0, 3, 0, 0, 0, 0, 3, 0, 0, 0, 3, 0, 3, 0, 3, 0,\n",
       "       0, 0, 3, 3, 0, 0, 0, 0, 0, 0, 3, 0, 3, 0, 3, 0, 0, 1, 0, 2, 0, 0,\n",
       "       0, 3, 3, 0])"
      ]
     },
     "execution_count": 234,
     "metadata": {},
     "output_type": "execute_result"
    }
   ],
   "source": [
    "# Initialize the K-Means model.\n",
    "model = KMeans(n_clusters=4, random_state=0)\n",
    "\n",
    "# Fit the model\n",
    "model.fit(pcs_df)\n",
    "\n",
    "# Predict clusters\n",
    "predictions = model.predict(pcs_df)\n",
    "predictions"
   ]
  },
  {
   "cell_type": "code",
   "execution_count": 241,
   "metadata": {},
   "outputs": [
    {
     "name": "stdout",
     "output_type": "stream",
     "text": [
      "(532, 9)\n"
     ]
    },
    {
     "data": {
      "text/html": [
       "<div>\n",
       "<style scoped>\n",
       "    .dataframe tbody tr th:only-of-type {\n",
       "        vertical-align: middle;\n",
       "    }\n",
       "\n",
       "    .dataframe tbody tr th {\n",
       "        vertical-align: top;\n",
       "    }\n",
       "\n",
       "    .dataframe thead th {\n",
       "        text-align: right;\n",
       "    }\n",
       "</style>\n",
       "<table border=\"1\" class=\"dataframe\">\n",
       "  <thead>\n",
       "    <tr style=\"text-align: right;\">\n",
       "      <th></th>\n",
       "      <th>Algorithm</th>\n",
       "      <th>ProofType</th>\n",
       "      <th>TotalCoinsMined</th>\n",
       "      <th>TotalCoinSupply</th>\n",
       "      <th>pc1</th>\n",
       "      <th>pc2</th>\n",
       "      <th>pc3</th>\n",
       "      <th>CoinName</th>\n",
       "      <th>class</th>\n",
       "    </tr>\n",
       "  </thead>\n",
       "  <tbody>\n",
       "    <tr>\n",
       "      <th>42</th>\n",
       "      <td>Scrypt</td>\n",
       "      <td>PoW/PoS</td>\n",
       "      <td>4.199995e+01</td>\n",
       "      <td>42</td>\n",
       "      <td>-0.328925</td>\n",
       "      <td>1.083910</td>\n",
       "      <td>-0.561196</td>\n",
       "      <td>42 Coin</td>\n",
       "      <td>0</td>\n",
       "    </tr>\n",
       "    <tr>\n",
       "      <th>404</th>\n",
       "      <td>Scrypt</td>\n",
       "      <td>PoW/PoS</td>\n",
       "      <td>1.055185e+09</td>\n",
       "      <td>532000000</td>\n",
       "      <td>-0.312247</td>\n",
       "      <td>1.084088</td>\n",
       "      <td>-0.561605</td>\n",
       "      <td>404Coin</td>\n",
       "      <td>0</td>\n",
       "    </tr>\n",
       "    <tr>\n",
       "      <th>1337</th>\n",
       "      <td>X13</td>\n",
       "      <td>PoW/PoS</td>\n",
       "      <td>2.927942e+10</td>\n",
       "      <td>314159265359</td>\n",
       "      <td>2.312234</td>\n",
       "      <td>1.618320</td>\n",
       "      <td>-0.661212</td>\n",
       "      <td>EliteCoin</td>\n",
       "      <td>0</td>\n",
       "    </tr>\n",
       "    <tr>\n",
       "      <th>BTC</th>\n",
       "      <td>SHA-256</td>\n",
       "      <td>PoW</td>\n",
       "      <td>1.792718e+07</td>\n",
       "      <td>21000000</td>\n",
       "      <td>-0.146176</td>\n",
       "      <td>-1.354912</td>\n",
       "      <td>0.171761</td>\n",
       "      <td>Bitcoin</td>\n",
       "      <td>3</td>\n",
       "    </tr>\n",
       "    <tr>\n",
       "      <th>ETH</th>\n",
       "      <td>Ethash</td>\n",
       "      <td>PoW</td>\n",
       "      <td>1.076842e+08</td>\n",
       "      <td>0</td>\n",
       "      <td>-0.143578</td>\n",
       "      <td>-2.100166</td>\n",
       "      <td>0.296442</td>\n",
       "      <td>Ethereum</td>\n",
       "      <td>3</td>\n",
       "    </tr>\n",
       "    <tr>\n",
       "      <th>LTC</th>\n",
       "      <td>Scrypt</td>\n",
       "      <td>PoW</td>\n",
       "      <td>6.303924e+07</td>\n",
       "      <td>84000000</td>\n",
       "      <td>-0.158658</td>\n",
       "      <td>-1.074373</td>\n",
       "      <td>-0.002583</td>\n",
       "      <td>Litecoin</td>\n",
       "      <td>3</td>\n",
       "    </tr>\n",
       "    <tr>\n",
       "      <th>DASH</th>\n",
       "      <td>X11</td>\n",
       "      <td>PoW/PoS</td>\n",
       "      <td>9.031294e+06</td>\n",
       "      <td>22000000</td>\n",
       "      <td>-0.410637</td>\n",
       "      <td>1.191347</td>\n",
       "      <td>-0.539523</td>\n",
       "      <td>Dash</td>\n",
       "      <td>0</td>\n",
       "    </tr>\n",
       "    <tr>\n",
       "      <th>XMR</th>\n",
       "      <td>CryptoNight-V7</td>\n",
       "      <td>PoW</td>\n",
       "      <td>1.720114e+07</td>\n",
       "      <td>0</td>\n",
       "      <td>-0.156035</td>\n",
       "      <td>-2.231677</td>\n",
       "      <td>0.420919</td>\n",
       "      <td>Monero</td>\n",
       "      <td>3</td>\n",
       "    </tr>\n",
       "    <tr>\n",
       "      <th>ETC</th>\n",
       "      <td>Ethash</td>\n",
       "      <td>PoW</td>\n",
       "      <td>1.133597e+08</td>\n",
       "      <td>210000000</td>\n",
       "      <td>-0.142018</td>\n",
       "      <td>-2.100263</td>\n",
       "      <td>0.296422</td>\n",
       "      <td>Ethereum Classic</td>\n",
       "      <td>3</td>\n",
       "    </tr>\n",
       "    <tr>\n",
       "      <th>ZEC</th>\n",
       "      <td>Equihash</td>\n",
       "      <td>PoW</td>\n",
       "      <td>7.383056e+06</td>\n",
       "      <td>21000000</td>\n",
       "      <td>-0.151562</td>\n",
       "      <td>-2.016326</td>\n",
       "      <td>0.416775</td>\n",
       "      <td>ZCash</td>\n",
       "      <td>3</td>\n",
       "    </tr>\n",
       "  </tbody>\n",
       "</table>\n",
       "</div>"
      ],
      "text/plain": [
       "           Algorithm ProofType  TotalCoinsMined TotalCoinSupply       pc1  \\\n",
       "42            Scrypt   PoW/PoS     4.199995e+01              42 -0.328925   \n",
       "404           Scrypt   PoW/PoS     1.055185e+09       532000000 -0.312247   \n",
       "1337             X13   PoW/PoS     2.927942e+10    314159265359  2.312234   \n",
       "BTC          SHA-256       PoW     1.792718e+07        21000000 -0.146176   \n",
       "ETH           Ethash       PoW     1.076842e+08               0 -0.143578   \n",
       "LTC           Scrypt       PoW     6.303924e+07        84000000 -0.158658   \n",
       "DASH             X11   PoW/PoS     9.031294e+06        22000000 -0.410637   \n",
       "XMR   CryptoNight-V7       PoW     1.720114e+07               0 -0.156035   \n",
       "ETC           Ethash       PoW     1.133597e+08       210000000 -0.142018   \n",
       "ZEC         Equihash       PoW     7.383056e+06        21000000 -0.151562   \n",
       "\n",
       "           pc2       pc3          CoinName  class  \n",
       "42    1.083910 -0.561196           42 Coin      0  \n",
       "404   1.084088 -0.561605           404Coin      0  \n",
       "1337  1.618320 -0.661212         EliteCoin      0  \n",
       "BTC  -1.354912  0.171761           Bitcoin      3  \n",
       "ETH  -2.100166  0.296442          Ethereum      3  \n",
       "LTC  -1.074373 -0.002583          Litecoin      3  \n",
       "DASH  1.191347 -0.539523              Dash      0  \n",
       "XMR  -2.231677  0.420919            Monero      3  \n",
       "ETC  -2.100263  0.296422  Ethereum Classic      3  \n",
       "ZEC  -2.016326  0.416775             ZCash      3  "
      ]
     },
     "execution_count": 241,
     "metadata": {},
     "output_type": "execute_result"
    }
   ],
   "source": [
    "# Create a new DataFrame including predicted clusters and cryptocurrencies features.\n",
    "# Concatentate the crypto_df and pcs_df DataFrames on the same columns.\n",
    "clustered_df = pd.merge(crypto_df, pcs_df, left_index=True, right_index=True)\n",
    "\n",
    "#  Add a new column, \"CoinName\" to the clustered_df DataFrame that holds the names of the cryptocurrencies. \n",
    "clustered_df = pd.merge(clustered_df, df2, left_index=True, right_index=True)\n",
    "\n",
    "#  Add a new column, \"Class\" to the clustered_df DataFrame that holds the predictions.\n",
    "clustered_df[\"class\"] = predictions\n",
    "\n",
    "# Print the shape of the clustered_df\n",
    "print(clustered_df.shape)\n",
    "clustered_df.head(10)"
   ]
  },
  {
   "cell_type": "markdown",
   "metadata": {},
   "source": [
    "### Deliverable 4: Visualizing Cryptocurrencies Results\n",
    "\n",
    "#### 3D-Scatter with Clusters"
   ]
  },
  {
   "cell_type": "code",
   "execution_count": 255,
   "metadata": {},
   "outputs": [
    {
     "data": {
      "application/vnd.plotly.v1+json": {
       "config": {
        "plotlyServerURL": "https://plot.ly"
       },
       "data": [
        {
         "customdata": [
          [
           0,
           "Scrypt"
          ],
          [
           0,
           "Scrypt"
          ],
          [
           0,
           "X13"
          ],
          [
           0,
           "X11"
          ],
          [
           0,
           "SHA-512"
          ],
          [
           0,
           "SHA-256"
          ],
          [
           0,
           "SHA-256"
          ],
          [
           0,
           "X15"
          ],
          [
           0,
           "Scrypt"
          ],
          [
           0,
           "Scrypt"
          ],
          [
           0,
           "Scrypt"
          ],
          [
           0,
           "Scrypt"
          ],
          [
           0,
           "Scrypt"
          ],
          [
           0,
           "Scrypt"
          ],
          [
           0,
           "Groestl"
          ],
          [
           0,
           "PoS"
          ],
          [
           0,
           "Scrypt"
          ],
          [
           0,
           "Scrypt"
          ],
          [
           0,
           "X11"
          ],
          [
           0,
           "X11"
          ],
          [
           0,
           "SHA3"
          ],
          [
           0,
           "Scrypt"
          ],
          [
           0,
           "SHA-256"
          ],
          [
           0,
           "Scrypt"
          ],
          [
           0,
           "X13"
          ],
          [
           0,
           "X13"
          ],
          [
           0,
           "NeoScrypt"
          ],
          [
           0,
           "Scrypt"
          ],
          [
           0,
           "Scrypt"
          ],
          [
           0,
           "Scrypt"
          ],
          [
           0,
           "X11"
          ],
          [
           0,
           "X11"
          ],
          [
           0,
           "Multiple"
          ],
          [
           0,
           "PHI1612"
          ],
          [
           0,
           "X11"
          ],
          [
           0,
           "Scrypt"
          ],
          [
           0,
           "Scrypt"
          ],
          [
           0,
           "Scrypt"
          ],
          [
           0,
           "X11"
          ],
          [
           0,
           "Multiple"
          ],
          [
           0,
           "X13"
          ],
          [
           0,
           "Scrypt"
          ],
          [
           0,
           "Shabal256"
          ],
          [
           0,
           "Counterparty"
          ],
          [
           0,
           "SHA-256"
          ],
          [
           0,
           "Groestl"
          ],
          [
           0,
           "Scrypt"
          ],
          [
           0,
           "X13"
          ],
          [
           0,
           "Scrypt"
          ],
          [
           0,
           "Scrypt"
          ],
          [
           0,
           "X13"
          ],
          [
           0,
           "X11"
          ],
          [
           0,
           "Scrypt"
          ],
          [
           0,
           "X11"
          ],
          [
           0,
           "SHA3"
          ],
          [
           0,
           "QUAIT"
          ],
          [
           0,
           "X11"
          ],
          [
           0,
           "Scrypt"
          ],
          [
           0,
           "X13"
          ],
          [
           0,
           "SHA-256"
          ],
          [
           0,
           "X15"
          ],
          [
           0,
           "BLAKE256"
          ],
          [
           0,
           "SHA-256"
          ],
          [
           0,
           "X11"
          ],
          [
           0,
           "SHA-256"
          ],
          [
           0,
           "NIST5"
          ],
          [
           0,
           "Scrypt"
          ],
          [
           0,
           "Scrypt"
          ],
          [
           0,
           "X11"
          ],
          [
           0,
           "Scrypt"
          ],
          [
           0,
           "SHA-256"
          ],
          [
           0,
           "Scrypt"
          ],
          [
           0,
           "PoS"
          ],
          [
           0,
           "X11"
          ],
          [
           0,
           "SHA-256"
          ],
          [
           0,
           "SHA-256"
          ],
          [
           0,
           "NIST5"
          ],
          [
           0,
           "X11"
          ],
          [
           0,
           "POS 3.0"
          ],
          [
           0,
           "Scrypt"
          ],
          [
           0,
           "Scrypt"
          ],
          [
           0,
           "Scrypt"
          ],
          [
           0,
           "X13"
          ],
          [
           0,
           "X11"
          ],
          [
           0,
           "X11"
          ],
          [
           0,
           "Scrypt"
          ],
          [
           0,
           "SHA-256"
          ],
          [
           0,
           "X11"
          ],
          [
           0,
           "Scrypt"
          ],
          [
           0,
           "Scrypt"
          ],
          [
           0,
           "Scrypt"
          ],
          [
           0,
           "Scrypt"
          ],
          [
           0,
           "SHA-256D"
          ],
          [
           0,
           "PoS"
          ],
          [
           0,
           "Scrypt"
          ],
          [
           0,
           "X11"
          ],
          [
           0,
           "PoS"
          ],
          [
           0,
           "X13"
          ],
          [
           0,
           "X14"
          ],
          [
           0,
           "PoS"
          ],
          [
           0,
           "SHA-256D"
          ],
          [
           0,
           "DPoS"
          ],
          [
           0,
           "X11"
          ],
          [
           0,
           "X13"
          ],
          [
           0,
           "X11"
          ],
          [
           0,
           "PoS"
          ],
          [
           0,
           "Scrypt"
          ],
          [
           0,
           "Scrypt"
          ],
          [
           0,
           "PoS"
          ],
          [
           0,
           "X11"
          ],
          [
           0,
           "SHA-256"
          ],
          [
           0,
           "Scrypt"
          ],
          [
           0,
           "X11"
          ],
          [
           0,
           "Scrypt"
          ],
          [
           0,
           "Scrypt"
          ],
          [
           0,
           "X11"
          ],
          [
           0,
           "Scrypt"
          ],
          [
           0,
           "Scrypt"
          ],
          [
           0,
           "Scrypt"
          ],
          [
           0,
           "Scrypt"
          ],
          [
           0,
           "Quark"
          ],
          [
           0,
           "QuBit"
          ],
          [
           0,
           "Scrypt"
          ],
          [
           0,
           "SHA-256"
          ],
          [
           0,
           "X11"
          ],
          [
           0,
           "Scrypt"
          ],
          [
           0,
           "Scrypt"
          ],
          [
           0,
           "Scrypt"
          ],
          [
           0,
           "Scrypt"
          ],
          [
           0,
           "X13"
          ],
          [
           0,
           "Scrypt"
          ],
          [
           0,
           "Scrypt"
          ],
          [
           0,
           "X11"
          ],
          [
           0,
           "Blake2S"
          ],
          [
           0,
           "X11"
          ],
          [
           0,
           "PoS"
          ],
          [
           0,
           "X11"
          ],
          [
           0,
           "PoS"
          ],
          [
           0,
           "X11"
          ],
          [
           0,
           "Scrypt"
          ],
          [
           0,
           "Scrypt"
          ],
          [
           0,
           "Scrypt"
          ],
          [
           0,
           "SHA-256"
          ],
          [
           0,
           "X11"
          ],
          [
           0,
           "Scrypt"
          ],
          [
           0,
           "PoS"
          ],
          [
           0,
           "Scrypt"
          ],
          [
           0,
           "X15"
          ],
          [
           0,
           "SHA-256"
          ],
          [
           0,
           "POS 3.0"
          ],
          [
           0,
           "536"
          ],
          [
           0,
           "NIST5"
          ],
          [
           0,
           "NIST5"
          ],
          [
           0,
           "Skein"
          ],
          [
           0,
           "X13"
          ],
          [
           0,
           "Scrypt"
          ],
          [
           0,
           "X13"
          ],
          [
           0,
           "SkunkHash v2 Raptor"
          ],
          [
           0,
           "Skein"
          ],
          [
           0,
           "X11"
          ],
          [
           0,
           "Scrypt"
          ],
          [
           0,
           "VeChainThor Authority"
          ],
          [
           0,
           "PoS"
          ],
          [
           0,
           "Scrypt"
          ],
          [
           0,
           "Scrypt"
          ],
          [
           0,
           "SHA-512"
          ],
          [
           0,
           "Ouroboros"
          ],
          [
           0,
           "X11"
          ],
          [
           0,
           "NeoScrypt"
          ],
          [
           0,
           "Scrypt"
          ],
          [
           0,
           "Lyra2REv2"
          ],
          [
           0,
           "Scrypt"
          ],
          [
           0,
           "SHA-256"
          ],
          [
           0,
           "NIST5"
          ],
          [
           0,
           "PHI1612"
          ],
          [
           0,
           "Scrypt"
          ],
          [
           0,
           "Quark"
          ],
          [
           0,
           "POS 2.0"
          ],
          [
           0,
           "Scrypt"
          ],
          [
           0,
           "SHA-256"
          ],
          [
           0,
           "X11"
          ],
          [
           0,
           "DPoS"
          ],
          [
           0,
           "NIST5"
          ],
          [
           0,
           "X13"
          ],
          [
           0,
           "Scrypt"
          ],
          [
           0,
           "NIST5"
          ],
          [
           0,
           "Quark"
          ],
          [
           0,
           "Scrypt"
          ],
          [
           0,
           "Scrypt"
          ],
          [
           0,
           "X11"
          ],
          [
           0,
           "Quark"
          ],
          [
           0,
           "Scrypt"
          ],
          [
           0,
           "Scrypt"
          ],
          [
           0,
           "X11"
          ],
          [
           0,
           "POS 3.0"
          ],
          [
           0,
           "Scrypt"
          ],
          [
           0,
           "Scrypt"
          ],
          [
           0,
           "X13"
          ],
          [
           0,
           "C11"
          ],
          [
           0,
           "X11"
          ],
          [
           0,
           "XEVAN"
          ],
          [
           0,
           "Scrypt"
          ],
          [
           0,
           "VBFT"
          ],
          [
           0,
           "NIST5"
          ],
          [
           0,
           "Scrypt"
          ],
          [
           0,
           "Scrypt"
          ],
          [
           0,
           "Scrypt"
          ],
          [
           0,
           "Green Protocol"
          ],
          [
           0,
           "PoS"
          ],
          [
           0,
           "Scrypt"
          ],
          [
           0,
           "Semux BFT consensus"
          ],
          [
           0,
           "Quark"
          ],
          [
           0,
           "PoS"
          ],
          [
           0,
           "X16R"
          ],
          [
           0,
           "Scrypt"
          ],
          [
           0,
           "XEVAN"
          ],
          [
           0,
           "Scrypt"
          ],
          [
           0,
           "Scrypt"
          ],
          [
           0,
           "Scrypt"
          ],
          [
           0,
           "SHA-256D"
          ],
          [
           0,
           "Scrypt"
          ],
          [
           0,
           "X15"
          ],
          [
           0,
           "Scrypt"
          ],
          [
           0,
           "Quark"
          ],
          [
           0,
           "SHA-256"
          ],
          [
           0,
           "DPoS"
          ],
          [
           0,
           "X16R"
          ],
          [
           0,
           "Quark"
          ],
          [
           0,
           "Quark"
          ],
          [
           0,
           "Scrypt"
          ],
          [
           0,
           "Lyra2REv2"
          ],
          [
           0,
           "Quark"
          ],
          [
           0,
           "Scrypt"
          ],
          [
           0,
           "X11"
          ],
          [
           0,
           "X11"
          ],
          [
           0,
           "Scrypt"
          ],
          [
           0,
           "PoS"
          ],
          [
           0,
           "Keccak"
          ],
          [
           0,
           "X11"
          ],
          [
           0,
           "Scrypt"
          ],
          [
           0,
           "SHA-512"
          ],
          [
           0,
           "XEVAN"
          ],
          [
           0,
           "XEVAN"
          ],
          [
           0,
           "X11"
          ],
          [
           0,
           "Quark"
          ],
          [
           0,
           "Equihash"
          ],
          [
           0,
           "Scrypt"
          ],
          [
           0,
           "Quark"
          ],
          [
           0,
           "Quark"
          ],
          [
           0,
           "Scrypt"
          ],
          [
           0,
           "X11"
          ],
          [
           0,
           "Scrypt"
          ],
          [
           0,
           "XEVAN"
          ],
          [
           0,
           "SHA-256D"
          ],
          [
           0,
           "X11"
          ],
          [
           0,
           "X11"
          ],
          [
           0,
           "DPoS"
          ],
          [
           0,
           "Scrypt"
          ],
          [
           0,
           "X11"
          ],
          [
           0,
           "Scrypt"
          ],
          [
           0,
           "Scrypt"
          ],
          [
           0,
           "SHA-256"
          ],
          [
           0,
           "Scrypt"
          ],
          [
           0,
           "X11"
          ],
          [
           0,
           "Scrypt"
          ],
          [
           0,
           "SHA-256"
          ],
          [
           0,
           "X11"
          ],
          [
           0,
           "Scrypt"
          ],
          [
           0,
           "Scrypt"
          ],
          [
           0,
           "X11"
          ],
          [
           0,
           "Scrypt"
          ],
          [
           0,
           "PoS"
          ],
          [
           0,
           "X11"
          ],
          [
           0,
           "SHA-256"
          ],
          [
           0,
           "DPoS"
          ],
          [
           0,
           "Scrypt"
          ],
          [
           0,
           "Scrypt"
          ],
          [
           0,
           "NeoScrypt"
          ],
          [
           0,
           "X13"
          ],
          [
           0,
           "DPoS"
          ],
          [
           0,
           "DPoS"
          ],
          [
           0,
           "SHA-256"
          ],
          [
           0,
           "PoS"
          ],
          [
           0,
           "PoS"
          ],
          [
           0,
           "SHA-256"
          ],
          [
           0,
           "Scrypt"
          ],
          [
           0,
           "Scrypt"
          ]
         ],
         "hovertemplate": "<b>%{hovertext}</b><br><br>class=%{marker.color}<br>pc1=%{x}<br>pc2=%{y}<br>pc3=%{z}<br>Algorithm=%{customdata[1]}<extra></extra>",
         "hovertext": [
          "42 Coin",
          "404Coin",
          "EliteCoin",
          "Dash",
          "Bitshares",
          "BitcoinDark",
          "PayCoin",
          "KoboCoin",
          "Aurora Coin",
          "BlueCoin",
          "EnergyCoin",
          "BitBar",
          "CryptoBullion",
          "CasinoCoin",
          "Diamond",
          "Exclusive Coin",
          "FlutterCoin",
          "HoboNickels",
          "HyperStake",
          "IOCoin",
          "MaxCoin",
          "MintCoin",
          "MazaCoin",
          "Nautilus Coin",
          "NavCoin",
          "OpalCoin",
          "Orbitcoin",
          "PotCoin",
          "PhoenixCoin",
          "Reddcoin",
          "SuperCoin",
          "SyncCoin",
          "TeslaCoin",
          "TittieCoin",
          "TorCoin",
          "UnitaryStatus Dollar",
          "UltraCoin",
          "VeriCoin",
          "X11 Coin",
          "Crypti",
          "StealthCoin",
          "ZCC Coin",
          "BurstCoin",
          "StorjCoin",
          "Neutron",
          "FairCoin",
          "RubyCoin",
          "Kore",
          "Dnotes",
          "8BIT Coin",
          "Sativa Coin",
          "Ucoin",
          "Vtorrent",
          "IslaCoin",
          "Nexus",
          "Droidz",
          "Squall Coin",
          "Diggits",
          "Paycon",
          "Emercoin",
          "EverGreenCoin",
          "Decred",
          "EDRCoin",
          "Hitcoin",
          "DubaiCoin",
          "PWR Coin",
          "BillaryCoin",
          "GPU Coin",
          "EuropeCoin",
          "ZeitCoin",
          "SwingCoin",
          "SafeExchangeCoin",
          "Nebuchadnezzar",
          "Ratecoin",
          "Revenu",
          "Clockcoin",
          "VIP Tokens",
          "BitSend",
          "Let it Ride",
          "PutinCoin",
          "iBankCoin",
          "Frankywillcoin",
          "MudraCoin",
          "Lutetium Coin",
          "GoldBlocks",
          "CarterCoin",
          "BitTokens",
          "MustangCoin",
          "ZoneCoin",
          "RootCoin",
          "BitCurrency",
          "Swiscoin",
          "BuzzCoin",
          "Opair",
          "PesoBit",
          "Halloween Coin",
          "CoffeeCoin",
          "RoyalCoin",
          "GanjaCoin V2",
          "TeamUP",
          "LanaCoin",
          "ARK",
          "InsaneCoin",
          "EmberCoin",
          "XenixCoin",
          "FreeCoin",
          "PLNCoin",
          "AquariusCoin",
          "Creatio",
          "Eternity",
          "Eurocoin",
          "BitcoinFast",
          "Stakenet",
          "BitConnect Coin",
          "MoneyCoin",
          "Enigma",
          "Russiacoin",
          "PandaCoin",
          "GameUnits",
          "GAKHcoin",
          "Allsafe",
          "LiteCreed",
          "Klingon Empire Darsek",
          "Internet of People",
          "KushCoin",
          "Printerium",
          "Impeach",
          "Zilbercoin",
          "FirstCoin",
          "FindCoin",
          "OpenChat",
          "RenosCoin",
          "VirtacoinPlus",
          "TajCoin",
          "Impact",
          "Atmos",
          "HappyCoin",
          "MacronCoin",
          "Condensate",
          "Independent Money System",
          "ArgusCoin",
          "LomoCoin",
          "ProCurrency",
          "GoldReserve",
          "GrowthCoin",
          "Phreak",
          "Degas Coin",
          "HTML5 Coin",
          "Ultimate Secure Cash",
          "QTUM",
          "Espers",
          "Denarius",
          "Virta Unique Coin",
          "Bitcoin Planet",
          "BritCoin",
          "Linda",
          "DeepOnion",
          "Signatum",
          "Cream",
          "Monoeci",
          "Draftcoin",
          "Vechain",
          "Stakecoin",
          "CoinonatX",
          "Ethereum Dark",
          "Obsidian",
          "Cardano",
          "Regalcoin",
          "TrezarCoin",
          "TerraNovaCoin",
          "Rupee",
          "WomenCoin",
          "Theresa May Coin",
          "NamoCoin",
          "LUXCoin",
          "Xios",
          "Bitcloud 2.0",
          "KekCoin",
          "BlackholeCoin",
          "Infinity Economics",
          "Magnet",
          "Lamden Tau",
          "Electra",
          "Bitcoin Diamond",
          "Cash & Back Coin",
          "Bulwark",
          "Kalkulus",
          "GermanCoin",
          "LiteCoin Ultra",
          "PhantomX",
          "Digiwage",
          "Trollcoin",
          "Litecoin Plus",
          "Monkey Project",
          "TokenPay",
          "My Big Coin",
          "Unified Society USDEX",
          "Tokyo Coin",
          "Stipend",
          "Pushi",
          "Ellerium",
          "Velox",
          "Ontology",
          "Bitspace",
          "Briacoin",
          "Ignition",
          "MedicCoin",
          "Bitcoin Green",
          "Deviant Coin",
          "Abjcoin",
          "Semux",
          "Carebit",
          "Zealium",
          "Proton",
          "iDealCash",
          "Bitcoin Incognito",
          "HollyWoodCoin",
          "Swisscoin",
          "Xt3ch",
          "TheVig",
          "EmaratCoin",
          "Dekado",
          "Lynx",
          "Poseidon Quark",
          "BitcoinWSpectrum",
          "Muse",
          "Trivechain",
          "Dystem",
          "Giant",
          "Peony Coin",
          "Absolute Coin",
          "Vitae",
          "TPCash",
          "ARENON",
          "EUNO",
          "MMOCoin",
          "Ketan",
          "XDNA",
          "PAXEX",
          "ThunderStake",
          "Kcash",
          "Bettex coin",
          "BitMoney",
          "Junson Ming Chan Coin",
          "HerbCoin",
          "PirateCash",
          "Oduwa",
          "Galilel",
          "Crypto Sports",
          "Credit",
          "Dash Platinum",
          "Nasdacoin",
          "Beetle Coin",
          "Titan Coin",
          "Award",
          "Insane Coin",
          "ALAX",
          "LiteDoge",
          "TruckCoin",
          "OrangeCoin",
          "BitstarCoin",
          "NeosCoin",
          "HyperCoin",
          "PinkCoin",
          "AudioCoin",
          "IncaKoin",
          "Piggy Coin",
          "Genstake",
          "XiaoMiCoin",
          "CapriCoin",
          " ClubCoin",
          "Radium",
          "Creditbit ",
          "OKCash",
          "Lisk",
          "HiCoin",
          "WhiteCoin",
          "FriendshipCoin",
          "Triangles Coin",
          "EOS",
          "Oxycoin",
          "TigerCash",
          "Particl",
          "Nxt",
          "ZEPHYR",
          "Gapcoin",
          "BitcoinPlus"
         ],
         "legendgroup": "0",
         "marker": {
          "color": [
           0,
           0,
           0,
           0,
           0,
           0,
           0,
           0,
           0,
           0,
           0,
           0,
           0,
           0,
           0,
           0,
           0,
           0,
           0,
           0,
           0,
           0,
           0,
           0,
           0,
           0,
           0,
           0,
           0,
           0,
           0,
           0,
           0,
           0,
           0,
           0,
           0,
           0,
           0,
           0,
           0,
           0,
           0,
           0,
           0,
           0,
           0,
           0,
           0,
           0,
           0,
           0,
           0,
           0,
           0,
           0,
           0,
           0,
           0,
           0,
           0,
           0,
           0,
           0,
           0,
           0,
           0,
           0,
           0,
           0,
           0,
           0,
           0,
           0,
           0,
           0,
           0,
           0,
           0,
           0,
           0,
           0,
           0,
           0,
           0,
           0,
           0,
           0,
           0,
           0,
           0,
           0,
           0,
           0,
           0,
           0,
           0,
           0,
           0,
           0,
           0,
           0,
           0,
           0,
           0,
           0,
           0,
           0,
           0,
           0,
           0,
           0,
           0,
           0,
           0,
           0,
           0,
           0,
           0,
           0,
           0,
           0,
           0,
           0,
           0,
           0,
           0,
           0,
           0,
           0,
           0,
           0,
           0,
           0,
           0,
           0,
           0,
           0,
           0,
           0,
           0,
           0,
           0,
           0,
           0,
           0,
           0,
           0,
           0,
           0,
           0,
           0,
           0,
           0,
           0,
           0,
           0,
           0,
           0,
           0,
           0,
           0,
           0,
           0,
           0,
           0,
           0,
           0,
           0,
           0,
           0,
           0,
           0,
           0,
           0,
           0,
           0,
           0,
           0,
           0,
           0,
           0,
           0,
           0,
           0,
           0,
           0,
           0,
           0,
           0,
           0,
           0,
           0,
           0,
           0,
           0,
           0,
           0,
           0,
           0,
           0,
           0,
           0,
           0,
           0,
           0,
           0,
           0,
           0,
           0,
           0,
           0,
           0,
           0,
           0,
           0,
           0,
           0,
           0,
           0,
           0,
           0,
           0,
           0,
           0,
           0,
           0,
           0,
           0,
           0,
           0,
           0,
           0,
           0,
           0,
           0,
           0,
           0,
           0,
           0,
           0,
           0,
           0,
           0,
           0,
           0,
           0,
           0,
           0,
           0,
           0,
           0,
           0,
           0,
           0,
           0,
           0,
           0,
           0,
           0,
           0,
           0,
           0,
           0,
           0,
           0,
           0,
           0,
           0,
           0,
           0,
           0,
           0,
           0,
           0,
           0,
           0,
           0,
           0,
           0,
           0,
           0,
           0,
           0,
           0,
           0,
           0
          ],
          "coloraxis": "coloraxis",
          "symbol": "circle"
         },
         "mode": "markers",
         "name": "0",
         "scene": "scene",
         "showlegend": true,
         "type": "scatter3d",
         "x": [
          -0.3289248309490924,
          -0.3122468500800402,
          2.312234069612345,
          -0.41063671516067013,
          -0.2864042994280978,
          -0.3152724576564749,
          -0.2661804132885754,
          -0.22286966492498336,
          -0.32858406723014694,
          -0.3211555081653798,
          -0.3274201437492945,
          -0.32892076204099313,
          -0.3289050282871182,
          0.6375394058907307,
          -0.3734442837610402,
          -0.3372840895992183,
          -0.2858827168159872,
          -0.3269815813954896,
          -0.34135147840732477,
          -0.4105313231319293,
          -0.40431445090725976,
          -0.019535584478112943,
          -0.2785400449952926,
          -0.2795835807984324,
          -0.2749229979597845,
          -0.275545727663376,
          -0.35032251554369737,
          -0.32322091420768284,
          -0.3273249084708227,
          0.0295164036388788,
          -0.361254729628496,
          -0.4109032796793948,
          -0.24892795279861632,
          -0.31680065631915033,
          -0.4108148119207863,
          -0.30413082354674703,
          -0.32760078602647785,
          -0.30641725077805726,
          -0.4107792732967197,
          -0.24939641778415764,
          -0.2753264076744824,
          -0.320017154574122,
          -0.0941833880035607,
          -0.3455004441239422,
          -0.31448335861075133,
          -0.3728653772318136,
          -0.2795638778726722,
          -0.27562113734136606,
          -0.27421176484036086,
          -0.32890688447907585,
          -0.27557328946875487,
          -0.36169987951104726,
          -0.32864097687418736,
          -0.41088479312051224,
          -0.3886216100316135,
          -0.42099925379888753,
          -0.4738075886740315,
          -0.27796374298647525,
          -0.2750943925869887,
          -0.3078196836084135,
          -0.22531423735794856,
          -0.05961342882568031,
          -0.31524334726655906,
          -0.08799414452262083,
          -0.3153071334628969,
          -0.2376998275561881,
          -0.3285166797235742,
          -0.2778322737954141,
          -0.4080503421474411,
          0.8748727392290868,
          -0.3151069303884242,
          -0.09396780598037882,
          -0.3369670314205169,
          -0.408725733722982,
          -0.31384881237545925,
          -0.3115140849851557,
          -0.3591597250314541,
          -0.4096184626118893,
          -0.31133515301861114,
          -0.30478675424835616,
          -0.3285548014944723,
          -0.3269923123000513,
          -0.22522169982994478,
          -0.3491780789984031,
          -0.41035809172317156,
          -0.32775820935110894,
          -0.3152880344585102,
          -0.4108739656490198,
          -0.3287441997984096,
          -0.3289011127514708,
          -0.27782258135171756,
          -0.24058588748544185,
          0.04630021100456182,
          -0.3359230575562935,
          -0.3285149467992197,
          -0.3970197771366123,
          -0.3352512485010934,
          -0.22665415972796463,
          -0.4017460459714644,
          -0.3349991077348873,
          -0.26853059284516057,
          3.6977767736278238,
          -0.4104660776747374,
          0.8575434276187676,
          -0.4108288348789161,
          -0.33638727558230763,
          -0.32844231265185253,
          -0.32859675632846874,
          -0.3369670314205169,
          -0.4104031975590072,
          -0.3151505958471262,
          -0.32844306757273417,
          -0.4423246058677135,
          -0.3285905982012964,
          -0.32417286659422423,
          -0.41085784918423673,
          -0.3278002545386679,
          0.3643342457835431,
          -0.3287900910012992,
          -0.32886075349304883,
          -0.35129184849779477,
          -0.37322823052537035,
          -0.3250827065350842,
          -0.315264428420836,
          -0.4107677108521573,
          -0.32863832354333816,
          -0.32876537643934056,
          -0.2794701265797849,
          -0.2599745250943755,
          -0.22642177952926554,
          -0.30959963715376637,
          -0.2792111091955636,
          -0.410032540169601,
          -0.379403118999658,
          -0.4087698220141461,
          -0.33521181734476124,
          -0.40993033995673067,
          -0.3296060780097456,
          -0.4058665977504235,
          -0.3287086179313942,
          -0.3287077826460593,
          -0.321820516685638,
          0.2671786828336327,
          -0.4104094187376216,
          -0.2620912400003428,
          -0.33700132105171915,
          -0.3279183671364738,
          0.9103093522727081,
          -0.2648691045294812,
          -0.3101122606323196,
          0.5717147347132627,
          -0.3606969251948064,
          -0.3591975341675764,
          -0.3891937289115274,
          -0.2752580535644133,
          0.13657755475437483,
          -0.27532892205228204,
          -0.3231652763348829,
          -0.3886982001793516,
          -0.410682132357348,
          -0.27954451591622875,
          4.401961133564981,
          -0.33686737837173836,
          -0.3283434189319257,
          -0.3288436659434002,
          -0.3445286599396046,
          0.671206502557815,
          -0.4106228523870003,
          -0.3453162551414872,
          -0.32879920563373743,
          -0.2932769783391346,
          0.4410438395585024,
          -0.31360905235017555,
          -0.34544706619199866,
          -0.40146381720053986,
          -0.32874948530740994,
          -0.3987603413390723,
          -0.3461550061898854,
          -0.32861979687322174,
          -0.09248905634373701,
          -0.4094141061887173,
          3.7026380944533654,
          0.19936334829399646,
          -0.2719963528500777,
          -0.32607729470156666,
          -0.3114316335779936,
          -0.3511776402046092,
          0.0860381267221089,
          -0.32775715755047785,
          -0.4099960462888777,
          -0.3503413450689606,
          -0.31531001932059843,
          -0.32886581661878916,
          -0.3616717821825622,
          -0.31161733364711247,
          -0.2664133766241131,
          -0.3244065853400542,
          -0.21820805049750872,
          -0.3662742314289033,
          -0.41069934012246384,
          -0.3869456131782187,
          -0.2787034410790924,
          -0.3420522054646749,
          -0.36029541658788494,
          -0.3288931975483638,
          -0.32887488657025377,
          -0.273078914833098,
          -0.3218067690907326,
          -0.3364614086988031,
          -0.32859107687977485,
          3.879503264863982,
          -0.39742725618100944,
          -0.33665026213178567,
          -0.31074176083353244,
          -0.2753995652019809,
          -0.45000254724079736,
          -0.2792384413166315,
          -0.13180784676952015,
          -0.27949064962072007,
          -0.3339250656958887,
          -0.32806448785255043,
          -0.17562865176853099,
          2.295767223899364,
          -0.3468798794766973,
          -0.26499727163630993,
          1.0108584018159772,
          -0.35910620356073686,
          -0.3512912636616454,
          -0.40044655117254774,
          -0.16006587912146095,
          -0.34223367891378265,
          -0.35000946179634385,
          -0.32176055792670805,
          -0.36124872260467134,
          -0.4101721527470522,
          -0.27673310197499684,
          -0.3357488702081388,
          -0.33361783078875673,
          -0.36110983350768266,
          -0.18819715219411706,
          -0.37225044287169207,
          -0.33791016280175845,
          0.32450752620403567,
          -0.15144911440988792,
          -0.3997404268348557,
          -0.27076207000591146,
          -0.32859508453418107,
          -0.4001970440456536,
          -0.3514083637164288,
          0.5789263875837398,
          -0.36172614692107996,
          -0.32807736057101505,
          -0.38139511565657297,
          -0.28859047924936226,
          -0.4077335134055527,
          -0.4103996466203244,
          3.714891706910758,
          0.10681614903235419,
          -0.4079373492753283,
          -0.3274619427366398,
          -0.32828812177790273,
          -0.2662130413402074,
          -0.32880707114557894,
          -0.4020189076549146,
          -0.242402305390931,
          -0.09474682563749964,
          -0.39776202241229375,
          -0.3280847391553675,
          -0.32114197640155456,
          -0.40696479501279736,
          -0.3265221355506912,
          -0.3372429291534083,
          -0.47577491654747817,
          -0.31378600210662283,
          3.698169032942204,
          -0.08657860758650113,
          -0.3237141010106734,
          -0.34994786965497604,
          -0.275728471351584,
          3.708044703072536,
          3.7092898726577244,
          -0.2470906130773333,
          -0.3371787435883014,
          -0.3171594390378029,
          2.4572935096195665,
          -0.3269677195688608,
          -0.2798875951923052
         ],
         "y": [
          1.0839101191178067,
          1.084088189394828,
          1.6183197489225272,
          1.1913466449720542,
          1.6506624865313029,
          0.8033497514622593,
          0.59320603961965,
          1.8994234366722302,
          1.0839095537722052,
          1.0841696839882984,
          1.0839603891524756,
          1.083909898766648,
          1.0839100680956884,
          0.3744007097099196,
          0.9543241146562165,
          1.5655040369188442,
          0.47701816061103824,
          1.0838895244952655,
          0.9818864742620941,
          1.1913501660080443,
          2.0814362979117575,
          0.8824558909127225,
          0.8028686066144345,
          0.8737564324622518,
          1.7557674053928543,
          1.7557466006534033,
          0.5032083633748305,
          1.083801372998895,
          1.0838937323376485,
          1.0958852609321856,
          0.9812215277315451,
          1.1913534166574657,
          0.08817021764419974,
          1.5585311822334837,
          1.1913492466041073,
          1.0835982398502182,
          1.0838830902848675,
          0.38604382605351334,
          1.1913536407829004,
          0.08822583052605995,
          1.7557539279018053,
          1.0834950771697462,
          0.42047975727637804,
          1.5417803570073612,
          0.8033433330768583,
          0.9543465766643182,
          0.8737686211990523,
          1.7557355296399109,
          0.8735911106206603,
          1.0839107187202877,
          1.755738553462638,
          0.98119240298561,
          1.0839053496514546,
          1.1913540349864449,
          2.3767373946675576,
          1.7970996345482684,
          0.6191398594129799,
          0.8737508162092698,
          1.7557260473797145,
          0.8029017807754976,
          1.89957244844562,
          0.8683182637058597,
          0.803350724009536,
          1.1832209303181926,
          0.8033567883173798,
          1.4918500986233914,
          1.0838938242514065,
          0.8736689417493698,
          1.1911750779954358,
          0.841785962586654,
          0.8033424540687636,
          0.37693697074899046,
          1.5655003767364755,
          1.1913727190223986,
          0.803254269678686,
          0.8031168577933777,
          1.48772811474707,
          1.1912972850639414,
          1.4980925176042774,
          1.0832912706983493,
          1.0838908878216653,
          1.0839034187472292,
          1.5454947504105827,
          0.9811567926609845,
          1.1913359996216681,
          1.08388495731848,
          0.8033499436958167,
          1.191352258806776,
          1.083901188444943,
          1.0839109115475902,
          0.873826796070454,
          0.4009261325592748,
          1.930666787438167,
          1.5654967723446067,
          1.0839238129428104,
          1.1907482934683464,
          1.5655434465380635,
          1.5455876393612078,
          1.862166001229295,
          1.5653658717016887,
          1.9290523231705101,
          1.8676540327479296,
          1.191346644685579,
          1.7929961662194038,
          1.1913531584648847,
          1.565498366624455,
          1.0838987745039608,
          1.0838911489768994,
          1.5655003767364755,
          1.1913273663034378,
          0.803355248012176,
          1.0839026972974057,
          0.6183279028925234,
          1.0839013316454813,
          1.083605192315133,
          1.1913513719647735,
          1.0838450701810165,
          0.8721092095982542,
          1.0839053563725332,
          1.083909896950383,
          1.4813461606422131,
          0.5804311483175767,
          1.0836821614498457,
          0.8033507323485186,
          1.1913512805650461,
          1.0839054382964266,
          1.0838998158272437,
          0.8737325582400829,
          0.4837951415606279,
          1.5455868336595664,
          1.0838431153866495,
          0.8737558732492746,
          1.1913112440537823,
          1.9010602956248914,
          1.1913463037491165,
          1.5654946724717236,
          1.1913146584545866,
          1.565475495946908,
          1.1911653685728316,
          1.083902226031925,
          1.0838969890545664,
          1.0834348287527384,
          0.5575860593376296,
          1.1913414112205662,
          0.8729270875021937,
          1.5654921047761785,
          1.0838689170465161,
          1.873393749527903,
          0.5931161694254345,
          1.498085982715551,
          1.9536572506196204,
          1.4877337695591337,
          1.4877054724437309,
          1.8777917993418487,
          1.755734832400014,
          1.0638301602489089,
          1.755740376332371,
          1.4748821205276363,
          1.8778083544316475,
          1.1913540304251244,
          0.8737568639619089,
          2.5360176224646036,
          1.5654740603231325,
          1.0838951572980289,
          1.083909837704944,
          1.6512213893902528,
          1.4530906279905038,
          1.1913435449226033,
          0.5030932486724351,
          1.0839031039853446,
          0.7386426884876682,
          1.091818006303028,
          0.8033497383062846,
          1.4873952119604412,
          1.7690895799640791,
          1.0839010118616883,
          1.691419045650753,
          1.6346147858840563,
          1.0839097713254449,
          0.592604049707541,
          1.191300549205441,
          1.8675492050727407,
          1.4850727759752045,
          1.7557155275232301,
          1.0838555983348703,
          1.277576450481319,
          1.4813464130302256,
          1.0621416915182205,
          1.0838422341776857,
          1.1913480951759452,
          1.481303088963868,
          1.0837236013706786,
          1.083909240201955,
          0.9811926290495724,
          1.4980891476715719,
          0.5310097345947637,
          1.0838957369279563,
          1.5453014861985757,
          0.9002236137419751,
          1.191342414824432,
          1.3081560062923856,
          0.8737090003677657,
          1.470627248394935,
          1.4877186780159601,
          1.083909038072121,
          1.0839082245464828,
          0.8736289579388489,
          1.586496334445399,
          1.5654688096713818,
          1.0838998903773296,
          1.8355205553344713,
          1.6914635826131286,
          1.5654682013823722,
          0.6469866951726025,
          1.082048244449745,
          0.7359651421757103,
          0.8737609651013565,
          1.0832266810340585,
          0.8737397116050969,
          1.9321453602051217,
          1.083879000706364,
          1.6893963996589183,
          0.5310086649436108,
          1.481041034717973,
          0.5931830244456588,
          1.6849120494053624,
          0.8571347283675073,
          1.481341904352935,
          1.6915015679699643,
          0.8657315931622778,
          0.9487773819008702,
          1.4813284295924007,
          1.0834368319113326,
          0.9811825333295345,
          1.1913422116458086,
          0.8736779085403703,
          1.5654056729905432,
          1.0670683105440706,
          0.9811551047568211,
          1.075784197655115,
          1.9716248547567474,
          1.098010760023501,
          0.6565068606508416,
          0.9882309109915459,
          1.6914903471818232,
          -0.06824717535022862,
          1.0839061702278936,
          1.6915000087606584,
          1.481343429592187,
          1.0609351434282264,
          0.9811917392106799,
          1.0838785706424818,
          1.3080278818098803,
          1.9301680144666507,
          1.1911600079397355,
          1.1913488640767056,
          1.8676022662761802,
          1.07352543330855,
          1.191452505961717,
          1.0838164650914754,
          1.083892725953953,
          0.5931988921279752,
          1.0839140533779812,
          1.191293915821279,
          1.079318045973856,
          0.8105975559379229,
          1.1910798148431159,
          1.083927496154188,
          1.0838850808679272,
          1.191336769263775,
          1.0838763685738098,
          1.5654989983036678,
          0.4493645535622718,
          0.8033402634124188,
          1.8676422535369848,
          0.8730833778946561,
          1.0838704127111467,
          0.5031806884353615,
          1.755740409863885,
          1.8680861531398019,
          1.868127752936059,
          0.5931400795834441,
          1.565501403401117,
          1.7356878690402529,
          0.7758291311163977,
          1.0837973446634683,
          0.8737570935084618
         ],
         "z": [
          -0.5611957022281369,
          -0.5616052941318009,
          -0.6612124135973684,
          -0.5395230917507038,
          0.02546816140008045,
          -0.386874877204475,
          -0.07909068491712559,
          -0.6453615609426266,
          -0.5612034052957257,
          -0.5614144761642558,
          -0.5612380722493319,
          -0.5611957603811544,
          -0.5611961469961779,
          -0.3564545626449204,
          -0.38570996627087456,
          -0.12208163808914711,
          -0.23026598953634114,
          -0.5612368791496066,
          -0.23230892392566047,
          -0.5395260594518935,
          -0.6761736602444138,
          -0.2607400653742221,
          -0.3876386809205726,
          -0.2534156291711083,
          -0.6238154913998846,
          -0.6237979561488423,
          -0.30936118728469597,
          -0.5613089185014167,
          -0.5612296942904809,
          -0.5712889368998324,
          -0.23174847449678376,
          -0.5395180683115585,
          0.1132196101181444,
          -0.1525028864187432,
          -0.5395194310237078,
          -0.5617133030702103,
          -0.5612217002333052,
          -0.2363634462990952,
          -0.5395209395862105,
          0.11322151611060094,
          -0.6238041319118447,
          -0.5613336770409825,
          -0.32237341111822576,
          0.04713678247194929,
          -0.3868919059291674,
          -0.3857267618179082,
          -0.25341800995195374,
          -0.6237944784673007,
          -0.253512291596539,
          -0.561196207581915,
          -0.6237960515079194,
          -0.23173368258708266,
          -0.5612014381177081,
          -0.5395185889816444,
          -0.5672750036345698,
          -0.9171719702346786,
          -0.26908218448927207,
          -0.25345178228335424,
          -0.6238050224688507,
          -0.3869743666534529,
          -0.6453292559491691,
          -0.4812945990430614,
          -0.38687569691484386,
          -0.5456145009748689,
          -0.38687519859644354,
          -0.5591718059633751,
          -0.5612024553816578,
          -0.25344182304988394,
          -0.539555067592664,
          -0.2747529167958347,
          -0.38687750686907707,
          -0.3401280749977681,
          -0.12208830895795679,
          -0.5395709212352799,
          -0.3868923126347332,
          -0.38692394265147995,
          -0.5557414978518533,
          -0.5395385605269518,
          -0.1578356852137729,
          -0.5616496914561755,
          -0.5612011185974456,
          -0.5612388340547433,
          -0.31602481205568655,
          -0.2320143922677353,
          -0.5395277775183233,
          -0.5612183959357828,
          -0.3868745514358422,
          -0.5395185553080308,
          -0.5611984186419888,
          -0.5611963701061883,
          -0.253467042576314,
          -0.3235206301562109,
          -0.7523222397780626,
          -0.12211161179365332,
          -0.5612072440325123,
          -0.5397397291329227,
          -0.12213436609097553,
          -0.3160067644503163,
          -0.6738992909396865,
          -0.12211201122560338,
          -0.7448670113016851,
          0.03443033499373783,
          -0.5395269938489957,
          -0.6556083338238243,
          -0.5395197298302219,
          -0.1221012485113733,
          -0.5612049399344666,
          -0.5612002005295749,
          -0.12208830895795679,
          -0.5395253788605316,
          -0.38687853438039965,
          -0.561205543886196,
          -0.2701707750186556,
          -0.5612019538856792,
          -0.5612560819639761,
          -0.5395187834191917,
          -0.5612111179005177,
          -0.26787990833993325,
          -0.5611980292352826,
          -0.5611971323709838,
          -0.16904973900709974,
          -0.2446292745007287,
          -0.5612474645800193,
          -0.3868752161508773,
          -0.5395208302314428,
          -0.5612015128320219,
          -0.5611977170055266,
          -0.25341444291366166,
          -0.3728958522770065,
          -0.3160119509371025,
          -0.5616270206572423,
          -0.25342405830679926,
          -0.5395313019394363,
          -0.767424795391017,
          -0.5395657298885563,
          -0.12212754392148738,
          -0.5395341797632799,
          -0.12225269935068513,
          -0.5396034679431698,
          -0.5611993966420259,
          -0.5611985864133341,
          -0.5612828967310607,
          -0.08564676267124378,
          -0.5395274607536312,
          -0.2536843091670688,
          -0.12208621487028973,
          -0.5612121932977819,
          -0.6671530634551756,
          -0.07910644008583878,
          -0.1578626154893708,
          -0.6185744955110701,
          -0.5557072406063147,
          -0.555737047586224,
          -0.7533196337586211,
          -0.6238026710638758,
          -0.5686609550754971,
          -0.6238019283805089,
          -0.12979776915472258,
          -0.7533335871972756,
          -0.5395232227123298,
          -0.2534165908405974,
          4.444019256583411,
          -0.12208642034844118,
          -0.5612066286170034,
          -0.5611975137474994,
          0.02670884309272144,
          -0.0721985791855517,
          -0.5395229178398835,
          -0.3094574409981308,
          -0.5611974641125473,
          -0.12392139672700679,
          -0.5800556676597112,
          -0.38691291392851107,
          -0.5560023607557387,
          -0.4595393070786734,
          -0.5611982698089932,
          -0.47685984255591074,
          -0.01781471827982712,
          -0.5612026226808955,
          -0.08296733321230328,
          -0.5395437506672541,
          0.03433576670519647,
          -0.5680933213099822,
          -0.6238742026146896,
          -0.5612521858459624,
          -0.24792485529505226,
          -0.16905239069439187,
          -0.5672378311214415,
          -0.561211654333138,
          -0.5395379722425232,
          -0.16906465430105236,
          -0.5614775091576337,
          -0.5611969125842893,
          -0.23173436091730534,
          -0.15782869863383386,
          -0.3899107868944117,
          -0.5612967480479115,
          -0.3161545950148914,
          -0.418956926840218,
          -0.539520989752985,
          -0.4432326573547674,
          -0.2534282448680247,
          -0.076547599060279,
          -0.5557140324150085,
          -0.5611962544269196,
          -0.5611965443326952,
          -0.2535441911657357,
          -0.1439944855264394,
          -0.12209487258080738,
          -0.5612017146993891,
          -0.06974858033942963,
          -0.4768973804841204,
          -0.1220904575453583,
          -0.059428407149538606,
          -0.5621248724845676,
          -0.17279687699103224,
          -0.253424239622875,
          -0.56559515037168,
          -0.25341510640209586,
          -0.743861383036315,
          -0.5612104486572085,
          -0.3375535158894491,
          -0.5172991303492732,
          -0.16910231218545238,
          -0.07911409634644617,
          -0.02221223147611935,
          -0.36722992258645054,
          -0.1690490783533207,
          -0.47683435052436157,
          -0.2548779468557155,
          -0.43170725589826103,
          -0.16907625677169452,
          -0.5612845850910089,
          -0.23174243669505035,
          -0.5395330133158227,
          -0.25346837893227964,
          -0.12210116858213539,
          -0.3081546621713819,
          -0.2317412692147347,
          -0.5631270429528167,
          0.30128659522603546,
          -0.1354469278817387,
          -0.02929420180880423,
          -0.2376563252251765,
          -0.4768487212700955,
          0.16591113511626682,
          -0.5612026175320969,
          -0.47683980934450354,
          -0.1690466420429596,
          -0.5783181466486422,
          -0.23173297678739527,
          -0.5612100861783536,
          -0.44333929646613834,
          -0.7445849625190832,
          -0.5395599263421763,
          -0.539528864460289,
          0.0340471478958841,
          -0.5695157179485109,
          -0.5396015851314352,
          -0.5612143245114808,
          -0.561207508125435,
          -0.07908880689785754,
          -0.5611990181943683,
          -0.5397118138456841,
          -0.5624470994861365,
          -0.39306563011868373,
          -0.5397752553133351,
          -0.5612176653100692,
          -0.5613697157344945,
          -0.5396054974203052,
          -0.5612453023948689,
          -0.12208178143027706,
          -0.32076130099567723,
          -0.3869073669873073,
          0.03442323015579069,
          -0.25772268805034304,
          -0.5613085734483548,
          -0.30936537208372406,
          -0.6237927967840163,
          0.03412709687024694,
          0.03409203452916833,
          -0.0795167856379747,
          -0.12208363010018147,
          -0.12004162732663703,
          -0.023265244231058718,
          -0.5612225985038468,
          -0.2534087816434864
         ]
        },
        {
         "customdata": [
          [
           3,
           "SHA-256"
          ],
          [
           3,
           "Ethash"
          ],
          [
           3,
           "Scrypt"
          ],
          [
           3,
           "CryptoNight-V7"
          ],
          [
           3,
           "Ethash"
          ],
          [
           3,
           "Equihash"
          ],
          [
           3,
           "Multiple"
          ],
          [
           3,
           "Scrypt"
          ],
          [
           3,
           "X11"
          ],
          [
           3,
           "Scrypt"
          ],
          [
           3,
           "Multiple"
          ],
          [
           3,
           "Scrypt"
          ],
          [
           3,
           "SHA-256"
          ],
          [
           3,
           "Scrypt"
          ],
          [
           3,
           "Scrypt"
          ],
          [
           3,
           "Quark"
          ],
          [
           3,
           "Groestl"
          ],
          [
           3,
           "Scrypt"
          ],
          [
           3,
           "Scrypt"
          ],
          [
           3,
           "Scrypt"
          ],
          [
           3,
           "X11"
          ],
          [
           3,
           "Multiple"
          ],
          [
           3,
           "SHA-256"
          ],
          [
           3,
           "Scrypt"
          ],
          [
           3,
           "Scrypt"
          ],
          [
           3,
           "Scrypt"
          ],
          [
           3,
           "Scrypt"
          ],
          [
           3,
           "Scrypt"
          ],
          [
           3,
           "NeoScrypt"
          ],
          [
           3,
           "Scrypt"
          ],
          [
           3,
           "Scrypt"
          ],
          [
           3,
           "Scrypt"
          ],
          [
           3,
           "Scrypt"
          ],
          [
           3,
           "SHA-256"
          ],
          [
           3,
           "Scrypt"
          ],
          [
           3,
           "Scrypt"
          ],
          [
           3,
           "Scrypt"
          ],
          [
           3,
           "Scrypt"
          ],
          [
           3,
           "HybridScryptHash256"
          ],
          [
           3,
           "Scrypt"
          ],
          [
           3,
           "Scrypt"
          ],
          [
           3,
           "SHA-256"
          ],
          [
           3,
           "Scrypt"
          ],
          [
           3,
           "Scrypt"
          ],
          [
           3,
           "Scrypt"
          ],
          [
           3,
           "Scrypt"
          ],
          [
           3,
           "SHA-256"
          ],
          [
           3,
           "SHA-256"
          ],
          [
           3,
           "SHA-256"
          ],
          [
           3,
           "SHA-256"
          ],
          [
           3,
           "SHA-256"
          ],
          [
           3,
           "X11"
          ],
          [
           3,
           "Scrypt"
          ],
          [
           3,
           "Lyra2REv2"
          ],
          [
           3,
           "Scrypt"
          ],
          [
           3,
           "SHA-256"
          ],
          [
           3,
           "CryptoNight"
          ],
          [
           3,
           "CryptoNight"
          ],
          [
           3,
           "Scrypt"
          ],
          [
           3,
           "Scrypt"
          ],
          [
           3,
           "Scrypt"
          ],
          [
           3,
           "Scrypt"
          ],
          [
           3,
           "Scrypt"
          ],
          [
           3,
           "Scrypt"
          ],
          [
           3,
           "Stanford Folding"
          ],
          [
           3,
           "Multiple"
          ],
          [
           3,
           "QuBit"
          ],
          [
           3,
           "Scrypt"
          ],
          [
           3,
           "Scrypt"
          ],
          [
           3,
           "M7 POW"
          ],
          [
           3,
           "Scrypt"
          ],
          [
           3,
           "SHA-256"
          ],
          [
           3,
           "Scrypt"
          ],
          [
           3,
           "X11"
          ],
          [
           3,
           "Lyra2RE"
          ],
          [
           3,
           "SHA-256"
          ],
          [
           3,
           "X11"
          ],
          [
           3,
           "Scrypt"
          ],
          [
           3,
           "Scrypt"
          ],
          [
           3,
           "Ethash"
          ],
          [
           3,
           "Blake2b"
          ],
          [
           3,
           "X11"
          ],
          [
           3,
           "SHA-256"
          ],
          [
           3,
           "Scrypt"
          ],
          [
           3,
           "1GB AES Pattern Search"
          ],
          [
           3,
           "Scrypt"
          ],
          [
           3,
           "SHA-256"
          ],
          [
           3,
           "X11"
          ],
          [
           3,
           "Dagger"
          ],
          [
           3,
           "Scrypt"
          ],
          [
           3,
           "X11GOST"
          ],
          [
           3,
           "Scrypt"
          ],
          [
           3,
           "X11"
          ],
          [
           3,
           "Scrypt"
          ],
          [
           3,
           "X11"
          ],
          [
           3,
           "Equihash"
          ],
          [
           3,
           "CryptoNight"
          ],
          [
           3,
           "SHA-256"
          ],
          [
           3,
           "Multiple"
          ],
          [
           3,
           "Scrypt"
          ],
          [
           3,
           "SHA-256"
          ],
          [
           3,
           "Scrypt"
          ],
          [
           3,
           "Lyra2Z"
          ],
          [
           3,
           "Ethash"
          ],
          [
           3,
           "Equihash"
          ],
          [
           3,
           "Scrypt"
          ],
          [
           3,
           "X11"
          ],
          [
           3,
           "X11"
          ],
          [
           3,
           "CryptoNight"
          ],
          [
           3,
           "Scrypt"
          ],
          [
           3,
           "CryptoNight"
          ],
          [
           3,
           "Lyra2RE"
          ],
          [
           3,
           "X11"
          ],
          [
           3,
           "CryptoNight-V7"
          ],
          [
           3,
           "Scrypt"
          ],
          [
           3,
           "X11"
          ],
          [
           3,
           "Equihash"
          ],
          [
           3,
           "Scrypt"
          ],
          [
           3,
           "Lyra2RE"
          ],
          [
           3,
           "Dagger-Hashimoto"
          ],
          [
           3,
           "Scrypt"
          ],
          [
           3,
           "NIST5"
          ],
          [
           3,
           "Scrypt"
          ],
          [
           3,
           "SHA-256"
          ],
          [
           3,
           "Scrypt"
          ],
          [
           3,
           "CryptoNight-V7"
          ],
          [
           3,
           "Argon2d"
          ],
          [
           3,
           "Blake2b"
          ],
          [
           3,
           "Cloverhash"
          ],
          [
           3,
           "CryptoNight"
          ],
          [
           3,
           "X11"
          ],
          [
           3,
           "Scrypt"
          ],
          [
           3,
           "Scrypt"
          ],
          [
           3,
           "X11"
          ],
          [
           3,
           "X11"
          ],
          [
           3,
           "CryptoNight"
          ],
          [
           3,
           "Time Travel"
          ],
          [
           3,
           "Scrypt"
          ],
          [
           3,
           "Keccak"
          ],
          [
           3,
           "X11"
          ],
          [
           3,
           "SHA-256"
          ],
          [
           3,
           "Scrypt"
          ],
          [
           3,
           "Scrypt"
          ],
          [
           3,
           "Scrypt"
          ],
          [
           3,
           "Scrypt"
          ],
          [
           3,
           "Scrypt"
          ],
          [
           3,
           "Scrypt"
          ],
          [
           3,
           "CryptoNight"
          ],
          [
           3,
           "Equihash"
          ],
          [
           3,
           "X11"
          ],
          [
           3,
           "NeoScrypt"
          ],
          [
           3,
           "Equihash"
          ],
          [
           3,
           "Dagger"
          ],
          [
           3,
           "Scrypt"
          ],
          [
           3,
           "X11"
          ],
          [
           3,
           "NeoScrypt"
          ],
          [
           3,
           "Ethash"
          ],
          [
           3,
           "NeoScrypt"
          ],
          [
           3,
           "Multiple"
          ],
          [
           3,
           "CryptoNight"
          ],
          [
           3,
           "CryptoNight"
          ],
          [
           3,
           "Ethash"
          ],
          [
           3,
           "X11"
          ],
          [
           3,
           "CryptoNight-V7"
          ],
          [
           3,
           "Scrypt"
          ],
          [
           3,
           "BLAKE256"
          ],
          [
           3,
           "X11"
          ],
          [
           3,
           "NeoScrypt"
          ],
          [
           3,
           "NeoScrypt"
          ],
          [
           3,
           "Scrypt"
          ],
          [
           3,
           "X11"
          ],
          [
           3,
           "SHA-256"
          ],
          [
           3,
           "C11"
          ],
          [
           3,
           "Ethash"
          ],
          [
           3,
           "CryptoNight"
          ],
          [
           3,
           "SkunkHash"
          ],
          [
           3,
           "CryptoNight"
          ],
          [
           3,
           "Scrypt"
          ],
          [
           3,
           "Dagger"
          ],
          [
           3,
           "Lyra2REv2"
          ],
          [
           3,
           "Scrypt"
          ],
          [
           3,
           "Scrypt"
          ],
          [
           3,
           "X11"
          ],
          [
           3,
           "Ethash"
          ],
          [
           3,
           "CryptoNight"
          ],
          [
           3,
           "Scrypt"
          ],
          [
           3,
           "IMesh"
          ],
          [
           3,
           "Equihash"
          ],
          [
           3,
           "Lyra2Z"
          ],
          [
           3,
           "X11"
          ],
          [
           3,
           "CryptoNight"
          ],
          [
           3,
           "NIST5"
          ],
          [
           3,
           "Lyra2RE"
          ],
          [
           3,
           "Tribus"
          ],
          [
           3,
           "Lyra2Z"
          ],
          [
           3,
           "CryptoNight"
          ],
          [
           3,
           "CryptoNight Heavy"
          ],
          [
           3,
           "CryptoNight"
          ],
          [
           3,
           "Jump Consistent Hash"
          ],
          [
           3,
           "CryptoNight"
          ],
          [
           3,
           "X16R"
          ],
          [
           3,
           "HMQ1725"
          ],
          [
           3,
           "X11"
          ],
          [
           3,
           "Scrypt"
          ],
          [
           3,
           "CryptoNight-V7"
          ],
          [
           3,
           "Cryptonight-GPU"
          ],
          [
           3,
           "XEVAN"
          ],
          [
           3,
           "CryptoNight Heavy"
          ],
          [
           3,
           "SHA-256"
          ],
          [
           3,
           "X11"
          ],
          [
           3,
           "X16R"
          ],
          [
           3,
           "Equihash"
          ],
          [
           3,
           "Lyra2Z"
          ],
          [
           3,
           "SHA-256"
          ],
          [
           3,
           "CryptoNight"
          ],
          [
           3,
           "Blake"
          ],
          [
           3,
           "Blake"
          ],
          [
           3,
           "Exosis"
          ],
          [
           3,
           "Scrypt"
          ],
          [
           3,
           "Equihash"
          ],
          [
           3,
           "Equihash"
          ],
          [
           3,
           "QuBit"
          ],
          [
           3,
           "SHA-256"
          ],
          [
           3,
           "X13"
          ],
          [
           3,
           "SHA-256"
          ],
          [
           3,
           "Scrypt"
          ],
          [
           3,
           "NeoScrypt"
          ],
          [
           3,
           "Blake"
          ],
          [
           3,
           "Scrypt"
          ],
          [
           3,
           "SHA-256"
          ],
          [
           3,
           "Scrypt"
          ],
          [
           3,
           "Groestl"
          ],
          [
           3,
           "Scrypt"
          ],
          [
           3,
           "Scrypt"
          ],
          [
           3,
           "Multiple"
          ],
          [
           3,
           "Equihash+Scrypt"
          ],
          [
           3,
           "Ethash"
          ],
          [
           3,
           "CryptoNight"
          ],
          [
           3,
           "Equihash"
          ]
         ],
         "hovertemplate": "<b>%{hovertext}</b><br><br>class=%{marker.color}<br>pc1=%{x}<br>pc2=%{y}<br>pc3=%{z}<br>Algorithm=%{customdata[1]}<extra></extra>",
         "hovertext": [
          "Bitcoin",
          "Ethereum",
          "Litecoin",
          "Monero",
          "Ethereum Classic",
          "ZCash",
          "DigiByte",
          "ProsperCoin",
          "Spreadcoin",
          "Argentum",
          "MyriadCoin",
          "MoonCoin",
          "ZetaCoin",
          "SexCoin",
          "Quatloo",
          "QuarkCoin",
          "Riecoin",
          "Digitalcoin ",
          "Catcoin",
          "CannaCoin",
          "CryptCoin",
          "Verge",
          "DevCoin",
          "EarthCoin",
          "E-Gulden",
          "Einsteinium",
          "Emerald",
          "Franko",
          "FeatherCoin",
          "GrandCoin",
          "GlobalCoin",
          "GoldCoin",
          "Infinite Coin",
          "IXcoin",
          "KrugerCoin",
          "LuckyCoin",
          "Litebar ",
          "MegaCoin",
          "MediterraneanCoin",
          "MinCoin",
          "NobleCoin",
          "Namecoin",
          "NyanCoin",
          "RonPaulCoin",
          "StableCoin",
          "SmartCoin",
          "SysCoin",
          "TigerCoin",
          "TerraCoin",
          "UnbreakableCoin",
          "Unobtanium",
          "UroCoin",
          "ViaCoin",
          "Vertcoin",
          "WorldCoin",
          "JouleCoin",
          "ByteCoin",
          "DigitalNote ",
          "MonaCoin",
          "Gulden",
          "PesetaCoin",
          "Wild Beast Coin",
          "Flo",
          "ArtByte",
          "Folding Coin",
          "Unitus",
          "CypherPunkCoin",
          "OmniCron",
          "GreenCoin",
          "Cryptonite",
          "MasterCoin",
          "SoonCoin",
          "1Credit",
          "MarsCoin ",
          "Crypto",
          "Anarchists Prime",
          "BowsCoin",
          "Song Coin",
          "BitZeny",
          "Expanse",
          "Siacoin",
          "MindCoin",
          "I0coin",
          "Revolution VR",
          "HOdlcoin",
          "Gamecredits",
          "CarpeDiemCoin",
          "Adzcoin",
          "SoilCoin",
          "YoCoin",
          "SibCoin",
          "Francs",
          "BolivarCoin",
          "Omni",
          "PizzaCoin",
          "Komodo",
          "Karbo",
          "ZayedCoin",
          "Circuits of Value",
          "DopeCoin",
          "DollarCoin",
          "Shilling",
          "ZCoin",
          "Elementrem",
          "ZClassic",
          "KiloCoin",
          "ArtexCoin",
          "Kurrent",
          "Cannabis Industry Coin",
          "OsmiumCoin",
          "Bikercoins",
          "HexxCoin",
          "PacCoin",
          "Citadel",
          "BeaverCoin",
          "VaultCoin",
          "Zero",
          "Canada eCoin",
          "Zoin",
          "DubaiCoin",
          "EB3coin",
          "Coinonat",
          "BenjiRolls",
          "ILCoin",
          "EquiTrader",
          "Quantum Resistant Ledger",
          "Dynamic",
          "Nano",
          "ChanCoin",
          "Dinastycoin",
          "DigitalPrice",
          "Unify",
          "SocialCoin",
          "ArcticCoin",
          "DAS",
          "LeviarCoin",
          "Bitcore",
          "gCn Coin",
          "SmartCash",
          "Onix",
          "Bitcoin Cash",
          "Sojourn Coin",
          "NewYorkCoin",
          "FrazCoin",
          "Kronecoin",
          "AdCoin",
          "Linx",
          "Sumokoin",
          "BitcoinZ",
          "Elements",
          "VIVO Coin",
          "Bitcoin Gold",
          "Pirl",
          "eBoost",
          "Pura",
          "Innova",
          "Ellaism",
          "GoByte",
          "SHIELD",
          "UltraNote",
          "BitCoal",
          "DaxxCoin",
          "AC3",
          "Lethean",
          "PopularCoin",
          "Photon",
          "Sucre",
          "SparksPay",
          "GunCoin",
          "IrishCoin",
          "Pioneer Coin",
          "UnitedBitcoin",
          "Interzone",
          "1717 Masonic Commemorative Token",
          "TurtleCoin",
          "MUNcoin",
          "Niobio Cash",
          "ShareChain",
          "Travelflex",
          "KREDS",
          "BitFlip",
          "LottoCoin",
          "Crypto Improvement Fund",
          "Callisto Network",
          "BitTube",
          "Poseidon",
          "Aidos Kuneen",
          "Bitrolium",
          "Alpenschillling",
          "FuturoCoin",
          "Monero Classic",
          "Jumpcoin",
          "Infinex",
          "KEYCO",
          "GINcoin",
          "PlatinCoin",
          "Loki",
          "Newton Coin",
          "MassGrid",
          "PluraCoin",
          "Motion",
          "PlusOneCoin",
          "Axe",
          "HexCoin",
          "Webchain",
          "Ryo",
          "Urals Coin",
          "Qwertycoin",
          "Project Pai",
          "Azart",
          "Xchange",
          "CrypticCoin",
          "Actinium",
          "Bitcoin SV",
          "FREDEnergy",
          "Universal Molecule",
          "Lithium",
          "Exosis",
          "Block-Logic",
          "Beam",
          "Bithereum",
          "SLICE",
          "BLAST",
          "Bitcoin Rhodium",
          "GlobalToken",
          "SolarCoin",
          "UFO Coin",
          "BlakeCoin",
          "Crypto Escudo",
          "Crown Coin",
          "SmileyCoin",
          "Groestlcoin",
          "Bata",
          "Pakcoin",
          "JoinCoin",
          "Vollar",
          "Reality Clash",
          "Beldex",
          "Horizen"
         ],
         "legendgroup": "3",
         "marker": {
          "color": [
           3,
           3,
           3,
           3,
           3,
           3,
           3,
           3,
           3,
           3,
           3,
           3,
           3,
           3,
           3,
           3,
           3,
           3,
           3,
           3,
           3,
           3,
           3,
           3,
           3,
           3,
           3,
           3,
           3,
           3,
           3,
           3,
           3,
           3,
           3,
           3,
           3,
           3,
           3,
           3,
           3,
           3,
           3,
           3,
           3,
           3,
           3,
           3,
           3,
           3,
           3,
           3,
           3,
           3,
           3,
           3,
           3,
           3,
           3,
           3,
           3,
           3,
           3,
           3,
           3,
           3,
           3,
           3,
           3,
           3,
           3,
           3,
           3,
           3,
           3,
           3,
           3,
           3,
           3,
           3,
           3,
           3,
           3,
           3,
           3,
           3,
           3,
           3,
           3,
           3,
           3,
           3,
           3,
           3,
           3,
           3,
           3,
           3,
           3,
           3,
           3,
           3,
           3,
           3,
           3,
           3,
           3,
           3,
           3,
           3,
           3,
           3,
           3,
           3,
           3,
           3,
           3,
           3,
           3,
           3,
           3,
           3,
           3,
           3,
           3,
           3,
           3,
           3,
           3,
           3,
           3,
           3,
           3,
           3,
           3,
           3,
           3,
           3,
           3,
           3,
           3,
           3,
           3,
           3,
           3,
           3,
           3,
           3,
           3,
           3,
           3,
           3,
           3,
           3,
           3,
           3,
           3,
           3,
           3,
           3,
           3,
           3,
           3,
           3,
           3,
           3,
           3,
           3,
           3,
           3,
           3,
           3,
           3,
           3,
           3,
           3,
           3,
           3,
           3,
           3,
           3,
           3,
           3,
           3,
           3,
           3,
           3,
           3,
           3,
           3,
           3,
           3,
           3,
           3,
           3,
           3,
           3,
           3,
           3,
           3,
           3,
           3,
           3,
           3,
           3,
           3,
           3,
           3,
           3,
           3,
           3,
           3,
           3,
           3,
           3,
           3,
           3,
           3,
           3,
           3,
           3,
           3,
           3,
           3,
           3,
           3,
           3,
           3,
           3,
           3,
           3,
           3,
           3,
           3,
           3,
           3,
           3,
           3,
           3
          ],
          "coloraxis": "coloraxis",
          "symbol": "diamond"
         },
         "mode": "markers",
         "name": "3",
         "scene": "scene",
         "showlegend": true,
         "type": "scatter3d",
         "x": [
          -0.14617623773043908,
          -0.14357803066118985,
          -0.15865792084924518,
          -0.1560351256439373,
          -0.14201801427145833,
          -0.15156150406412494,
          0.15777819025777987,
          -0.1598053588508846,
          -0.24172512782677907,
          -0.15942142509334903,
          -0.095909128707926,
          2.5656844570871606,
          -0.14325816420962004,
          -0.1566738396643528,
          -0.15922516630669875,
          -0.2267287505426528,
          -0.20341381710435374,
          -0.15927415100762504,
          -0.15978760957746108,
          -0.15987416549937195,
          -0.24181455383429293,
          0.1815331827604633,
          0.23206556251162125,
          0.08911522241297137,
          -0.15962021565845594,
          -0.1552208177189485,
          -0.15955942064938425,
          -0.1599312239265966,
          -0.17655238135002913,
          -0.13913097674825528,
          -0.15872509616433633,
          -0.1590027756297362,
          1.5907857534109073,
          -0.14613757385099924,
          -0.15628919047036804,
          -0.15964668336918383,
          -0.160001864788866,
          -0.15926034146595497,
          -0.10852923954533418,
          -0.15988300018170443,
          -0.02462205026594528,
          -0.14621525131411964,
          -0.15354036889613856,
          -0.15986238741194278,
          -0.15795432091740866,
          -0.15934858780384037,
          -0.1333533804424296,
          -0.14567847083178503,
          -0.14596594001403745,
          -0.14594878435687828,
          -0.1465402643098649,
          -0.2419886578072552,
          -0.15957862573674422,
          -0.1726475210357747,
          -0.15667850659488444,
          -0.14574583030437424,
          3.870159116892279,
          0.46561701954946827,
          -0.15844497140602568,
          -0.14302537301225304,
          -0.15716248140053454,
          -0.16000407177111892,
          -0.15702742555993615,
          -0.14323640116110725,
          -0.12275664345965288,
          -0.1299516649204043,
          -0.20517970326909554,
          -0.15987703748786283,
          -0.032672331509570954,
          -0.08683147495234811,
          -0.16001297863728592,
          -0.14624305280632777,
          0.49301067364050033,
          -0.2413752059554146,
          -0.14497962334897938,
          -0.14598258217887763,
          -0.2416603903145418,
          -0.1581344485742391,
          -0.15732586181119645,
          -0.14464635419643385,
          0.36860794678158165,
          -0.2416958341568092,
          -0.14613869717094083,
          -0.1559666593027242,
          -0.13869479255318246,
          -0.15857481572975887,
          0.27277768464104324,
          -0.24085560702854986,
          -0.1722692028453729,
          -0.1588221766834898,
          -0.13761174018151995,
          -0.15980264491920843,
          -0.24165901616722155,
          -0.16001303719262558,
          -0.2418091167571906,
          -0.2706189935419576,
          0.310354832047578,
          -0.1463990439286142,
          -0.11000296988731081,
          -0.157176644066315,
          -0.14635763489508705,
          -0.1596760497419515,
          -0.157317904257461,
          -0.14438825776028882,
          -0.15158313980470775,
          -0.08664280046131412,
          -0.22837927653351967,
          -0.23963472247754886,
          0.3103492272066521,
          -0.1599947523713515,
          0.31048006929061284,
          -0.145520718365997,
          0.47438241435669126,
          -0.15479815482810405,
          -0.15996300997503898,
          -0.23453369421386722,
          -0.15159553843375895,
          -0.1580943453549228,
          -0.1452388189233616,
          -0.1730847913162143,
          -0.1308484418748504,
          -0.1914527503602708,
          -0.1595249034879309,
          -0.11268690196516752,
          -0.1593466950114068,
          -0.15465602983896087,
          -0.09639067946669477,
          -0.0320400753091077,
          -0.141092602016219,
          0.34650895050115516,
          -0.24086395541799888,
          -0.15966640510915303,
          -0.1594293987028986,
          -0.24125910767585426,
          -0.24183719355953648,
          0.31074466435320053,
          -0.1275328726973746,
          3.253288905924567,
          -0.1044812106330838,
          -0.23269788906501285,
          -0.14617540122502878,
          -0.08548790088672344,
          1.5885166037741059,
          -0.15976433488473757,
          -0.15921529436530335,
          -0.15891595865922362,
          -0.1589028782839875,
          0.3109285471103856,
          0.060983019628784524,
          -0.19617885931693566,
          -0.18124618392676478,
          -0.15144144349231525,
          -0.17102681252949103,
          -0.1580925529611621,
          -0.23737668593924352,
          -0.18109140330700974,
          -0.14275121644886096,
          -0.18119173824018336,
          -0.12017287548917406,
          1.1492940353795342,
          0.3103319541897661,
          -0.06754372895266786,
          -0.23711738300692434,
          -0.14375575909932645,
          -0.07606368125123454,
          1.115755003279083,
          -0.24181116673819375,
          -0.18124376007570417,
          -0.17427404435532876,
          -0.1590145443419727,
          -0.24173649921924523,
          -0.1461547835328893,
          -0.1973402406798338,
          -0.2647347283756218,
          8.058130178487085,
          -0.1832398836457417,
          0.314210792281563,
          0.03322699589964211,
          -0.17052978235652325,
          -0.15818976087415826,
          -0.15958884372908222,
          0.14781303548711366,
          -0.23587078403604975,
          -0.09572881890378954,
          0.3182651663586202,
          -0.15982612148146658,
          -0.16153135218869666,
          -0.15043150184425474,
          -0.1550985904966537,
          -0.24090476317612533,
          0.31051465019491675,
          -0.1915123520957766,
          -0.14536576985013078,
          -0.16312097756671343,
          -0.157402389316265,
          0.31444816056094527,
          0.5866460111524581,
          2.1211651040217174,
          -0.1719465080876018,
          0.32413457381535143,
          -0.19098766019593508,
          -0.12714255272134814,
          -0.24179330759353068,
          -0.1598507210280372,
          -0.1436330921503765,
          -0.12254151633017582,
          -0.21680582671691476,
          3.1119875231843865,
          -0.10596158673266894,
          -0.24176463539216259,
          -0.19041463362417213,
          -0.04607182804338776,
          -0.15679938094482274,
          -0.14617543882303213,
          0.3903701408757297,
          -0.12911753632459166,
          -0.12951016006115956,
          -0.12734767516885045,
          -0.1587417399898645,
          -0.1494990804414769,
          -0.15127408531719527,
          -0.20438966785716983,
          -0.1454508141304279,
          -0.10680194745226979,
          -0.14431743375831932,
          0.5369880184918058,
          -0.10633156933399743,
          -0.07991000255886743,
          -0.1433871178020212,
          -0.14596530991936113,
          0.5566083599628792,
          -0.20297436844836805,
          -0.15992768159629053,
          -0.1578810461320501,
          -0.13068717822542172,
          -0.16783873857686474,
          -0.14442145061674816,
          0.33211244237742704,
          -0.15156256192827838
         ],
         "y": [
          -1.3549115483828011,
          -2.1001658570724406,
          -1.0743726434097467,
          -2.231677068521738,
          -2.1002633925592957,
          -2.0163256920828014,
          -1.8652570383556062,
          -1.074366081903009,
          -0.9669201106142346,
          -1.074383898517292,
          -1.860192340726202,
          -1.2569483843000664,
          -1.3549200960300194,
          -1.0744246552689523,
          -1.074402996687421,
          -0.4667783931885975,
          -1.2039634258716672,
          -1.0743676943359821,
          -1.0743654889185938,
          -1.074362779325492,
          -0.9669216729663637,
          -1.8612957332956668,
          -1.3572253234043063,
          -1.0756555567582244,
          -1.0743598964651582,
          -1.074411595343582,
          -1.0743657043863957,
          -1.0743633285910505,
          -1.6551342583104152,
          -1.0746727877109366,
          -1.0743649107337516,
          -1.0743757880815852,
          -1.0804307259696508,
          -1.3549102566635618,
          -1.0744227939951758,
          -1.074360068085318,
          -1.0743586436213362,
          -1.0743628388478867,
          -2.3074556937365744,
          -1.074360836799528,
          -1.0805243555122264,
          -1.3549128517852849,
          -1.0743819688378173,
          -1.074367987166797,
          -1.0744674347906087,
          -1.0743723433341672,
          -1.355101007460908,
          -1.3549134556352287,
          -1.3549194879570792,
          -1.3549459950489686,
          -1.3549089228864184,
          -0.9669146621114896,
          -1.07435993226596,
          -1.209490710371615,
          -1.0744358006343127,
          -1.3549142722389602,
          -2.3246433317859774,
          -2.3140533462306156,
          -1.074380579909201,
          -1.0749877468103388,
          -1.0743813937573086,
          -1.0743596281056451,
          -1.0743723307784974,
          -1.074510203193311,
          -2.3240318479894695,
          -1.8599043897727048,
          -1.577809685507574,
          -1.0743559137550653,
          -1.0772301168489284,
          -2.152940264729026,
          -1.0743584943254925,
          -1.3549137806036764,
          -1.1181039212101014,
          -0.9669176843894202,
          -2.274424849164208,
          -1.3549284245771154,
          -0.9669186604405632,
          -1.0744451181776258,
          -1.074446438637888,
          -2.100213596770622,
          -2.1443319862332775,
          -0.9669162813917427,
          -1.3549102941924906,
          -1.0743725236022883,
          -2.273306356824334,
          -1.074369866955773,
          -1.3563114854793845,
          -0.9669366696782141,
          -2.2305171882699257,
          -1.0744382429652992,
          -2.266196296341368,
          -1.074365278595422,
          -0.9669214650837796,
          -1.074358494122471,
          -0.9669264797854193,
          -1.2745150389812994,
          -2.312121237697326,
          -1.3549109649472622,
          -1.860093090619339,
          -1.0744058215308852,
          -1.3549102245271836,
          -1.0743681755647676,
          -2.2284673023650883,
          -2.1002116009642213,
          -2.016326414909966,
          -1.0790332130206426,
          -0.9668163061086922,
          -0.9669985010920285,
          -2.3121292639671833,
          -1.0743593782450584,
          -2.3121277432238423,
          -2.27440316914162,
          -1.0142452643397861,
          -2.231767580668718,
          -1.074358777925574,
          -0.9673782376839869,
          -2.0163239785830007,
          -1.074365217157826,
          -2.274401590198763,
          -2.3767543806895266,
          -1.07623424861882,
          -0.670550559736227,
          -1.0743670599754465,
          -1.355559334781682,
          -1.0743871029684957,
          -2.2317058213829974,
          -2.274751269737018,
          -2.157959710206324,
          -2.2364755461972687,
          -2.3123315165458695,
          -0.9669483507971486,
          -1.0743602115879445,
          -1.074392003925199,
          -0.9669330468950895,
          -0.9669230707097968,
          -2.3121395698853733,
          -2.23510406441223,
          -1.1028508553233518,
          -1.0924901803141613,
          -0.9673881691800491,
          -1.3549115204360402,
          -1.0793509480526013,
          -1.0159415325423904,
          -1.07436399869777,
          -1.074391264668231,
          -1.074392666387606,
          -1.0743922293861317,
          -2.312158289704892,
          -2.024175237513796,
          -0.9666669537016763,
          -1.6550708681364348,
          -2.0163216809863336,
          -2.2305656923042103,
          -1.0743651572758497,
          -0.9670100043209585,
          -1.6550785245640618,
          -2.100337772727416,
          -1.6550724698261723,
          -1.8600480318647452,
          -2.3446602720917964,
          -2.3121237836173236,
          -2.104752011687276,
          -0.9671438688859196,
          -2.2319790964129536,
          -1.0751165858302427,
          -1.3204477156898042,
          -0.9669228425554831,
          -1.655066511330106,
          -1.6551750141188486,
          -1.0743703050625861,
          -0.966922628434423,
          -1.3549102372806985,
          -1.2580464264777604,
          -0.15209398410868913,
          -2.7659071534563466,
          -2.1345426228718027,
          -2.312224734142158,
          -1.0750284901579261,
          -2.2305089607351634,
          -1.2097317321401708,
          -1.074372388484352,
          -1.0771914253561914,
          -0.967066589435121,
          -2.1031994126532227,
          -2.3125624734366745,
          -1.0743667755604929,
          -2.2598016604233067,
          -2.0163228591684486,
          -2.228591698392662,
          -0.9669497141411011,
          -2.31212188450164,
          -0.670533130156116,
          -2.2744095942233584,
          -2.2474569331405063,
          -2.2284623571671065,
          -2.312404940722136,
          -2.2000218573217643,
          -2.382742252201822,
          -2.2784780322215052,
          -2.3123663827537313,
          -1.3011168534174407,
          -2.2600870226581016,
          -0.9669231010659931,
          -1.0743683850576942,
          -2.232509846235829,
          -2.164462417469472,
          -0.8501780374395171,
          -2.2470063108723313,
          -1.355049593924752,
          -0.9669249937101535,
          -1.301153241024695,
          -2.018202477245936,
          -2.2284945901898787,
          -1.3549115216921492,
          -2.3151989997323197,
          -2.1977766282733584,
          -2.1977328119098454,
          -2.291541401682259,
          -1.0744010986866066,
          -2.0164291045650176,
          -2.016323134866387,
          -1.5778545550622778,
          -1.3549179561833438,
          -0.40252868300684513,
          -1.3549542054988153,
          -1.120981776558692,
          -1.655399361051154,
          -2.2010462102499897,
          -1.0745152384765595,
          -1.3549194669062836,
          -1.0860483936713254,
          -1.2039637097559013,
          -1.074358766368209,
          -1.0744165273732997,
          -1.8599309578791703,
          -2.2950487689800245,
          -2.1002114858789036,
          -2.3123850644623376,
          -2.016325727424922
         ],
         "z": [
          0.1717613363725522,
          0.2964423377031432,
          -0.002582861192826371,
          0.4209185200992328,
          0.2964221089592241,
          0.4167753460337882,
          0.35835616270215837,
          -0.0025576606258348694,
          0.019118207984103457,
          -0.0025636189888405664,
          0.3633554449505775,
          -0.03597043841287548,
          0.1716959593801644,
          -0.002619996606062994,
          -0.002565082646676264,
          0.08169913180643026,
          0.1729090384071054,
          -0.0025695529587290316,
          -0.002558160422076347,
          -0.002556610150746986,
          0.019120500395759802,
          0.3571856187485556,
          0.16347810083011577,
          -0.008045782888442578,
          -0.002562874015110119,
          -0.0026552925353391338,
          -0.0025633445324365596,
          -0.002555218354816639,
          0.24918102122883679,
          -0.0029818730119787877,
          -0.0025825495754655294,
          -0.0025744770507308092,
          -0.041629836248764984,
          0.17176024764846376,
          -0.002629087528650017,
          -0.0025622415727842057,
          -0.0025543448511002975,
          -0.0025706376730012196,
          0.3466859023516891,
          -0.0025567157382008266,
          -0.004673810084971359,
          0.17176243494386384,
          -0.002698412760866034,
          -0.0025560547764126936,
          -0.0025839399347690113,
          -0.0025671145182321973,
          0.171498105671505,
          0.17175025545602604,
          0.1717577845918954,
          0.17176158995042326,
          0.17176924516963066,
          0.019123371569114134,
          -0.0025638194253812005,
          0.12691882941329954,
          -0.0026181248976099893,
          0.17175192515239138,
          0.33045037897537877,
          0.4066285252338992,
          -0.002586474100204837,
          -0.002842938769038113,
          -0.0026156732426189542,
          -0.002554138478391605,
          -0.0026201969213245934,
          -0.0029137369863637464,
          0.3687503082821169,
          0.36408833075288305,
          0.31402765673897926,
          -0.002557631708754078,
          -0.005011393063010963,
          0.3421130000660134,
          -0.002554114341803129,
          0.17176321779739143,
          -0.01055993583715845,
          0.019109821741182306,
          0.3369068403368586,
          0.17175958037252653,
          0.01911649791440118,
          -0.002583354838159855,
          -0.0026016365182686533,
          0.2964743282404731,
          0.429160886414418,
          0.019116931698143973,
          0.1717602792796788,
          -0.0026444240234303885,
          0.3724524109879495,
          -0.0025852013239149106,
          0.16240237890476356,
          0.019100946054415244,
          0.42973621342652796,
          -0.0025687166106987333,
          0.4098249600025503,
          -0.002557849900254641,
          0.019116910634880933,
          -0.0025541130349081673,
          0.019121137270468665,
          0.5480124538139685,
          0.40987309650782167,
          0.17176633911894124,
          0.3636620260853188,
          -0.0026114809774061103,
          0.17176527492254917,
          -0.002560286117612439,
          0.4849630878926052,
          0.2964681100258823,
          0.4167759552678431,
          -0.003491655500334055,
          0.01879657608954985,
          0.019082818475951644,
          0.40987449572311285,
          -0.002554391162764803,
          0.4098712627964398,
          0.33691578085770296,
          0.010236669120926262,
          0.42090456655297726,
          -0.002555212115786781,
          0.019026303246069676,
          0.4167758529822979,
          -0.0025969250803340514,
          0.3369090843298671,
          0.32038777970787646,
          -0.0029240046606014486,
          0.0029292364868082456,
          -0.0025639192003485273,
          0.17109808487479655,
          -0.002564820460526071,
          0.4208915362065462,
          0.3377517877926738,
          0.4404810109284019,
          0.28257425584014995,
          0.40907962278466126,
          0.019102986792762535,
          -0.0025617678502454187,
          -0.002562153072134098,
          0.019109599615010076,
          0.019121239469004757,
          0.40986708490311047,
          0.40656543573410076,
          -0.07609755170066301,
          0.2493139692884383,
          0.01898589474941939,
          0.17176131281766338,
          -0.003467749123318331,
          -0.0517904821286645,
          -0.002558928660538724,
          -0.0025671662862464494,
          -0.0025737895281553107,
          -0.002574157854352328,
          0.40986584434495676,
          0.413157928300529,
          0.018036564373836703,
          0.2492783207653465,
          0.41677196528568033,
          0.42971548352387406,
          -0.002596975551789525,
          0.019033003278261868,
          0.24927599371225437,
          0.2964506547267522,
          0.2492773293438767,
          0.3638874562980592,
          0.39584110284274276,
          0.40987402285243274,
          0.2954298482332978,
          0.019048272381289675,
          0.4206855444088927,
          -0.004353817941839939,
          0.05916088277950745,
          0.019120608156178807,
          0.24927757539088533,
          0.24913537425092086,
          -0.0025750762167173788,
          0.01911886674858739,
          0.1717606381305583,
          0.1396843807285408,
          0.04562391178167285,
          0.3045584503129286,
          0.5559269306021871,
          0.40980130802423526,
          -0.006867031621728614,
          0.42969513338540133,
          0.12662637718960065,
          -0.0025616131878043705,
          -0.009144865591601622,
          0.019007527107278665,
          0.29582851553825884,
          0.4097620770064376,
          -0.002557075977411194,
          0.3507028656720231,
          0.4167490564841883,
          0.4849320359616234,
          0.019104135885666083,
          0.4098695442093698,
          0.0029278393053348856,
          0.33691325496868335,
          0.34221654042437144,
          0.48496423677600276,
          0.40982441747139087,
          0.44370963277001724,
          0.3796470022033218,
          0.33697663130148037,
          0.4095968021967888,
          0.19142710957419062,
          0.38484683623019267,
          0.019120240690506794,
          -0.0025562585534882774,
          0.42076678903107473,
          0.3322484974504727,
          0.11539121166203582,
          0.39340051836712603,
          0.17086356735919989,
          0.019119884733616792,
          0.19141976794103782,
          0.41466021316137675,
          0.4849555515962504,
          0.17176131387637375,
          0.4085306995273445,
          0.43618659248599895,
          0.4361886322400754,
          0.4147607078130017,
          -0.0025764382238772096,
          0.4167445589082438,
          0.4167683683704912,
          0.31401669574541713,
          0.1717457621038361,
          -0.06515146848569352,
          0.171725584381543,
          -0.01110987277874916,
          0.24761719116893338,
          0.4355790854118604,
          -0.0029094930035901633,
          0.17175776684925634,
          -0.017090617183261884,
          0.17289903403677387,
          -0.002556021836546974,
          -0.002593677305842089,
          0.3641093578323639,
          0.4924615203576907,
          0.2964688508562575,
          0.40941732247885604,
          0.4167753758218541
         ]
        },
        {
         "customdata": [
          [
           1,
           "Proof-of-BibleHash"
          ],
          [
           1,
           "SHA-256 + Hive"
          ],
          [
           1,
           "Proof-of-Authority"
          ],
          [
           1,
           "ECC 256K1"
          ],
          [
           1,
           "Leased POS"
          ]
         ],
         "hovertemplate": "<b>%{hovertext}</b><br><br>class=%{marker.color}<br>pc1=%{x}<br>pc2=%{y}<br>pc3=%{z}<br>Algorithm=%{customdata[1]}<extra></extra>",
         "hovertext": [
          "BiblePay",
          "LitecoinCash",
          "Poa Network",
          "Acute Angle Cloud",
          "Waves"
         ],
         "legendgroup": "1",
         "marker": {
          "color": [
           1,
           1,
           1,
           1,
           1
          ],
          "coloraxis": "coloraxis",
          "symbol": "square"
         },
         "mode": "markers",
         "name": "1",
         "scene": "scene",
         "showlegend": true,
         "type": "scatter3d",
         "x": [
          -0.29728250989789545,
          -0.3491128820559019,
          -0.29355404511739447,
          -0.4547294486019974,
          -0.323947922939403
         ],
         "y": [
          2.5740916608369493,
          2.9363904714998164,
          3.752326435356583,
          2.1533323582345703,
          3.92638314948947
         ],
         "z": [
          16.720680604669358,
          10.85736099935607,
          12.552208410063741,
          12.09325634272821,
          16.5561222463
         ]
        },
        {
         "customdata": [
          [
           2,
           "TRC10"
          ]
         ],
         "hovertemplate": "<b>%{hovertext}</b><br><br>class=%{marker.color}<br>pc1=%{x}<br>pc2=%{y}<br>pc3=%{z}<br>Algorithm=%{customdata[1]}<extra></extra>",
         "hovertext": [
          "BitTorrent"
         ],
         "legendgroup": "2",
         "marker": {
          "color": [
           2
          ],
          "coloraxis": "coloraxis",
          "symbol": "x"
         },
         "mode": "markers",
         "name": "2",
         "scene": "scene",
         "showlegend": true,
         "type": "scatter3d",
         "x": [
          34.06602641844602
         ],
         "y": [
          1.702322076746424
         ],
         "z": [
          -0.8609897672477695
         ]
        }
       ],
       "layout": {
        "autosize": true,
        "coloraxis": {
         "colorbar": {
          "title": {
           "text": "class"
          }
         },
         "colorscale": [
          [
           0,
           "#0d0887"
          ],
          [
           0.1111111111111111,
           "#46039f"
          ],
          [
           0.2222222222222222,
           "#7201a8"
          ],
          [
           0.3333333333333333,
           "#9c179e"
          ],
          [
           0.4444444444444444,
           "#bd3786"
          ],
          [
           0.5555555555555556,
           "#d8576b"
          ],
          [
           0.6666666666666666,
           "#ed7953"
          ],
          [
           0.7777777777777778,
           "#fb9f3a"
          ],
          [
           0.8888888888888888,
           "#fdca26"
          ],
          [
           1,
           "#f0f921"
          ]
         ]
        },
        "legend": {
         "title": {
          "text": "class"
         },
         "tracegroupgap": 0,
         "x": 0,
         "y": 1
        },
        "margin": {
         "t": 60
        },
        "scene": {
         "aspectmode": "auto",
         "aspectratio": {
          "x": 1,
          "y": 1,
          "z": 1
         },
         "camera": {
          "center": {
           "x": 0,
           "y": 0,
           "z": 0
          },
          "eye": {
           "x": 0.4481294989126713,
           "y": -1.6131211207075824,
           "z": 0.16418539610794713
          },
          "projection": {
           "type": "perspective"
          },
          "up": {
           "x": 0,
           "y": 0,
           "z": 1
          }
         },
         "domain": {
          "x": [
           0,
           1
          ],
          "y": [
           0,
           1
          ]
         },
         "xaxis": {
          "title": {
           "text": "pc1"
          },
          "type": "linear"
         },
         "yaxis": {
          "title": {
           "text": "pc2"
          },
          "type": "linear"
         },
         "zaxis": {
          "title": {
           "text": "pc3"
          },
          "type": "linear"
         }
        },
        "template": {
         "data": {
          "bar": [
           {
            "error_x": {
             "color": "#2a3f5f"
            },
            "error_y": {
             "color": "#2a3f5f"
            },
            "marker": {
             "line": {
              "color": "#E5ECF6",
              "width": 0.5
             },
             "pattern": {
              "fillmode": "overlay",
              "size": 10,
              "solidity": 0.2
             }
            },
            "type": "bar"
           }
          ],
          "barpolar": [
           {
            "marker": {
             "line": {
              "color": "#E5ECF6",
              "width": 0.5
             },
             "pattern": {
              "fillmode": "overlay",
              "size": 10,
              "solidity": 0.2
             }
            },
            "type": "barpolar"
           }
          ],
          "carpet": [
           {
            "aaxis": {
             "endlinecolor": "#2a3f5f",
             "gridcolor": "white",
             "linecolor": "white",
             "minorgridcolor": "white",
             "startlinecolor": "#2a3f5f"
            },
            "baxis": {
             "endlinecolor": "#2a3f5f",
             "gridcolor": "white",
             "linecolor": "white",
             "minorgridcolor": "white",
             "startlinecolor": "#2a3f5f"
            },
            "type": "carpet"
           }
          ],
          "choropleth": [
           {
            "colorbar": {
             "outlinewidth": 0,
             "ticks": ""
            },
            "type": "choropleth"
           }
          ],
          "contour": [
           {
            "colorbar": {
             "outlinewidth": 0,
             "ticks": ""
            },
            "colorscale": [
             [
              0,
              "#0d0887"
             ],
             [
              0.1111111111111111,
              "#46039f"
             ],
             [
              0.2222222222222222,
              "#7201a8"
             ],
             [
              0.3333333333333333,
              "#9c179e"
             ],
             [
              0.4444444444444444,
              "#bd3786"
             ],
             [
              0.5555555555555556,
              "#d8576b"
             ],
             [
              0.6666666666666666,
              "#ed7953"
             ],
             [
              0.7777777777777778,
              "#fb9f3a"
             ],
             [
              0.8888888888888888,
              "#fdca26"
             ],
             [
              1,
              "#f0f921"
             ]
            ],
            "type": "contour"
           }
          ],
          "contourcarpet": [
           {
            "colorbar": {
             "outlinewidth": 0,
             "ticks": ""
            },
            "type": "contourcarpet"
           }
          ],
          "heatmap": [
           {
            "colorbar": {
             "outlinewidth": 0,
             "ticks": ""
            },
            "colorscale": [
             [
              0,
              "#0d0887"
             ],
             [
              0.1111111111111111,
              "#46039f"
             ],
             [
              0.2222222222222222,
              "#7201a8"
             ],
             [
              0.3333333333333333,
              "#9c179e"
             ],
             [
              0.4444444444444444,
              "#bd3786"
             ],
             [
              0.5555555555555556,
              "#d8576b"
             ],
             [
              0.6666666666666666,
              "#ed7953"
             ],
             [
              0.7777777777777778,
              "#fb9f3a"
             ],
             [
              0.8888888888888888,
              "#fdca26"
             ],
             [
              1,
              "#f0f921"
             ]
            ],
            "type": "heatmap"
           }
          ],
          "heatmapgl": [
           {
            "colorbar": {
             "outlinewidth": 0,
             "ticks": ""
            },
            "colorscale": [
             [
              0,
              "#0d0887"
             ],
             [
              0.1111111111111111,
              "#46039f"
             ],
             [
              0.2222222222222222,
              "#7201a8"
             ],
             [
              0.3333333333333333,
              "#9c179e"
             ],
             [
              0.4444444444444444,
              "#bd3786"
             ],
             [
              0.5555555555555556,
              "#d8576b"
             ],
             [
              0.6666666666666666,
              "#ed7953"
             ],
             [
              0.7777777777777778,
              "#fb9f3a"
             ],
             [
              0.8888888888888888,
              "#fdca26"
             ],
             [
              1,
              "#f0f921"
             ]
            ],
            "type": "heatmapgl"
           }
          ],
          "histogram": [
           {
            "marker": {
             "pattern": {
              "fillmode": "overlay",
              "size": 10,
              "solidity": 0.2
             }
            },
            "type": "histogram"
           }
          ],
          "histogram2d": [
           {
            "colorbar": {
             "outlinewidth": 0,
             "ticks": ""
            },
            "colorscale": [
             [
              0,
              "#0d0887"
             ],
             [
              0.1111111111111111,
              "#46039f"
             ],
             [
              0.2222222222222222,
              "#7201a8"
             ],
             [
              0.3333333333333333,
              "#9c179e"
             ],
             [
              0.4444444444444444,
              "#bd3786"
             ],
             [
              0.5555555555555556,
              "#d8576b"
             ],
             [
              0.6666666666666666,
              "#ed7953"
             ],
             [
              0.7777777777777778,
              "#fb9f3a"
             ],
             [
              0.8888888888888888,
              "#fdca26"
             ],
             [
              1,
              "#f0f921"
             ]
            ],
            "type": "histogram2d"
           }
          ],
          "histogram2dcontour": [
           {
            "colorbar": {
             "outlinewidth": 0,
             "ticks": ""
            },
            "colorscale": [
             [
              0,
              "#0d0887"
             ],
             [
              0.1111111111111111,
              "#46039f"
             ],
             [
              0.2222222222222222,
              "#7201a8"
             ],
             [
              0.3333333333333333,
              "#9c179e"
             ],
             [
              0.4444444444444444,
              "#bd3786"
             ],
             [
              0.5555555555555556,
              "#d8576b"
             ],
             [
              0.6666666666666666,
              "#ed7953"
             ],
             [
              0.7777777777777778,
              "#fb9f3a"
             ],
             [
              0.8888888888888888,
              "#fdca26"
             ],
             [
              1,
              "#f0f921"
             ]
            ],
            "type": "histogram2dcontour"
           }
          ],
          "mesh3d": [
           {
            "colorbar": {
             "outlinewidth": 0,
             "ticks": ""
            },
            "type": "mesh3d"
           }
          ],
          "parcoords": [
           {
            "line": {
             "colorbar": {
              "outlinewidth": 0,
              "ticks": ""
             }
            },
            "type": "parcoords"
           }
          ],
          "pie": [
           {
            "automargin": true,
            "type": "pie"
           }
          ],
          "scatter": [
           {
            "marker": {
             "colorbar": {
              "outlinewidth": 0,
              "ticks": ""
             }
            },
            "type": "scatter"
           }
          ],
          "scatter3d": [
           {
            "line": {
             "colorbar": {
              "outlinewidth": 0,
              "ticks": ""
             }
            },
            "marker": {
             "colorbar": {
              "outlinewidth": 0,
              "ticks": ""
             }
            },
            "type": "scatter3d"
           }
          ],
          "scattercarpet": [
           {
            "marker": {
             "colorbar": {
              "outlinewidth": 0,
              "ticks": ""
             }
            },
            "type": "scattercarpet"
           }
          ],
          "scattergeo": [
           {
            "marker": {
             "colorbar": {
              "outlinewidth": 0,
              "ticks": ""
             }
            },
            "type": "scattergeo"
           }
          ],
          "scattergl": [
           {
            "marker": {
             "colorbar": {
              "outlinewidth": 0,
              "ticks": ""
             }
            },
            "type": "scattergl"
           }
          ],
          "scattermapbox": [
           {
            "marker": {
             "colorbar": {
              "outlinewidth": 0,
              "ticks": ""
             }
            },
            "type": "scattermapbox"
           }
          ],
          "scatterpolar": [
           {
            "marker": {
             "colorbar": {
              "outlinewidth": 0,
              "ticks": ""
             }
            },
            "type": "scatterpolar"
           }
          ],
          "scatterpolargl": [
           {
            "marker": {
             "colorbar": {
              "outlinewidth": 0,
              "ticks": ""
             }
            },
            "type": "scatterpolargl"
           }
          ],
          "scatterternary": [
           {
            "marker": {
             "colorbar": {
              "outlinewidth": 0,
              "ticks": ""
             }
            },
            "type": "scatterternary"
           }
          ],
          "surface": [
           {
            "colorbar": {
             "outlinewidth": 0,
             "ticks": ""
            },
            "colorscale": [
             [
              0,
              "#0d0887"
             ],
             [
              0.1111111111111111,
              "#46039f"
             ],
             [
              0.2222222222222222,
              "#7201a8"
             ],
             [
              0.3333333333333333,
              "#9c179e"
             ],
             [
              0.4444444444444444,
              "#bd3786"
             ],
             [
              0.5555555555555556,
              "#d8576b"
             ],
             [
              0.6666666666666666,
              "#ed7953"
             ],
             [
              0.7777777777777778,
              "#fb9f3a"
             ],
             [
              0.8888888888888888,
              "#fdca26"
             ],
             [
              1,
              "#f0f921"
             ]
            ],
            "type": "surface"
           }
          ],
          "table": [
           {
            "cells": {
             "fill": {
              "color": "#EBF0F8"
             },
             "line": {
              "color": "white"
             }
            },
            "header": {
             "fill": {
              "color": "#C8D4E3"
             },
             "line": {
              "color": "white"
             }
            },
            "type": "table"
           }
          ]
         },
         "layout": {
          "annotationdefaults": {
           "arrowcolor": "#2a3f5f",
           "arrowhead": 0,
           "arrowwidth": 1
          },
          "autotypenumbers": "strict",
          "coloraxis": {
           "colorbar": {
            "outlinewidth": 0,
            "ticks": ""
           }
          },
          "colorscale": {
           "diverging": [
            [
             0,
             "#8e0152"
            ],
            [
             0.1,
             "#c51b7d"
            ],
            [
             0.2,
             "#de77ae"
            ],
            [
             0.3,
             "#f1b6da"
            ],
            [
             0.4,
             "#fde0ef"
            ],
            [
             0.5,
             "#f7f7f7"
            ],
            [
             0.6,
             "#e6f5d0"
            ],
            [
             0.7,
             "#b8e186"
            ],
            [
             0.8,
             "#7fbc41"
            ],
            [
             0.9,
             "#4d9221"
            ],
            [
             1,
             "#276419"
            ]
           ],
           "sequential": [
            [
             0,
             "#0d0887"
            ],
            [
             0.1111111111111111,
             "#46039f"
            ],
            [
             0.2222222222222222,
             "#7201a8"
            ],
            [
             0.3333333333333333,
             "#9c179e"
            ],
            [
             0.4444444444444444,
             "#bd3786"
            ],
            [
             0.5555555555555556,
             "#d8576b"
            ],
            [
             0.6666666666666666,
             "#ed7953"
            ],
            [
             0.7777777777777778,
             "#fb9f3a"
            ],
            [
             0.8888888888888888,
             "#fdca26"
            ],
            [
             1,
             "#f0f921"
            ]
           ],
           "sequentialminus": [
            [
             0,
             "#0d0887"
            ],
            [
             0.1111111111111111,
             "#46039f"
            ],
            [
             0.2222222222222222,
             "#7201a8"
            ],
            [
             0.3333333333333333,
             "#9c179e"
            ],
            [
             0.4444444444444444,
             "#bd3786"
            ],
            [
             0.5555555555555556,
             "#d8576b"
            ],
            [
             0.6666666666666666,
             "#ed7953"
            ],
            [
             0.7777777777777778,
             "#fb9f3a"
            ],
            [
             0.8888888888888888,
             "#fdca26"
            ],
            [
             1,
             "#f0f921"
            ]
           ]
          },
          "colorway": [
           "#636efa",
           "#EF553B",
           "#00cc96",
           "#ab63fa",
           "#FFA15A",
           "#19d3f3",
           "#FF6692",
           "#B6E880",
           "#FF97FF",
           "#FECB52"
          ],
          "font": {
           "color": "#2a3f5f"
          },
          "geo": {
           "bgcolor": "white",
           "lakecolor": "white",
           "landcolor": "#E5ECF6",
           "showlakes": true,
           "showland": true,
           "subunitcolor": "white"
          },
          "hoverlabel": {
           "align": "left"
          },
          "hovermode": "closest",
          "mapbox": {
           "style": "light"
          },
          "paper_bgcolor": "white",
          "plot_bgcolor": "#E5ECF6",
          "polar": {
           "angularaxis": {
            "gridcolor": "white",
            "linecolor": "white",
            "ticks": ""
           },
           "bgcolor": "#E5ECF6",
           "radialaxis": {
            "gridcolor": "white",
            "linecolor": "white",
            "ticks": ""
           }
          },
          "scene": {
           "xaxis": {
            "backgroundcolor": "#E5ECF6",
            "gridcolor": "white",
            "gridwidth": 2,
            "linecolor": "white",
            "showbackground": true,
            "ticks": "",
            "zerolinecolor": "white"
           },
           "yaxis": {
            "backgroundcolor": "#E5ECF6",
            "gridcolor": "white",
            "gridwidth": 2,
            "linecolor": "white",
            "showbackground": true,
            "ticks": "",
            "zerolinecolor": "white"
           },
           "zaxis": {
            "backgroundcolor": "#E5ECF6",
            "gridcolor": "white",
            "gridwidth": 2,
            "linecolor": "white",
            "showbackground": true,
            "ticks": "",
            "zerolinecolor": "white"
           }
          },
          "shapedefaults": {
           "line": {
            "color": "#2a3f5f"
           }
          },
          "ternary": {
           "aaxis": {
            "gridcolor": "white",
            "linecolor": "white",
            "ticks": ""
           },
           "baxis": {
            "gridcolor": "white",
            "linecolor": "white",
            "ticks": ""
           },
           "bgcolor": "#E5ECF6",
           "caxis": {
            "gridcolor": "white",
            "linecolor": "white",
            "ticks": ""
           }
          },
          "title": {
           "x": 0.05
          },
          "xaxis": {
           "automargin": true,
           "gridcolor": "white",
           "linecolor": "white",
           "ticks": "",
           "title": {
            "standoff": 15
           },
           "zerolinecolor": "white",
           "zerolinewidth": 2
          },
          "yaxis": {
           "automargin": true,
           "gridcolor": "white",
           "linecolor": "white",
           "ticks": "",
           "title": {
            "standoff": 15
           },
           "zerolinecolor": "white",
           "zerolinewidth": 2
          }
         }
        }
       }
      },
      "image/png": "[encoded data removed]",
      "text/html": [
       "<div>                            <div id=\"14b23906-3643-4a88-8241-22b75dd05564\" class=\"plotly-graph-div\" style=\"height:525px; width:800px;\"></div>            <script type=\"text/javascript\">                require([\"plotly\"], function(Plotly) {                    window.PLOTLYENV=window.PLOTLYENV || {};                                    if (document.getElementById(\"14b23906-3643-4a88-8241-22b75dd05564\")) {                    Plotly.newPlot(                        \"14b23906-3643-4a88-8241-22b75dd05564\",                        [{\"customdata\":[[0,\"Scrypt\"],[0,\"Scrypt\"],[0,\"X13\"],[0,\"X11\"],[0,\"SHA-512\"],[0,\"SHA-256\"],[0,\"SHA-256\"],[0,\"X15\"],[0,\"Scrypt\"],[0,\"Scrypt\"],[0,\"Scrypt\"],[0,\"Scrypt\"],[0,\"Scrypt\"],[0,\"Scrypt\"],[0,\"Groestl\"],[0,\"PoS\"],[0,\"Scrypt\"],[0,\"Scrypt\"],[0,\"X11\"],[0,\"X11\"],[0,\"SHA3\"],[0,\"Scrypt\"],[0,\"SHA-256\"],[0,\"Scrypt\"],[0,\"X13\"],[0,\"X13\"],[0,\"NeoScrypt\"],[0,\"Scrypt\"],[0,\"Scrypt\"],[0,\"Scrypt\"],[0,\"X11\"],[0,\"X11\"],[0,\"Multiple\"],[0,\"PHI1612\"],[0,\"X11\"],[0,\"Scrypt\"],[0,\"Scrypt\"],[0,\"Scrypt\"],[0,\"X11\"],[0,\"Multiple\"],[0,\"X13\"],[0,\"Scrypt\"],[0,\"Shabal256\"],[0,\"Counterparty\"],[0,\"SHA-256\"],[0,\"Groestl\"],[0,\"Scrypt\"],[0,\"X13\"],[0,\"Scrypt\"],[0,\"Scrypt\"],[0,\"X13\"],[0,\"X11\"],[0,\"Scrypt\"],[0,\"X11\"],[0,\"SHA3\"],[0,\"QUAIT\"],[0,\"X11\"],[0,\"Scrypt\"],[0,\"X13\"],[0,\"SHA-256\"],[0,\"X15\"],[0,\"BLAKE256\"],[0,\"SHA-256\"],[0,\"X11\"],[0,\"SHA-256\"],[0,\"NIST5\"],[0,\"Scrypt\"],[0,\"Scrypt\"],[0,\"X11\"],[0,\"Scrypt\"],[0,\"SHA-256\"],[0,\"Scrypt\"],[0,\"PoS\"],[0,\"X11\"],[0,\"SHA-256\"],[0,\"SHA-256\"],[0,\"NIST5\"],[0,\"X11\"],[0,\"POS 3.0\"],[0,\"Scrypt\"],[0,\"Scrypt\"],[0,\"Scrypt\"],[0,\"X13\"],[0,\"X11\"],[0,\"X11\"],[0,\"Scrypt\"],[0,\"SHA-256\"],[0,\"X11\"],[0,\"Scrypt\"],[0,\"Scrypt\"],[0,\"Scrypt\"],[0,\"Scrypt\"],[0,\"SHA-256D\"],[0,\"PoS\"],[0,\"Scrypt\"],[0,\"X11\"],[0,\"PoS\"],[0,\"X13\"],[0,\"X14\"],[0,\"PoS\"],[0,\"SHA-256D\"],[0,\"DPoS\"],[0,\"X11\"],[0,\"X13\"],[0,\"X11\"],[0,\"PoS\"],[0,\"Scrypt\"],[0,\"Scrypt\"],[0,\"PoS\"],[0,\"X11\"],[0,\"SHA-256\"],[0,\"Scrypt\"],[0,\"X11\"],[0,\"Scrypt\"],[0,\"Scrypt\"],[0,\"X11\"],[0,\"Scrypt\"],[0,\"Scrypt\"],[0,\"Scrypt\"],[0,\"Scrypt\"],[0,\"Quark\"],[0,\"QuBit\"],[0,\"Scrypt\"],[0,\"SHA-256\"],[0,\"X11\"],[0,\"Scrypt\"],[0,\"Scrypt\"],[0,\"Scrypt\"],[0,\"Scrypt\"],[0,\"X13\"],[0,\"Scrypt\"],[0,\"Scrypt\"],[0,\"X11\"],[0,\"Blake2S\"],[0,\"X11\"],[0,\"PoS\"],[0,\"X11\"],[0,\"PoS\"],[0,\"X11\"],[0,\"Scrypt\"],[0,\"Scrypt\"],[0,\"Scrypt\"],[0,\"SHA-256\"],[0,\"X11\"],[0,\"Scrypt\"],[0,\"PoS\"],[0,\"Scrypt\"],[0,\"X15\"],[0,\"SHA-256\"],[0,\"POS 3.0\"],[0,\"536\"],[0,\"NIST5\"],[0,\"NIST5\"],[0,\"Skein\"],[0,\"X13\"],[0,\"Scrypt\"],[0,\"X13\"],[0,\"SkunkHash v2 Raptor\"],[0,\"Skein\"],[0,\"X11\"],[0,\"Scrypt\"],[0,\"VeChainThor Authority\"],[0,\"PoS\"],[0,\"Scrypt\"],[0,\"Scrypt\"],[0,\"SHA-512\"],[0,\"Ouroboros\"],[0,\"X11\"],[0,\"NeoScrypt\"],[0,\"Scrypt\"],[0,\"Lyra2REv2\"],[0,\"Scrypt\"],[0,\"SHA-256\"],[0,\"NIST5\"],[0,\"PHI1612\"],[0,\"Scrypt\"],[0,\"Quark\"],[0,\"POS 2.0\"],[0,\"Scrypt\"],[0,\"SHA-256\"],[0,\"X11\"],[0,\"DPoS\"],[0,\"NIST5\"],[0,\"X13\"],[0,\"Scrypt\"],[0,\"NIST5\"],[0,\"Quark\"],[0,\"Scrypt\"],[0,\"Scrypt\"],[0,\"X11\"],[0,\"Quark\"],[0,\"Scrypt\"],[0,\"Scrypt\"],[0,\"X11\"],[0,\"POS 3.0\"],[0,\"Scrypt\"],[0,\"Scrypt\"],[0,\"X13\"],[0,\"C11\"],[0,\"X11\"],[0,\"XEVAN\"],[0,\"Scrypt\"],[0,\"VBFT\"],[0,\"NIST5\"],[0,\"Scrypt\"],[0,\"Scrypt\"],[0,\"Scrypt\"],[0,\"Green Protocol\"],[0,\"PoS\"],[0,\"Scrypt\"],[0,\"Semux BFT consensus\"],[0,\"Quark\"],[0,\"PoS\"],[0,\"X16R\"],[0,\"Scrypt\"],[0,\"XEVAN\"],[0,\"Scrypt\"],[0,\"Scrypt\"],[0,\"Scrypt\"],[0,\"SHA-256D\"],[0,\"Scrypt\"],[0,\"X15\"],[0,\"Scrypt\"],[0,\"Quark\"],[0,\"SHA-256\"],[0,\"DPoS\"],[0,\"X16R\"],[0,\"Quark\"],[0,\"Quark\"],[0,\"Scrypt\"],[0,\"Lyra2REv2\"],[0,\"Quark\"],[0,\"Scrypt\"],[0,\"X11\"],[0,\"X11\"],[0,\"Scrypt\"],[0,\"PoS\"],[0,\"Keccak\"],[0,\"X11\"],[0,\"Scrypt\"],[0,\"SHA-512\"],[0,\"XEVAN\"],[0,\"XEVAN\"],[0,\"X11\"],[0,\"Quark\"],[0,\"Equihash\"],[0,\"Scrypt\"],[0,\"Quark\"],[0,\"Quark\"],[0,\"Scrypt\"],[0,\"X11\"],[0,\"Scrypt\"],[0,\"XEVAN\"],[0,\"SHA-256D\"],[0,\"X11\"],[0,\"X11\"],[0,\"DPoS\"],[0,\"Scrypt\"],[0,\"X11\"],[0,\"Scrypt\"],[0,\"Scrypt\"],[0,\"SHA-256\"],[0,\"Scrypt\"],[0,\"X11\"],[0,\"Scrypt\"],[0,\"SHA-256\"],[0,\"X11\"],[0,\"Scrypt\"],[0,\"Scrypt\"],[0,\"X11\"],[0,\"Scrypt\"],[0,\"PoS\"],[0,\"X11\"],[0,\"SHA-256\"],[0,\"DPoS\"],[0,\"Scrypt\"],[0,\"Scrypt\"],[0,\"NeoScrypt\"],[0,\"X13\"],[0,\"DPoS\"],[0,\"DPoS\"],[0,\"SHA-256\"],[0,\"PoS\"],[0,\"PoS\"],[0,\"SHA-256\"],[0,\"Scrypt\"],[0,\"Scrypt\"]],\"hovertemplate\":\"<b>%{hovertext}</b><br><br>class=%{marker.color}<br>pc1=%{x}<br>pc2=%{y}<br>pc3=%{z}<br>Algorithm=%{customdata[1]}<extra></extra>\",\"hovertext\":[\"42 Coin\",\"404Coin\",\"EliteCoin\",\"Dash\",\"Bitshares\",\"BitcoinDark\",\"PayCoin\",\"KoboCoin\",\"Aurora Coin\",\"BlueCoin\",\"EnergyCoin\",\"BitBar\",\"CryptoBullion\",\"CasinoCoin\",\"Diamond\",\"Exclusive Coin\",\"FlutterCoin\",\"HoboNickels\",\"HyperStake\",\"IOCoin\",\"MaxCoin\",\"MintCoin\",\"MazaCoin\",\"Nautilus Coin\",\"NavCoin\",\"OpalCoin\",\"Orbitcoin\",\"PotCoin\",\"PhoenixCoin\",\"Reddcoin\",\"SuperCoin\",\"SyncCoin\",\"TeslaCoin\",\"TittieCoin\",\"TorCoin\",\"UnitaryStatus Dollar\",\"UltraCoin\",\"VeriCoin\",\"X11 Coin\",\"Crypti\",\"StealthCoin\",\"ZCC Coin\",\"BurstCoin\",\"StorjCoin\",\"Neutron\",\"FairCoin\",\"RubyCoin\",\"Kore\",\"Dnotes\",\"8BIT Coin\",\"Sativa Coin\",\"Ucoin\",\"Vtorrent\",\"IslaCoin\",\"Nexus\",\"Droidz\",\"Squall Coin\",\"Diggits\",\"Paycon\",\"Emercoin\",\"EverGreenCoin\",\"Decred\",\"EDRCoin\",\"Hitcoin\",\"DubaiCoin\",\"PWR Coin\",\"BillaryCoin\",\"GPU Coin\",\"EuropeCoin\",\"ZeitCoin\",\"SwingCoin\",\"SafeExchangeCoin\",\"Nebuchadnezzar\",\"Ratecoin\",\"Revenu\",\"Clockcoin\",\"VIP Tokens\",\"BitSend\",\"Let it Ride\",\"PutinCoin\",\"iBankCoin\",\"Frankywillcoin\",\"MudraCoin\",\"Lutetium Coin\",\"GoldBlocks\",\"CarterCoin\",\"BitTokens\",\"MustangCoin\",\"ZoneCoin\",\"RootCoin\",\"BitCurrency\",\"Swiscoin\",\"BuzzCoin\",\"Opair\",\"PesoBit\",\"Halloween Coin\",\"CoffeeCoin\",\"RoyalCoin\",\"GanjaCoin V2\",\"TeamUP\",\"LanaCoin\",\"ARK\",\"InsaneCoin\",\"EmberCoin\",\"XenixCoin\",\"FreeCoin\",\"PLNCoin\",\"AquariusCoin\",\"Creatio\",\"Eternity\",\"Eurocoin\",\"BitcoinFast\",\"Stakenet\",\"BitConnect Coin\",\"MoneyCoin\",\"Enigma\",\"Russiacoin\",\"PandaCoin\",\"GameUnits\",\"GAKHcoin\",\"Allsafe\",\"LiteCreed\",\"Klingon Empire Darsek\",\"Internet of People\",\"KushCoin\",\"Printerium\",\"Impeach\",\"Zilbercoin\",\"FirstCoin\",\"FindCoin\",\"OpenChat\",\"RenosCoin\",\"VirtacoinPlus\",\"TajCoin\",\"Impact\",\"Atmos\",\"HappyCoin\",\"MacronCoin\",\"Condensate\",\"Independent Money System\",\"ArgusCoin\",\"LomoCoin\",\"ProCurrency\",\"GoldReserve\",\"GrowthCoin\",\"Phreak\",\"Degas Coin\",\"HTML5 Coin\",\"Ultimate Secure Cash\",\"QTUM\",\"Espers\",\"Denarius\",\"Virta Unique Coin\",\"Bitcoin Planet\",\"BritCoin\",\"Linda\",\"DeepOnion\",\"Signatum\",\"Cream\",\"Monoeci\",\"Draftcoin\",\"Vechain\",\"Stakecoin\",\"CoinonatX\",\"Ethereum Dark\",\"Obsidian\",\"Cardano\",\"Regalcoin\",\"TrezarCoin\",\"TerraNovaCoin\",\"Rupee\",\"WomenCoin\",\"Theresa May Coin\",\"NamoCoin\",\"LUXCoin\",\"Xios\",\"Bitcloud 2.0\",\"KekCoin\",\"BlackholeCoin\",\"Infinity Economics\",\"Magnet\",\"Lamden Tau\",\"Electra\",\"Bitcoin Diamond\",\"Cash & Back Coin\",\"Bulwark\",\"Kalkulus\",\"GermanCoin\",\"LiteCoin Ultra\",\"PhantomX\",\"Digiwage\",\"Trollcoin\",\"Litecoin Plus\",\"Monkey Project\",\"TokenPay\",\"My Big Coin\",\"Unified Society USDEX\",\"Tokyo Coin\",\"Stipend\",\"Pushi\",\"Ellerium\",\"Velox\",\"Ontology\",\"Bitspace\",\"Briacoin\",\"Ignition\",\"MedicCoin\",\"Bitcoin Green\",\"Deviant Coin\",\"Abjcoin\",\"Semux\",\"Carebit\",\"Zealium\",\"Proton\",\"iDealCash\",\"Bitcoin Incognito\",\"HollyWoodCoin\",\"Swisscoin\",\"Xt3ch\",\"TheVig\",\"EmaratCoin\",\"Dekado\",\"Lynx\",\"Poseidon Quark\",\"BitcoinWSpectrum\",\"Muse\",\"Trivechain\",\"Dystem\",\"Giant\",\"Peony Coin\",\"Absolute Coin\",\"Vitae\",\"TPCash\",\"ARENON\",\"EUNO\",\"MMOCoin\",\"Ketan\",\"XDNA\",\"PAXEX\",\"ThunderStake\",\"Kcash\",\"Bettex coin\",\"BitMoney\",\"Junson Ming Chan Coin\",\"HerbCoin\",\"PirateCash\",\"Oduwa\",\"Galilel\",\"Crypto Sports\",\"Credit\",\"Dash Platinum\",\"Nasdacoin\",\"Beetle Coin\",\"Titan Coin\",\"Award\",\"Insane Coin\",\"ALAX\",\"LiteDoge\",\"TruckCoin\",\"OrangeCoin\",\"BitstarCoin\",\"NeosCoin\",\"HyperCoin\",\"PinkCoin\",\"AudioCoin\",\"IncaKoin\",\"Piggy Coin\",\"Genstake\",\"XiaoMiCoin\",\"CapriCoin\",\" ClubCoin\",\"Radium\",\"Creditbit \",\"OKCash\",\"Lisk\",\"HiCoin\",\"WhiteCoin\",\"FriendshipCoin\",\"Triangles Coin\",\"EOS\",\"Oxycoin\",\"TigerCash\",\"Particl\",\"Nxt\",\"ZEPHYR\",\"Gapcoin\",\"BitcoinPlus\"],\"legendgroup\":\"0\",\"marker\":{\"color\":[0,0,0,0,0,0,0,0,0,0,0,0,0,0,0,0,0,0,0,0,0,0,0,0,0,0,0,0,0,0,0,0,0,0,0,0,0,0,0,0,0,0,0,0,0,0,0,0,0,0,0,0,0,0,0,0,0,0,0,0,0,0,0,0,0,0,0,0,0,0,0,0,0,0,0,0,0,0,0,0,0,0,0,0,0,0,0,0,0,0,0,0,0,0,0,0,0,0,0,0,0,0,0,0,0,0,0,0,0,0,0,0,0,0,0,0,0,0,0,0,0,0,0,0,0,0,0,0,0,0,0,0,0,0,0,0,0,0,0,0,0,0,0,0,0,0,0,0,0,0,0,0,0,0,0,0,0,0,0,0,0,0,0,0,0,0,0,0,0,0,0,0,0,0,0,0,0,0,0,0,0,0,0,0,0,0,0,0,0,0,0,0,0,0,0,0,0,0,0,0,0,0,0,0,0,0,0,0,0,0,0,0,0,0,0,0,0,0,0,0,0,0,0,0,0,0,0,0,0,0,0,0,0,0,0,0,0,0,0,0,0,0,0,0,0,0,0,0,0,0,0,0,0,0,0,0,0,0,0,0,0,0,0,0,0,0,0,0,0,0,0,0,0,0,0,0,0,0,0,0,0,0,0,0,0,0,0],\"coloraxis\":\"coloraxis\",\"symbol\":\"circle\"},\"mode\":\"markers\",\"name\":\"0\",\"scene\":\"scene\",\"showlegend\":true,\"type\":\"scatter3d\",\"x\":[-0.3289248309490924,-0.3122468500800402,2.312234069612345,-0.41063671516067013,-0.2864042994280978,-0.3152724576564749,-0.2661804132885754,-0.22286966492498336,-0.32858406723014694,-0.3211555081653798,-0.3274201437492945,-0.32892076204099313,-0.3289050282871182,0.6375394058907307,-0.3734442837610402,-0.3372840895992183,-0.2858827168159872,-0.3269815813954896,-0.34135147840732477,-0.4105313231319293,-0.40431445090725976,-0.019535584478112943,-0.2785400449952926,-0.2795835807984324,-0.2749229979597845,-0.275545727663376,-0.35032251554369737,-0.32322091420768284,-0.3273249084708227,0.0295164036388788,-0.361254729628496,-0.4109032796793948,-0.24892795279861632,-0.31680065631915033,-0.4108148119207863,-0.30413082354674703,-0.32760078602647785,-0.30641725077805726,-0.4107792732967197,-0.24939641778415764,-0.2753264076744824,-0.320017154574122,-0.0941833880035607,-0.3455004441239422,-0.31448335861075133,-0.3728653772318136,-0.2795638778726722,-0.27562113734136606,-0.27421176484036086,-0.32890688447907585,-0.27557328946875487,-0.36169987951104726,-0.32864097687418736,-0.41088479312051224,-0.3886216100316135,-0.42099925379888753,-0.4738075886740315,-0.27796374298647525,-0.2750943925869887,-0.3078196836084135,-0.22531423735794856,-0.05961342882568031,-0.31524334726655906,-0.08799414452262083,-0.3153071334628969,-0.2376998275561881,-0.3285166797235742,-0.2778322737954141,-0.4080503421474411,0.8748727392290868,-0.3151069303884242,-0.09396780598037882,-0.3369670314205169,-0.408725733722982,-0.31384881237545925,-0.3115140849851557,-0.3591597250314541,-0.4096184626118893,-0.31133515301861114,-0.30478675424835616,-0.3285548014944723,-0.3269923123000513,-0.22522169982994478,-0.3491780789984031,-0.41035809172317156,-0.32775820935110894,-0.3152880344585102,-0.4108739656490198,-0.3287441997984096,-0.3289011127514708,-0.27782258135171756,-0.24058588748544185,0.04630021100456182,-0.3359230575562935,-0.3285149467992197,-0.3970197771366123,-0.3352512485010934,-0.22665415972796463,-0.4017460459714644,-0.3349991077348873,-0.26853059284516057,3.6977767736278238,-0.4104660776747374,0.8575434276187676,-0.4108288348789161,-0.33638727558230763,-0.32844231265185253,-0.32859675632846874,-0.3369670314205169,-0.4104031975590072,-0.3151505958471262,-0.32844306757273417,-0.4423246058677135,-0.3285905982012964,-0.32417286659422423,-0.41085784918423673,-0.3278002545386679,0.3643342457835431,-0.3287900910012992,-0.32886075349304883,-0.35129184849779477,-0.37322823052537035,-0.3250827065350842,-0.315264428420836,-0.4107677108521573,-0.32863832354333816,-0.32876537643934056,-0.2794701265797849,-0.2599745250943755,-0.22642177952926554,-0.30959963715376637,-0.2792111091955636,-0.410032540169601,-0.379403118999658,-0.4087698220141461,-0.33521181734476124,-0.40993033995673067,-0.3296060780097456,-0.4058665977504235,-0.3287086179313942,-0.3287077826460593,-0.321820516685638,0.2671786828336327,-0.4104094187376216,-0.2620912400003428,-0.33700132105171915,-0.3279183671364738,0.9103093522727081,-0.2648691045294812,-0.3101122606323196,0.5717147347132627,-0.3606969251948064,-0.3591975341675764,-0.3891937289115274,-0.2752580535644133,0.13657755475437483,-0.27532892205228204,-0.3231652763348829,-0.3886982001793516,-0.410682132357348,-0.27954451591622875,4.401961133564981,-0.33686737837173836,-0.3283434189319257,-0.3288436659434002,-0.3445286599396046,0.671206502557815,-0.4106228523870003,-0.3453162551414872,-0.32879920563373743,-0.2932769783391346,0.4410438395585024,-0.31360905235017555,-0.34544706619199866,-0.40146381720053986,-0.32874948530740994,-0.3987603413390723,-0.3461550061898854,-0.32861979687322174,-0.09248905634373701,-0.4094141061887173,3.7026380944533654,0.19936334829399646,-0.2719963528500777,-0.32607729470156666,-0.3114316335779936,-0.3511776402046092,0.0860381267221089,-0.32775715755047785,-0.4099960462888777,-0.3503413450689606,-0.31531001932059843,-0.32886581661878916,-0.3616717821825622,-0.31161733364711247,-0.2664133766241131,-0.3244065853400542,-0.21820805049750872,-0.3662742314289033,-0.41069934012246384,-0.3869456131782187,-0.2787034410790924,-0.3420522054646749,-0.36029541658788494,-0.3288931975483638,-0.32887488657025377,-0.273078914833098,-0.3218067690907326,-0.3364614086988031,-0.32859107687977485,3.879503264863982,-0.39742725618100944,-0.33665026213178567,-0.31074176083353244,-0.2753995652019809,-0.45000254724079736,-0.2792384413166315,-0.13180784676952015,-0.27949064962072007,-0.3339250656958887,-0.32806448785255043,-0.17562865176853099,2.295767223899364,-0.3468798794766973,-0.26499727163630993,1.0108584018159772,-0.35910620356073686,-0.3512912636616454,-0.40044655117254774,-0.16006587912146095,-0.34223367891378265,-0.35000946179634385,-0.32176055792670805,-0.36124872260467134,-0.4101721527470522,-0.27673310197499684,-0.3357488702081388,-0.33361783078875673,-0.36110983350768266,-0.18819715219411706,-0.37225044287169207,-0.33791016280175845,0.32450752620403567,-0.15144911440988792,-0.3997404268348557,-0.27076207000591146,-0.32859508453418107,-0.4001970440456536,-0.3514083637164288,0.5789263875837398,-0.36172614692107996,-0.32807736057101505,-0.38139511565657297,-0.28859047924936226,-0.4077335134055527,-0.4103996466203244,3.714891706910758,0.10681614903235419,-0.4079373492753283,-0.3274619427366398,-0.32828812177790273,-0.2662130413402074,-0.32880707114557894,-0.4020189076549146,-0.242402305390931,-0.09474682563749964,-0.39776202241229375,-0.3280847391553675,-0.32114197640155456,-0.40696479501279736,-0.3265221355506912,-0.3372429291534083,-0.47577491654747817,-0.31378600210662283,3.698169032942204,-0.08657860758650113,-0.3237141010106734,-0.34994786965497604,-0.275728471351584,3.708044703072536,3.7092898726577244,-0.2470906130773333,-0.3371787435883014,-0.3171594390378029,2.4572935096195665,-0.3269677195688608,-0.2798875951923052],\"y\":[1.0839101191178067,1.084088189394828,1.6183197489225272,1.1913466449720542,1.6506624865313029,0.8033497514622593,0.59320603961965,1.8994234366722302,1.0839095537722052,1.0841696839882984,1.0839603891524756,1.083909898766648,1.0839100680956884,0.3744007097099196,0.9543241146562165,1.5655040369188442,0.47701816061103824,1.0838895244952655,0.9818864742620941,1.1913501660080443,2.0814362979117575,0.8824558909127225,0.8028686066144345,0.8737564324622518,1.7557674053928543,1.7557466006534033,0.5032083633748305,1.083801372998895,1.0838937323376485,1.0958852609321856,0.9812215277315451,1.1913534166574657,0.08817021764419974,1.5585311822334837,1.1913492466041073,1.0835982398502182,1.0838830902848675,0.38604382605351334,1.1913536407829004,0.08822583052605995,1.7557539279018053,1.0834950771697462,0.42047975727637804,1.5417803570073612,0.8033433330768583,0.9543465766643182,0.8737686211990523,1.7557355296399109,0.8735911106206603,1.0839107187202877,1.755738553462638,0.98119240298561,1.0839053496514546,1.1913540349864449,2.3767373946675576,1.7970996345482684,0.6191398594129799,0.8737508162092698,1.7557260473797145,0.8029017807754976,1.89957244844562,0.8683182637058597,0.803350724009536,1.1832209303181926,0.8033567883173798,1.4918500986233914,1.0838938242514065,0.8736689417493698,1.1911750779954358,0.841785962586654,0.8033424540687636,0.37693697074899046,1.5655003767364755,1.1913727190223986,0.803254269678686,0.8031168577933777,1.48772811474707,1.1912972850639414,1.4980925176042774,1.0832912706983493,1.0838908878216653,1.0839034187472292,1.5454947504105827,0.9811567926609845,1.1913359996216681,1.08388495731848,0.8033499436958167,1.191352258806776,1.083901188444943,1.0839109115475902,0.873826796070454,0.4009261325592748,1.930666787438167,1.5654967723446067,1.0839238129428104,1.1907482934683464,1.5655434465380635,1.5455876393612078,1.862166001229295,1.5653658717016887,1.9290523231705101,1.8676540327479296,1.191346644685579,1.7929961662194038,1.1913531584648847,1.565498366624455,1.0838987745039608,1.0838911489768994,1.5655003767364755,1.1913273663034378,0.803355248012176,1.0839026972974057,0.6183279028925234,1.0839013316454813,1.083605192315133,1.1913513719647735,1.0838450701810165,0.8721092095982542,1.0839053563725332,1.083909896950383,1.4813461606422131,0.5804311483175767,1.0836821614498457,0.8033507323485186,1.1913512805650461,1.0839054382964266,1.0838998158272437,0.8737325582400829,0.4837951415606279,1.5455868336595664,1.0838431153866495,0.8737558732492746,1.1913112440537823,1.9010602956248914,1.1913463037491165,1.5654946724717236,1.1913146584545866,1.565475495946908,1.1911653685728316,1.083902226031925,1.0838969890545664,1.0834348287527384,0.5575860593376296,1.1913414112205662,0.8729270875021937,1.5654921047761785,1.0838689170465161,1.873393749527903,0.5931161694254345,1.498085982715551,1.9536572506196204,1.4877337695591337,1.4877054724437309,1.8777917993418487,1.755734832400014,1.0638301602489089,1.755740376332371,1.4748821205276363,1.8778083544316475,1.1913540304251244,0.8737568639619089,2.5360176224646036,1.5654740603231325,1.0838951572980289,1.083909837704944,1.6512213893902528,1.4530906279905038,1.1913435449226033,0.5030932486724351,1.0839031039853446,0.7386426884876682,1.091818006303028,0.8033497383062846,1.4873952119604412,1.7690895799640791,1.0839010118616883,1.691419045650753,1.6346147858840563,1.0839097713254449,0.592604049707541,1.191300549205441,1.8675492050727407,1.4850727759752045,1.7557155275232301,1.0838555983348703,1.277576450481319,1.4813464130302256,1.0621416915182205,1.0838422341776857,1.1913480951759452,1.481303088963868,1.0837236013706786,1.083909240201955,0.9811926290495724,1.4980891476715719,0.5310097345947637,1.0838957369279563,1.5453014861985757,0.9002236137419751,1.191342414824432,1.3081560062923856,0.8737090003677657,1.470627248394935,1.4877186780159601,1.083909038072121,1.0839082245464828,0.8736289579388489,1.586496334445399,1.5654688096713818,1.0838998903773296,1.8355205553344713,1.6914635826131286,1.5654682013823722,0.6469866951726025,1.082048244449745,0.7359651421757103,0.8737609651013565,1.0832266810340585,0.8737397116050969,1.9321453602051217,1.083879000706364,1.6893963996589183,0.5310086649436108,1.481041034717973,0.5931830244456588,1.6849120494053624,0.8571347283675073,1.481341904352935,1.6915015679699643,0.8657315931622778,0.9487773819008702,1.4813284295924007,1.0834368319113326,0.9811825333295345,1.1913422116458086,0.8736779085403703,1.5654056729905432,1.0670683105440706,0.9811551047568211,1.075784197655115,1.9716248547567474,1.098010760023501,0.6565068606508416,0.9882309109915459,1.6914903471818232,-0.06824717535022862,1.0839061702278936,1.6915000087606584,1.481343429592187,1.0609351434282264,0.9811917392106799,1.0838785706424818,1.3080278818098803,1.9301680144666507,1.1911600079397355,1.1913488640767056,1.8676022662761802,1.07352543330855,1.191452505961717,1.0838164650914754,1.083892725953953,0.5931988921279752,1.0839140533779812,1.191293915821279,1.079318045973856,0.8105975559379229,1.1910798148431159,1.083927496154188,1.0838850808679272,1.191336769263775,1.0838763685738098,1.5654989983036678,0.4493645535622718,0.8033402634124188,1.8676422535369848,0.8730833778946561,1.0838704127111467,0.5031806884353615,1.755740409863885,1.8680861531398019,1.868127752936059,0.5931400795834441,1.565501403401117,1.7356878690402529,0.7758291311163977,1.0837973446634683,0.8737570935084618],\"z\":[-0.5611957022281369,-0.5616052941318009,-0.6612124135973684,-0.5395230917507038,0.02546816140008045,-0.386874877204475,-0.07909068491712559,-0.6453615609426266,-0.5612034052957257,-0.5614144761642558,-0.5612380722493319,-0.5611957603811544,-0.5611961469961779,-0.3564545626449204,-0.38570996627087456,-0.12208163808914711,-0.23026598953634114,-0.5612368791496066,-0.23230892392566047,-0.5395260594518935,-0.6761736602444138,-0.2607400653742221,-0.3876386809205726,-0.2534156291711083,-0.6238154913998846,-0.6237979561488423,-0.30936118728469597,-0.5613089185014167,-0.5612296942904809,-0.5712889368998324,-0.23174847449678376,-0.5395180683115585,0.1132196101181444,-0.1525028864187432,-0.5395194310237078,-0.5617133030702103,-0.5612217002333052,-0.2363634462990952,-0.5395209395862105,0.11322151611060094,-0.6238041319118447,-0.5613336770409825,-0.32237341111822576,0.04713678247194929,-0.3868919059291674,-0.3857267618179082,-0.25341800995195374,-0.6237944784673007,-0.253512291596539,-0.561196207581915,-0.6237960515079194,-0.23173368258708266,-0.5612014381177081,-0.5395185889816444,-0.5672750036345698,-0.9171719702346786,-0.26908218448927207,-0.25345178228335424,-0.6238050224688507,-0.3869743666534529,-0.6453292559491691,-0.4812945990430614,-0.38687569691484386,-0.5456145009748689,-0.38687519859644354,-0.5591718059633751,-0.5612024553816578,-0.25344182304988394,-0.539555067592664,-0.2747529167958347,-0.38687750686907707,-0.3401280749977681,-0.12208830895795679,-0.5395709212352799,-0.3868923126347332,-0.38692394265147995,-0.5557414978518533,-0.5395385605269518,-0.1578356852137729,-0.5616496914561755,-0.5612011185974456,-0.5612388340547433,-0.31602481205568655,-0.2320143922677353,-0.5395277775183233,-0.5612183959357828,-0.3868745514358422,-0.5395185553080308,-0.5611984186419888,-0.5611963701061883,-0.253467042576314,-0.3235206301562109,-0.7523222397780626,-0.12211161179365332,-0.5612072440325123,-0.5397397291329227,-0.12213436609097553,-0.3160067644503163,-0.6738992909396865,-0.12211201122560338,-0.7448670113016851,0.03443033499373783,-0.5395269938489957,-0.6556083338238243,-0.5395197298302219,-0.1221012485113733,-0.5612049399344666,-0.5612002005295749,-0.12208830895795679,-0.5395253788605316,-0.38687853438039965,-0.561205543886196,-0.2701707750186556,-0.5612019538856792,-0.5612560819639761,-0.5395187834191917,-0.5612111179005177,-0.26787990833993325,-0.5611980292352826,-0.5611971323709838,-0.16904973900709974,-0.2446292745007287,-0.5612474645800193,-0.3868752161508773,-0.5395208302314428,-0.5612015128320219,-0.5611977170055266,-0.25341444291366166,-0.3728958522770065,-0.3160119509371025,-0.5616270206572423,-0.25342405830679926,-0.5395313019394363,-0.767424795391017,-0.5395657298885563,-0.12212754392148738,-0.5395341797632799,-0.12225269935068513,-0.5396034679431698,-0.5611993966420259,-0.5611985864133341,-0.5612828967310607,-0.08564676267124378,-0.5395274607536312,-0.2536843091670688,-0.12208621487028973,-0.5612121932977819,-0.6671530634551756,-0.07910644008583878,-0.1578626154893708,-0.6185744955110701,-0.5557072406063147,-0.555737047586224,-0.7533196337586211,-0.6238026710638758,-0.5686609550754971,-0.6238019283805089,-0.12979776915472258,-0.7533335871972756,-0.5395232227123298,-0.2534165908405974,4.444019256583411,-0.12208642034844118,-0.5612066286170034,-0.5611975137474994,0.02670884309272144,-0.0721985791855517,-0.5395229178398835,-0.3094574409981308,-0.5611974641125473,-0.12392139672700679,-0.5800556676597112,-0.38691291392851107,-0.5560023607557387,-0.4595393070786734,-0.5611982698089932,-0.47685984255591074,-0.01781471827982712,-0.5612026226808955,-0.08296733321230328,-0.5395437506672541,0.03433576670519647,-0.5680933213099822,-0.6238742026146896,-0.5612521858459624,-0.24792485529505226,-0.16905239069439187,-0.5672378311214415,-0.561211654333138,-0.5395379722425232,-0.16906465430105236,-0.5614775091576337,-0.5611969125842893,-0.23173436091730534,-0.15782869863383386,-0.3899107868944117,-0.5612967480479115,-0.3161545950148914,-0.418956926840218,-0.539520989752985,-0.4432326573547674,-0.2534282448680247,-0.076547599060279,-0.5557140324150085,-0.5611962544269196,-0.5611965443326952,-0.2535441911657357,-0.1439944855264394,-0.12209487258080738,-0.5612017146993891,-0.06974858033942963,-0.4768973804841204,-0.1220904575453583,-0.059428407149538606,-0.5621248724845676,-0.17279687699103224,-0.253424239622875,-0.56559515037168,-0.25341510640209586,-0.743861383036315,-0.5612104486572085,-0.3375535158894491,-0.5172991303492732,-0.16910231218545238,-0.07911409634644617,-0.02221223147611935,-0.36722992258645054,-0.1690490783533207,-0.47683435052436157,-0.2548779468557155,-0.43170725589826103,-0.16907625677169452,-0.5612845850910089,-0.23174243669505035,-0.5395330133158227,-0.25346837893227964,-0.12210116858213539,-0.3081546621713819,-0.2317412692147347,-0.5631270429528167,0.30128659522603546,-0.1354469278817387,-0.02929420180880423,-0.2376563252251765,-0.4768487212700955,0.16591113511626682,-0.5612026175320969,-0.47683980934450354,-0.1690466420429596,-0.5783181466486422,-0.23173297678739527,-0.5612100861783536,-0.44333929646613834,-0.7445849625190832,-0.5395599263421763,-0.539528864460289,0.0340471478958841,-0.5695157179485109,-0.5396015851314352,-0.5612143245114808,-0.561207508125435,-0.07908880689785754,-0.5611990181943683,-0.5397118138456841,-0.5624470994861365,-0.39306563011868373,-0.5397752553133351,-0.5612176653100692,-0.5613697157344945,-0.5396054974203052,-0.5612453023948689,-0.12208178143027706,-0.32076130099567723,-0.3869073669873073,0.03442323015579069,-0.25772268805034304,-0.5613085734483548,-0.30936537208372406,-0.6237927967840163,0.03412709687024694,0.03409203452916833,-0.0795167856379747,-0.12208363010018147,-0.12004162732663703,-0.023265244231058718,-0.5612225985038468,-0.2534087816434864]},{\"customdata\":[[3,\"SHA-256\"],[3,\"Ethash\"],[3,\"Scrypt\"],[3,\"CryptoNight-V7\"],[3,\"Ethash\"],[3,\"Equihash\"],[3,\"Multiple\"],[3,\"Scrypt\"],[3,\"X11\"],[3,\"Scrypt\"],[3,\"Multiple\"],[3,\"Scrypt\"],[3,\"SHA-256\"],[3,\"Scrypt\"],[3,\"Scrypt\"],[3,\"Quark\"],[3,\"Groestl\"],[3,\"Scrypt\"],[3,\"Scrypt\"],[3,\"Scrypt\"],[3,\"X11\"],[3,\"Multiple\"],[3,\"SHA-256\"],[3,\"Scrypt\"],[3,\"Scrypt\"],[3,\"Scrypt\"],[3,\"Scrypt\"],[3,\"Scrypt\"],[3,\"NeoScrypt\"],[3,\"Scrypt\"],[3,\"Scrypt\"],[3,\"Scrypt\"],[3,\"Scrypt\"],[3,\"SHA-256\"],[3,\"Scrypt\"],[3,\"Scrypt\"],[3,\"Scrypt\"],[3,\"Scrypt\"],[3,\"HybridScryptHash256\"],[3,\"Scrypt\"],[3,\"Scrypt\"],[3,\"SHA-256\"],[3,\"Scrypt\"],[3,\"Scrypt\"],[3,\"Scrypt\"],[3,\"Scrypt\"],[3,\"SHA-256\"],[3,\"SHA-256\"],[3,\"SHA-256\"],[3,\"SHA-256\"],[3,\"SHA-256\"],[3,\"X11\"],[3,\"Scrypt\"],[3,\"Lyra2REv2\"],[3,\"Scrypt\"],[3,\"SHA-256\"],[3,\"CryptoNight\"],[3,\"CryptoNight\"],[3,\"Scrypt\"],[3,\"Scrypt\"],[3,\"Scrypt\"],[3,\"Scrypt\"],[3,\"Scrypt\"],[3,\"Scrypt\"],[3,\"Stanford Folding\"],[3,\"Multiple\"],[3,\"QuBit\"],[3,\"Scrypt\"],[3,\"Scrypt\"],[3,\"M7 POW\"],[3,\"Scrypt\"],[3,\"SHA-256\"],[3,\"Scrypt\"],[3,\"X11\"],[3,\"Lyra2RE\"],[3,\"SHA-256\"],[3,\"X11\"],[3,\"Scrypt\"],[3,\"Scrypt\"],[3,\"Ethash\"],[3,\"Blake2b\"],[3,\"X11\"],[3,\"SHA-256\"],[3,\"Scrypt\"],[3,\"1GB AES Pattern Search\"],[3,\"Scrypt\"],[3,\"SHA-256\"],[3,\"X11\"],[3,\"Dagger\"],[3,\"Scrypt\"],[3,\"X11GOST\"],[3,\"Scrypt\"],[3,\"X11\"],[3,\"Scrypt\"],[3,\"X11\"],[3,\"Equihash\"],[3,\"CryptoNight\"],[3,\"SHA-256\"],[3,\"Multiple\"],[3,\"Scrypt\"],[3,\"SHA-256\"],[3,\"Scrypt\"],[3,\"Lyra2Z\"],[3,\"Ethash\"],[3,\"Equihash\"],[3,\"Scrypt\"],[3,\"X11\"],[3,\"X11\"],[3,\"CryptoNight\"],[3,\"Scrypt\"],[3,\"CryptoNight\"],[3,\"Lyra2RE\"],[3,\"X11\"],[3,\"CryptoNight-V7\"],[3,\"Scrypt\"],[3,\"X11\"],[3,\"Equihash\"],[3,\"Scrypt\"],[3,\"Lyra2RE\"],[3,\"Dagger-Hashimoto\"],[3,\"Scrypt\"],[3,\"NIST5\"],[3,\"Scrypt\"],[3,\"SHA-256\"],[3,\"Scrypt\"],[3,\"CryptoNight-V7\"],[3,\"Argon2d\"],[3,\"Blake2b\"],[3,\"Cloverhash\"],[3,\"CryptoNight\"],[3,\"X11\"],[3,\"Scrypt\"],[3,\"Scrypt\"],[3,\"X11\"],[3,\"X11\"],[3,\"CryptoNight\"],[3,\"Time Travel\"],[3,\"Scrypt\"],[3,\"Keccak\"],[3,\"X11\"],[3,\"SHA-256\"],[3,\"Scrypt\"],[3,\"Scrypt\"],[3,\"Scrypt\"],[3,\"Scrypt\"],[3,\"Scrypt\"],[3,\"Scrypt\"],[3,\"CryptoNight\"],[3,\"Equihash\"],[3,\"X11\"],[3,\"NeoScrypt\"],[3,\"Equihash\"],[3,\"Dagger\"],[3,\"Scrypt\"],[3,\"X11\"],[3,\"NeoScrypt\"],[3,\"Ethash\"],[3,\"NeoScrypt\"],[3,\"Multiple\"],[3,\"CryptoNight\"],[3,\"CryptoNight\"],[3,\"Ethash\"],[3,\"X11\"],[3,\"CryptoNight-V7\"],[3,\"Scrypt\"],[3,\"BLAKE256\"],[3,\"X11\"],[3,\"NeoScrypt\"],[3,\"NeoScrypt\"],[3,\"Scrypt\"],[3,\"X11\"],[3,\"SHA-256\"],[3,\"C11\"],[3,\"Ethash\"],[3,\"CryptoNight\"],[3,\"SkunkHash\"],[3,\"CryptoNight\"],[3,\"Scrypt\"],[3,\"Dagger\"],[3,\"Lyra2REv2\"],[3,\"Scrypt\"],[3,\"Scrypt\"],[3,\"X11\"],[3,\"Ethash\"],[3,\"CryptoNight\"],[3,\"Scrypt\"],[3,\"IMesh\"],[3,\"Equihash\"],[3,\"Lyra2Z\"],[3,\"X11\"],[3,\"CryptoNight\"],[3,\"NIST5\"],[3,\"Lyra2RE\"],[3,\"Tribus\"],[3,\"Lyra2Z\"],[3,\"CryptoNight\"],[3,\"CryptoNight Heavy\"],[3,\"CryptoNight\"],[3,\"Jump Consistent Hash\"],[3,\"CryptoNight\"],[3,\"X16R\"],[3,\"HMQ1725\"],[3,\"X11\"],[3,\"Scrypt\"],[3,\"CryptoNight-V7\"],[3,\"Cryptonight-GPU\"],[3,\"XEVAN\"],[3,\"CryptoNight Heavy\"],[3,\"SHA-256\"],[3,\"X11\"],[3,\"X16R\"],[3,\"Equihash\"],[3,\"Lyra2Z\"],[3,\"SHA-256\"],[3,\"CryptoNight\"],[3,\"Blake\"],[3,\"Blake\"],[3,\"Exosis\"],[3,\"Scrypt\"],[3,\"Equihash\"],[3,\"Equihash\"],[3,\"QuBit\"],[3,\"SHA-256\"],[3,\"X13\"],[3,\"SHA-256\"],[3,\"Scrypt\"],[3,\"NeoScrypt\"],[3,\"Blake\"],[3,\"Scrypt\"],[3,\"SHA-256\"],[3,\"Scrypt\"],[3,\"Groestl\"],[3,\"Scrypt\"],[3,\"Scrypt\"],[3,\"Multiple\"],[3,\"Equihash+Scrypt\"],[3,\"Ethash\"],[3,\"CryptoNight\"],[3,\"Equihash\"]],\"hovertemplate\":\"<b>%{hovertext}</b><br><br>class=%{marker.color}<br>pc1=%{x}<br>pc2=%{y}<br>pc3=%{z}<br>Algorithm=%{customdata[1]}<extra></extra>\",\"hovertext\":[\"Bitcoin\",\"Ethereum\",\"Litecoin\",\"Monero\",\"Ethereum Classic\",\"ZCash\",\"DigiByte\",\"ProsperCoin\",\"Spreadcoin\",\"Argentum\",\"MyriadCoin\",\"MoonCoin\",\"ZetaCoin\",\"SexCoin\",\"Quatloo\",\"QuarkCoin\",\"Riecoin\",\"Digitalcoin \",\"Catcoin\",\"CannaCoin\",\"CryptCoin\",\"Verge\",\"DevCoin\",\"EarthCoin\",\"E-Gulden\",\"Einsteinium\",\"Emerald\",\"Franko\",\"FeatherCoin\",\"GrandCoin\",\"GlobalCoin\",\"GoldCoin\",\"Infinite Coin\",\"IXcoin\",\"KrugerCoin\",\"LuckyCoin\",\"Litebar \",\"MegaCoin\",\"MediterraneanCoin\",\"MinCoin\",\"NobleCoin\",\"Namecoin\",\"NyanCoin\",\"RonPaulCoin\",\"StableCoin\",\"SmartCoin\",\"SysCoin\",\"TigerCoin\",\"TerraCoin\",\"UnbreakableCoin\",\"Unobtanium\",\"UroCoin\",\"ViaCoin\",\"Vertcoin\",\"WorldCoin\",\"JouleCoin\",\"ByteCoin\",\"DigitalNote \",\"MonaCoin\",\"Gulden\",\"PesetaCoin\",\"Wild Beast Coin\",\"Flo\",\"ArtByte\",\"Folding Coin\",\"Unitus\",\"CypherPunkCoin\",\"OmniCron\",\"GreenCoin\",\"Cryptonite\",\"MasterCoin\",\"SoonCoin\",\"1Credit\",\"MarsCoin \",\"Crypto\",\"Anarchists Prime\",\"BowsCoin\",\"Song Coin\",\"BitZeny\",\"Expanse\",\"Siacoin\",\"MindCoin\",\"I0coin\",\"Revolution VR\",\"HOdlcoin\",\"Gamecredits\",\"CarpeDiemCoin\",\"Adzcoin\",\"SoilCoin\",\"YoCoin\",\"SibCoin\",\"Francs\",\"BolivarCoin\",\"Omni\",\"PizzaCoin\",\"Komodo\",\"Karbo\",\"ZayedCoin\",\"Circuits of Value\",\"DopeCoin\",\"DollarCoin\",\"Shilling\",\"ZCoin\",\"Elementrem\",\"ZClassic\",\"KiloCoin\",\"ArtexCoin\",\"Kurrent\",\"Cannabis Industry Coin\",\"OsmiumCoin\",\"Bikercoins\",\"HexxCoin\",\"PacCoin\",\"Citadel\",\"BeaverCoin\",\"VaultCoin\",\"Zero\",\"Canada eCoin\",\"Zoin\",\"DubaiCoin\",\"EB3coin\",\"Coinonat\",\"BenjiRolls\",\"ILCoin\",\"EquiTrader\",\"Quantum Resistant Ledger\",\"Dynamic\",\"Nano\",\"ChanCoin\",\"Dinastycoin\",\"DigitalPrice\",\"Unify\",\"SocialCoin\",\"ArcticCoin\",\"DAS\",\"LeviarCoin\",\"Bitcore\",\"gCn Coin\",\"SmartCash\",\"Onix\",\"Bitcoin Cash\",\"Sojourn Coin\",\"NewYorkCoin\",\"FrazCoin\",\"Kronecoin\",\"AdCoin\",\"Linx\",\"Sumokoin\",\"BitcoinZ\",\"Elements\",\"VIVO Coin\",\"Bitcoin Gold\",\"Pirl\",\"eBoost\",\"Pura\",\"Innova\",\"Ellaism\",\"GoByte\",\"SHIELD\",\"UltraNote\",\"BitCoal\",\"DaxxCoin\",\"AC3\",\"Lethean\",\"PopularCoin\",\"Photon\",\"Sucre\",\"SparksPay\",\"GunCoin\",\"IrishCoin\",\"Pioneer Coin\",\"UnitedBitcoin\",\"Interzone\",\"1717 Masonic Commemorative Token\",\"TurtleCoin\",\"MUNcoin\",\"Niobio Cash\",\"ShareChain\",\"Travelflex\",\"KREDS\",\"BitFlip\",\"LottoCoin\",\"Crypto Improvement Fund\",\"Callisto Network\",\"BitTube\",\"Poseidon\",\"Aidos Kuneen\",\"Bitrolium\",\"Alpenschillling\",\"FuturoCoin\",\"Monero Classic\",\"Jumpcoin\",\"Infinex\",\"KEYCO\",\"GINcoin\",\"PlatinCoin\",\"Loki\",\"Newton Coin\",\"MassGrid\",\"PluraCoin\",\"Motion\",\"PlusOneCoin\",\"Axe\",\"HexCoin\",\"Webchain\",\"Ryo\",\"Urals Coin\",\"Qwertycoin\",\"Project Pai\",\"Azart\",\"Xchange\",\"CrypticCoin\",\"Actinium\",\"Bitcoin SV\",\"FREDEnergy\",\"Universal Molecule\",\"Lithium\",\"Exosis\",\"Block-Logic\",\"Beam\",\"Bithereum\",\"SLICE\",\"BLAST\",\"Bitcoin Rhodium\",\"GlobalToken\",\"SolarCoin\",\"UFO Coin\",\"BlakeCoin\",\"Crypto Escudo\",\"Crown Coin\",\"SmileyCoin\",\"Groestlcoin\",\"Bata\",\"Pakcoin\",\"JoinCoin\",\"Vollar\",\"Reality Clash\",\"Beldex\",\"Horizen\"],\"legendgroup\":\"3\",\"marker\":{\"color\":[3,3,3,3,3,3,3,3,3,3,3,3,3,3,3,3,3,3,3,3,3,3,3,3,3,3,3,3,3,3,3,3,3,3,3,3,3,3,3,3,3,3,3,3,3,3,3,3,3,3,3,3,3,3,3,3,3,3,3,3,3,3,3,3,3,3,3,3,3,3,3,3,3,3,3,3,3,3,3,3,3,3,3,3,3,3,3,3,3,3,3,3,3,3,3,3,3,3,3,3,3,3,3,3,3,3,3,3,3,3,3,3,3,3,3,3,3,3,3,3,3,3,3,3,3,3,3,3,3,3,3,3,3,3,3,3,3,3,3,3,3,3,3,3,3,3,3,3,3,3,3,3,3,3,3,3,3,3,3,3,3,3,3,3,3,3,3,3,3,3,3,3,3,3,3,3,3,3,3,3,3,3,3,3,3,3,3,3,3,3,3,3,3,3,3,3,3,3,3,3,3,3,3,3,3,3,3,3,3,3,3,3,3,3,3,3,3,3,3,3,3,3,3,3,3,3,3,3,3,3,3,3,3,3,3,3,3,3,3],\"coloraxis\":\"coloraxis\",\"symbol\":\"diamond\"},\"mode\":\"markers\",\"name\":\"3\",\"scene\":\"scene\",\"showlegend\":true,\"type\":\"scatter3d\",\"x\":[-0.14617623773043908,-0.14357803066118985,-0.15865792084924518,-0.1560351256439373,-0.14201801427145833,-0.15156150406412494,0.15777819025777987,-0.1598053588508846,-0.24172512782677907,-0.15942142509334903,-0.095909128707926,2.5656844570871606,-0.14325816420962004,-0.1566738396643528,-0.15922516630669875,-0.2267287505426528,-0.20341381710435374,-0.15927415100762504,-0.15978760957746108,-0.15987416549937195,-0.24181455383429293,0.1815331827604633,0.23206556251162125,0.08911522241297137,-0.15962021565845594,-0.1552208177189485,-0.15955942064938425,-0.1599312239265966,-0.17655238135002913,-0.13913097674825528,-0.15872509616433633,-0.1590027756297362,1.5907857534109073,-0.14613757385099924,-0.15628919047036804,-0.15964668336918383,-0.160001864788866,-0.15926034146595497,-0.10852923954533418,-0.15988300018170443,-0.02462205026594528,-0.14621525131411964,-0.15354036889613856,-0.15986238741194278,-0.15795432091740866,-0.15934858780384037,-0.1333533804424296,-0.14567847083178503,-0.14596594001403745,-0.14594878435687828,-0.1465402643098649,-0.2419886578072552,-0.15957862573674422,-0.1726475210357747,-0.15667850659488444,-0.14574583030437424,3.870159116892279,0.46561701954946827,-0.15844497140602568,-0.14302537301225304,-0.15716248140053454,-0.16000407177111892,-0.15702742555993615,-0.14323640116110725,-0.12275664345965288,-0.1299516649204043,-0.20517970326909554,-0.15987703748786283,-0.032672331509570954,-0.08683147495234811,-0.16001297863728592,-0.14624305280632777,0.49301067364050033,-0.2413752059554146,-0.14497962334897938,-0.14598258217887763,-0.2416603903145418,-0.1581344485742391,-0.15732586181119645,-0.14464635419643385,0.36860794678158165,-0.2416958341568092,-0.14613869717094083,-0.1559666593027242,-0.13869479255318246,-0.15857481572975887,0.27277768464104324,-0.24085560702854986,-0.1722692028453729,-0.1588221766834898,-0.13761174018151995,-0.15980264491920843,-0.24165901616722155,-0.16001303719262558,-0.2418091167571906,-0.2706189935419576,0.310354832047578,-0.1463990439286142,-0.11000296988731081,-0.157176644066315,-0.14635763489508705,-0.1596760497419515,-0.157317904257461,-0.14438825776028882,-0.15158313980470775,-0.08664280046131412,-0.22837927653351967,-0.23963472247754886,0.3103492272066521,-0.1599947523713515,0.31048006929061284,-0.145520718365997,0.47438241435669126,-0.15479815482810405,-0.15996300997503898,-0.23453369421386722,-0.15159553843375895,-0.1580943453549228,-0.1452388189233616,-0.1730847913162143,-0.1308484418748504,-0.1914527503602708,-0.1595249034879309,-0.11268690196516752,-0.1593466950114068,-0.15465602983896087,-0.09639067946669477,-0.0320400753091077,-0.141092602016219,0.34650895050115516,-0.24086395541799888,-0.15966640510915303,-0.1594293987028986,-0.24125910767585426,-0.24183719355953648,0.31074466435320053,-0.1275328726973746,3.253288905924567,-0.1044812106330838,-0.23269788906501285,-0.14617540122502878,-0.08548790088672344,1.5885166037741059,-0.15976433488473757,-0.15921529436530335,-0.15891595865922362,-0.1589028782839875,0.3109285471103856,0.060983019628784524,-0.19617885931693566,-0.18124618392676478,-0.15144144349231525,-0.17102681252949103,-0.1580925529611621,-0.23737668593924352,-0.18109140330700974,-0.14275121644886096,-0.18119173824018336,-0.12017287548917406,1.1492940353795342,0.3103319541897661,-0.06754372895266786,-0.23711738300692434,-0.14375575909932645,-0.07606368125123454,1.115755003279083,-0.24181116673819375,-0.18124376007570417,-0.17427404435532876,-0.1590145443419727,-0.24173649921924523,-0.1461547835328893,-0.1973402406798338,-0.2647347283756218,8.058130178487085,-0.1832398836457417,0.314210792281563,0.03322699589964211,-0.17052978235652325,-0.15818976087415826,-0.15958884372908222,0.14781303548711366,-0.23587078403604975,-0.09572881890378954,0.3182651663586202,-0.15982612148146658,-0.16153135218869666,-0.15043150184425474,-0.1550985904966537,-0.24090476317612533,0.31051465019491675,-0.1915123520957766,-0.14536576985013078,-0.16312097756671343,-0.157402389316265,0.31444816056094527,0.5866460111524581,2.1211651040217174,-0.1719465080876018,0.32413457381535143,-0.19098766019593508,-0.12714255272134814,-0.24179330759353068,-0.1598507210280372,-0.1436330921503765,-0.12254151633017582,-0.21680582671691476,3.1119875231843865,-0.10596158673266894,-0.24176463539216259,-0.19041463362417213,-0.04607182804338776,-0.15679938094482274,-0.14617543882303213,0.3903701408757297,-0.12911753632459166,-0.12951016006115956,-0.12734767516885045,-0.1587417399898645,-0.1494990804414769,-0.15127408531719527,-0.20438966785716983,-0.1454508141304279,-0.10680194745226979,-0.14431743375831932,0.5369880184918058,-0.10633156933399743,-0.07991000255886743,-0.1433871178020212,-0.14596530991936113,0.5566083599628792,-0.20297436844836805,-0.15992768159629053,-0.1578810461320501,-0.13068717822542172,-0.16783873857686474,-0.14442145061674816,0.33211244237742704,-0.15156256192827838],\"y\":[-1.3549115483828011,-2.1001658570724406,-1.0743726434097467,-2.231677068521738,-2.1002633925592957,-2.0163256920828014,-1.8652570383556062,-1.074366081903009,-0.9669201106142346,-1.074383898517292,-1.860192340726202,-1.2569483843000664,-1.3549200960300194,-1.0744246552689523,-1.074402996687421,-0.4667783931885975,-1.2039634258716672,-1.0743676943359821,-1.0743654889185938,-1.074362779325492,-0.9669216729663637,-1.8612957332956668,-1.3572253234043063,-1.0756555567582244,-1.0743598964651582,-1.074411595343582,-1.0743657043863957,-1.0743633285910505,-1.6551342583104152,-1.0746727877109366,-1.0743649107337516,-1.0743757880815852,-1.0804307259696508,-1.3549102566635618,-1.0744227939951758,-1.074360068085318,-1.0743586436213362,-1.0743628388478867,-2.3074556937365744,-1.074360836799528,-1.0805243555122264,-1.3549128517852849,-1.0743819688378173,-1.074367987166797,-1.0744674347906087,-1.0743723433341672,-1.355101007460908,-1.3549134556352287,-1.3549194879570792,-1.3549459950489686,-1.3549089228864184,-0.9669146621114896,-1.07435993226596,-1.209490710371615,-1.0744358006343127,-1.3549142722389602,-2.3246433317859774,-2.3140533462306156,-1.074380579909201,-1.0749877468103388,-1.0743813937573086,-1.0743596281056451,-1.0743723307784974,-1.074510203193311,-2.3240318479894695,-1.8599043897727048,-1.577809685507574,-1.0743559137550653,-1.0772301168489284,-2.152940264729026,-1.0743584943254925,-1.3549137806036764,-1.1181039212101014,-0.9669176843894202,-2.274424849164208,-1.3549284245771154,-0.9669186604405632,-1.0744451181776258,-1.074446438637888,-2.100213596770622,-2.1443319862332775,-0.9669162813917427,-1.3549102941924906,-1.0743725236022883,-2.273306356824334,-1.074369866955773,-1.3563114854793845,-0.9669366696782141,-2.2305171882699257,-1.0744382429652992,-2.266196296341368,-1.074365278595422,-0.9669214650837796,-1.074358494122471,-0.9669264797854193,-1.2745150389812994,-2.312121237697326,-1.3549109649472622,-1.860093090619339,-1.0744058215308852,-1.3549102245271836,-1.0743681755647676,-2.2284673023650883,-2.1002116009642213,-2.016326414909966,-1.0790332130206426,-0.9668163061086922,-0.9669985010920285,-2.3121292639671833,-1.0743593782450584,-2.3121277432238423,-2.27440316914162,-1.0142452643397861,-2.231767580668718,-1.074358777925574,-0.9673782376839869,-2.0163239785830007,-1.074365217157826,-2.274401590198763,-2.3767543806895266,-1.07623424861882,-0.670550559736227,-1.0743670599754465,-1.355559334781682,-1.0743871029684957,-2.2317058213829974,-2.274751269737018,-2.157959710206324,-2.2364755461972687,-2.3123315165458695,-0.9669483507971486,-1.0743602115879445,-1.074392003925199,-0.9669330468950895,-0.9669230707097968,-2.3121395698853733,-2.23510406441223,-1.1028508553233518,-1.0924901803141613,-0.9673881691800491,-1.3549115204360402,-1.0793509480526013,-1.0159415325423904,-1.07436399869777,-1.074391264668231,-1.074392666387606,-1.0743922293861317,-2.312158289704892,-2.024175237513796,-0.9666669537016763,-1.6550708681364348,-2.0163216809863336,-2.2305656923042103,-1.0743651572758497,-0.9670100043209585,-1.6550785245640618,-2.100337772727416,-1.6550724698261723,-1.8600480318647452,-2.3446602720917964,-2.3121237836173236,-2.104752011687276,-0.9671438688859196,-2.2319790964129536,-1.0751165858302427,-1.3204477156898042,-0.9669228425554831,-1.655066511330106,-1.6551750141188486,-1.0743703050625861,-0.966922628434423,-1.3549102372806985,-1.2580464264777604,-0.15209398410868913,-2.7659071534563466,-2.1345426228718027,-2.312224734142158,-1.0750284901579261,-2.2305089607351634,-1.2097317321401708,-1.074372388484352,-1.0771914253561914,-0.967066589435121,-2.1031994126532227,-2.3125624734366745,-1.0743667755604929,-2.2598016604233067,-2.0163228591684486,-2.228591698392662,-0.9669497141411011,-2.31212188450164,-0.670533130156116,-2.2744095942233584,-2.2474569331405063,-2.2284623571671065,-2.312404940722136,-2.2000218573217643,-2.382742252201822,-2.2784780322215052,-2.3123663827537313,-1.3011168534174407,-2.2600870226581016,-0.9669231010659931,-1.0743683850576942,-2.232509846235829,-2.164462417469472,-0.8501780374395171,-2.2470063108723313,-1.355049593924752,-0.9669249937101535,-1.301153241024695,-2.018202477245936,-2.2284945901898787,-1.3549115216921492,-2.3151989997323197,-2.1977766282733584,-2.1977328119098454,-2.291541401682259,-1.0744010986866066,-2.0164291045650176,-2.016323134866387,-1.5778545550622778,-1.3549179561833438,-0.40252868300684513,-1.3549542054988153,-1.120981776558692,-1.655399361051154,-2.2010462102499897,-1.0745152384765595,-1.3549194669062836,-1.0860483936713254,-1.2039637097559013,-1.074358766368209,-1.0744165273732997,-1.8599309578791703,-2.2950487689800245,-2.1002114858789036,-2.3123850644623376,-2.016325727424922],\"z\":[0.1717613363725522,0.2964423377031432,-0.002582861192826371,0.4209185200992328,0.2964221089592241,0.4167753460337882,0.35835616270215837,-0.0025576606258348694,0.019118207984103457,-0.0025636189888405664,0.3633554449505775,-0.03597043841287548,0.1716959593801644,-0.002619996606062994,-0.002565082646676264,0.08169913180643026,0.1729090384071054,-0.0025695529587290316,-0.002558160422076347,-0.002556610150746986,0.019120500395759802,0.3571856187485556,0.16347810083011577,-0.008045782888442578,-0.002562874015110119,-0.0026552925353391338,-0.0025633445324365596,-0.002555218354816639,0.24918102122883679,-0.0029818730119787877,-0.0025825495754655294,-0.0025744770507308092,-0.041629836248764984,0.17176024764846376,-0.002629087528650017,-0.0025622415727842057,-0.0025543448511002975,-0.0025706376730012196,0.3466859023516891,-0.0025567157382008266,-0.004673810084971359,0.17176243494386384,-0.002698412760866034,-0.0025560547764126936,-0.0025839399347690113,-0.0025671145182321973,0.171498105671505,0.17175025545602604,0.1717577845918954,0.17176158995042326,0.17176924516963066,0.019123371569114134,-0.0025638194253812005,0.12691882941329954,-0.0026181248976099893,0.17175192515239138,0.33045037897537877,0.4066285252338992,-0.002586474100204837,-0.002842938769038113,-0.0026156732426189542,-0.002554138478391605,-0.0026201969213245934,-0.0029137369863637464,0.3687503082821169,0.36408833075288305,0.31402765673897926,-0.002557631708754078,-0.005011393063010963,0.3421130000660134,-0.002554114341803129,0.17176321779739143,-0.01055993583715845,0.019109821741182306,0.3369068403368586,0.17175958037252653,0.01911649791440118,-0.002583354838159855,-0.0026016365182686533,0.2964743282404731,0.429160886414418,0.019116931698143973,0.1717602792796788,-0.0026444240234303885,0.3724524109879495,-0.0025852013239149106,0.16240237890476356,0.019100946054415244,0.42973621342652796,-0.0025687166106987333,0.4098249600025503,-0.002557849900254641,0.019116910634880933,-0.0025541130349081673,0.019121137270468665,0.5480124538139685,0.40987309650782167,0.17176633911894124,0.3636620260853188,-0.0026114809774061103,0.17176527492254917,-0.002560286117612439,0.4849630878926052,0.2964681100258823,0.4167759552678431,-0.003491655500334055,0.01879657608954985,0.019082818475951644,0.40987449572311285,-0.002554391162764803,0.4098712627964398,0.33691578085770296,0.010236669120926262,0.42090456655297726,-0.002555212115786781,0.019026303246069676,0.4167758529822979,-0.0025969250803340514,0.3369090843298671,0.32038777970787646,-0.0029240046606014486,0.0029292364868082456,-0.0025639192003485273,0.17109808487479655,-0.002564820460526071,0.4208915362065462,0.3377517877926738,0.4404810109284019,0.28257425584014995,0.40907962278466126,0.019102986792762535,-0.0025617678502454187,-0.002562153072134098,0.019109599615010076,0.019121239469004757,0.40986708490311047,0.40656543573410076,-0.07609755170066301,0.2493139692884383,0.01898589474941939,0.17176131281766338,-0.003467749123318331,-0.0517904821286645,-0.002558928660538724,-0.0025671662862464494,-0.0025737895281553107,-0.002574157854352328,0.40986584434495676,0.413157928300529,0.018036564373836703,0.2492783207653465,0.41677196528568033,0.42971548352387406,-0.002596975551789525,0.019033003278261868,0.24927599371225437,0.2964506547267522,0.2492773293438767,0.3638874562980592,0.39584110284274276,0.40987402285243274,0.2954298482332978,0.019048272381289675,0.4206855444088927,-0.004353817941839939,0.05916088277950745,0.019120608156178807,0.24927757539088533,0.24913537425092086,-0.0025750762167173788,0.01911886674858739,0.1717606381305583,0.1396843807285408,0.04562391178167285,0.3045584503129286,0.5559269306021871,0.40980130802423526,-0.006867031621728614,0.42969513338540133,0.12662637718960065,-0.0025616131878043705,-0.009144865591601622,0.019007527107278665,0.29582851553825884,0.4097620770064376,-0.002557075977411194,0.3507028656720231,0.4167490564841883,0.4849320359616234,0.019104135885666083,0.4098695442093698,0.0029278393053348856,0.33691325496868335,0.34221654042437144,0.48496423677600276,0.40982441747139087,0.44370963277001724,0.3796470022033218,0.33697663130148037,0.4095968021967888,0.19142710957419062,0.38484683623019267,0.019120240690506794,-0.0025562585534882774,0.42076678903107473,0.3322484974504727,0.11539121166203582,0.39340051836712603,0.17086356735919989,0.019119884733616792,0.19141976794103782,0.41466021316137675,0.4849555515962504,0.17176131387637375,0.4085306995273445,0.43618659248599895,0.4361886322400754,0.4147607078130017,-0.0025764382238772096,0.4167445589082438,0.4167683683704912,0.31401669574541713,0.1717457621038361,-0.06515146848569352,0.171725584381543,-0.01110987277874916,0.24761719116893338,0.4355790854118604,-0.0029094930035901633,0.17175776684925634,-0.017090617183261884,0.17289903403677387,-0.002556021836546974,-0.002593677305842089,0.3641093578323639,0.4924615203576907,0.2964688508562575,0.40941732247885604,0.4167753758218541]},{\"customdata\":[[1,\"Proof-of-BibleHash\"],[1,\"SHA-256 + Hive\"],[1,\"Proof-of-Authority\"],[1,\"ECC 256K1\"],[1,\"Leased POS\"]],\"hovertemplate\":\"<b>%{hovertext}</b><br><br>class=%{marker.color}<br>pc1=%{x}<br>pc2=%{y}<br>pc3=%{z}<br>Algorithm=%{customdata[1]}<extra></extra>\",\"hovertext\":[\"BiblePay\",\"LitecoinCash\",\"Poa Network\",\"Acute Angle Cloud\",\"Waves\"],\"legendgroup\":\"1\",\"marker\":{\"color\":[1,1,1,1,1],\"coloraxis\":\"coloraxis\",\"symbol\":\"square\"},\"mode\":\"markers\",\"name\":\"1\",\"scene\":\"scene\",\"showlegend\":true,\"type\":\"scatter3d\",\"x\":[-0.29728250989789545,-0.3491128820559019,-0.29355404511739447,-0.4547294486019974,-0.323947922939403],\"y\":[2.5740916608369493,2.9363904714998164,3.752326435356583,2.1533323582345703,3.92638314948947],\"z\":[16.720680604669358,10.85736099935607,12.552208410063741,12.09325634272821,16.5561222463]},{\"customdata\":[[2,\"TRC10\"]],\"hovertemplate\":\"<b>%{hovertext}</b><br><br>class=%{marker.color}<br>pc1=%{x}<br>pc2=%{y}<br>pc3=%{z}<br>Algorithm=%{customdata[1]}<extra></extra>\",\"hovertext\":[\"BitTorrent\"],\"legendgroup\":\"2\",\"marker\":{\"color\":[2],\"coloraxis\":\"coloraxis\",\"symbol\":\"x\"},\"mode\":\"markers\",\"name\":\"2\",\"scene\":\"scene\",\"showlegend\":true,\"type\":\"scatter3d\",\"x\":[34.06602641844602],\"y\":[1.702322076746424],\"z\":[-0.8609897672477695]}],                        {\"coloraxis\":{\"colorbar\":{\"title\":{\"text\":\"class\"}},\"colorscale\":[[0.0,\"#0d0887\"],[0.1111111111111111,\"#46039f\"],[0.2222222222222222,\"#7201a8\"],[0.3333333333333333,\"#9c179e\"],[0.4444444444444444,\"#bd3786\"],[0.5555555555555556,\"#d8576b\"],[0.6666666666666666,\"#ed7953\"],[0.7777777777777778,\"#fb9f3a\"],[0.8888888888888888,\"#fdca26\"],[1.0,\"#f0f921\"]]},\"legend\":{\"title\":{\"text\":\"class\"},\"tracegroupgap\":0,\"x\":0,\"y\":1},\"margin\":{\"t\":60},\"scene\":{\"domain\":{\"x\":[0.0,1.0],\"y\":[0.0,1.0]},\"xaxis\":{\"title\":{\"text\":\"pc1\"}},\"yaxis\":{\"title\":{\"text\":\"pc2\"}},\"zaxis\":{\"title\":{\"text\":\"pc3\"}}},\"template\":{\"data\":{\"bar\":[{\"error_x\":{\"color\":\"#2a3f5f\"},\"error_y\":{\"color\":\"#2a3f5f\"},\"marker\":{\"line\":{\"color\":\"#E5ECF6\",\"width\":0.5},\"pattern\":{\"fillmode\":\"overlay\",\"size\":10,\"solidity\":0.2}},\"type\":\"bar\"}],\"barpolar\":[{\"marker\":{\"line\":{\"color\":\"#E5ECF6\",\"width\":0.5},\"pattern\":{\"fillmode\":\"overlay\",\"size\":10,\"solidity\":0.2}},\"type\":\"barpolar\"}],\"carpet\":[{\"aaxis\":{\"endlinecolor\":\"#2a3f5f\",\"gridcolor\":\"white\",\"linecolor\":\"white\",\"minorgridcolor\":\"white\",\"startlinecolor\":\"#2a3f5f\"},\"baxis\":{\"endlinecolor\":\"#2a3f5f\",\"gridcolor\":\"white\",\"linecolor\":\"white\",\"minorgridcolor\":\"white\",\"startlinecolor\":\"#2a3f5f\"},\"type\":\"carpet\"}],\"choropleth\":[{\"colorbar\":{\"outlinewidth\":0,\"ticks\":\"\"},\"type\":\"choropleth\"}],\"contour\":[{\"colorbar\":{\"outlinewidth\":0,\"ticks\":\"\"},\"colorscale\":[[0.0,\"#0d0887\"],[0.1111111111111111,\"#46039f\"],[0.2222222222222222,\"#7201a8\"],[0.3333333333333333,\"#9c179e\"],[0.4444444444444444,\"#bd3786\"],[0.5555555555555556,\"#d8576b\"],[0.6666666666666666,\"#ed7953\"],[0.7777777777777778,\"#fb9f3a\"],[0.8888888888888888,\"#fdca26\"],[1.0,\"#f0f921\"]],\"type\":\"contour\"}],\"contourcarpet\":[{\"colorbar\":{\"outlinewidth\":0,\"ticks\":\"\"},\"type\":\"contourcarpet\"}],\"heatmap\":[{\"colorbar\":{\"outlinewidth\":0,\"ticks\":\"\"},\"colorscale\":[[0.0,\"#0d0887\"],[0.1111111111111111,\"#46039f\"],[0.2222222222222222,\"#7201a8\"],[0.3333333333333333,\"#9c179e\"],[0.4444444444444444,\"#bd3786\"],[0.5555555555555556,\"#d8576b\"],[0.6666666666666666,\"#ed7953\"],[0.7777777777777778,\"#fb9f3a\"],[0.8888888888888888,\"#fdca26\"],[1.0,\"#f0f921\"]],\"type\":\"heatmap\"}],\"heatmapgl\":[{\"colorbar\":{\"outlinewidth\":0,\"ticks\":\"\"},\"colorscale\":[[0.0,\"#0d0887\"],[0.1111111111111111,\"#46039f\"],[0.2222222222222222,\"#7201a8\"],[0.3333333333333333,\"#9c179e\"],[0.4444444444444444,\"#bd3786\"],[0.5555555555555556,\"#d8576b\"],[0.6666666666666666,\"#ed7953\"],[0.7777777777777778,\"#fb9f3a\"],[0.8888888888888888,\"#fdca26\"],[1.0,\"#f0f921\"]],\"type\":\"heatmapgl\"}],\"histogram\":[{\"marker\":{\"pattern\":{\"fillmode\":\"overlay\",\"size\":10,\"solidity\":0.2}},\"type\":\"histogram\"}],\"histogram2d\":[{\"colorbar\":{\"outlinewidth\":0,\"ticks\":\"\"},\"colorscale\":[[0.0,\"#0d0887\"],[0.1111111111111111,\"#46039f\"],[0.2222222222222222,\"#7201a8\"],[0.3333333333333333,\"#9c179e\"],[0.4444444444444444,\"#bd3786\"],[0.5555555555555556,\"#d8576b\"],[0.6666666666666666,\"#ed7953\"],[0.7777777777777778,\"#fb9f3a\"],[0.8888888888888888,\"#fdca26\"],[1.0,\"#f0f921\"]],\"type\":\"histogram2d\"}],\"histogram2dcontour\":[{\"colorbar\":{\"outlinewidth\":0,\"ticks\":\"\"},\"colorscale\":[[0.0,\"#0d0887\"],[0.1111111111111111,\"#46039f\"],[0.2222222222222222,\"#7201a8\"],[0.3333333333333333,\"#9c179e\"],[0.4444444444444444,\"#bd3786\"],[0.5555555555555556,\"#d8576b\"],[0.6666666666666666,\"#ed7953\"],[0.7777777777777778,\"#fb9f3a\"],[0.8888888888888888,\"#fdca26\"],[1.0,\"#f0f921\"]],\"type\":\"histogram2dcontour\"}],\"mesh3d\":[{\"colorbar\":{\"outlinewidth\":0,\"ticks\":\"\"},\"type\":\"mesh3d\"}],\"parcoords\":[{\"line\":{\"colorbar\":{\"outlinewidth\":0,\"ticks\":\"\"}},\"type\":\"parcoords\"}],\"pie\":[{\"automargin\":true,\"type\":\"pie\"}],\"scatter\":[{\"marker\":{\"colorbar\":{\"outlinewidth\":0,\"ticks\":\"\"}},\"type\":\"scatter\"}],\"scatter3d\":[{\"line\":{\"colorbar\":{\"outlinewidth\":0,\"ticks\":\"\"}},\"marker\":{\"colorbar\":{\"outlinewidth\":0,\"ticks\":\"\"}},\"type\":\"scatter3d\"}],\"scattercarpet\":[{\"marker\":{\"colorbar\":{\"outlinewidth\":0,\"ticks\":\"\"}},\"type\":\"scattercarpet\"}],\"scattergeo\":[{\"marker\":{\"colorbar\":{\"outlinewidth\":0,\"ticks\":\"\"}},\"type\":\"scattergeo\"}],\"scattergl\":[{\"marker\":{\"colorbar\":{\"outlinewidth\":0,\"ticks\":\"\"}},\"type\":\"scattergl\"}],\"scattermapbox\":[{\"marker\":{\"colorbar\":{\"outlinewidth\":0,\"ticks\":\"\"}},\"type\":\"scattermapbox\"}],\"scatterpolar\":[{\"marker\":{\"colorbar\":{\"outlinewidth\":0,\"ticks\":\"\"}},\"type\":\"scatterpolar\"}],\"scatterpolargl\":[{\"marker\":{\"colorbar\":{\"outlinewidth\":0,\"ticks\":\"\"}},\"type\":\"scatterpolargl\"}],\"scatterternary\":[{\"marker\":{\"colorbar\":{\"outlinewidth\":0,\"ticks\":\"\"}},\"type\":\"scatterternary\"}],\"surface\":[{\"colorbar\":{\"outlinewidth\":0,\"ticks\":\"\"},\"colorscale\":[[0.0,\"#0d0887\"],[0.1111111111111111,\"#46039f\"],[0.2222222222222222,\"#7201a8\"],[0.3333333333333333,\"#9c179e\"],[0.4444444444444444,\"#bd3786\"],[0.5555555555555556,\"#d8576b\"],[0.6666666666666666,\"#ed7953\"],[0.7777777777777778,\"#fb9f3a\"],[0.8888888888888888,\"#fdca26\"],[1.0,\"#f0f921\"]],\"type\":\"surface\"}],\"table\":[{\"cells\":{\"fill\":{\"color\":\"#EBF0F8\"},\"line\":{\"color\":\"white\"}},\"header\":{\"fill\":{\"color\":\"#C8D4E3\"},\"line\":{\"color\":\"white\"}},\"type\":\"table\"}]},\"layout\":{\"annotationdefaults\":{\"arrowcolor\":\"#2a3f5f\",\"arrowhead\":0,\"arrowwidth\":1},\"autotypenumbers\":\"strict\",\"coloraxis\":{\"colorbar\":{\"outlinewidth\":0,\"ticks\":\"\"}},\"colorscale\":{\"diverging\":[[0,\"#8e0152\"],[0.1,\"#c51b7d\"],[0.2,\"#de77ae\"],[0.3,\"#f1b6da\"],[0.4,\"#fde0ef\"],[0.5,\"#f7f7f7\"],[0.6,\"#e6f5d0\"],[0.7,\"#b8e186\"],[0.8,\"#7fbc41\"],[0.9,\"#4d9221\"],[1,\"#276419\"]],\"sequential\":[[0.0,\"#0d0887\"],[0.1111111111111111,\"#46039f\"],[0.2222222222222222,\"#7201a8\"],[0.3333333333333333,\"#9c179e\"],[0.4444444444444444,\"#bd3786\"],[0.5555555555555556,\"#d8576b\"],[0.6666666666666666,\"#ed7953\"],[0.7777777777777778,\"#fb9f3a\"],[0.8888888888888888,\"#fdca26\"],[1.0,\"#f0f921\"]],\"sequentialminus\":[[0.0,\"#0d0887\"],[0.1111111111111111,\"#46039f\"],[0.2222222222222222,\"#7201a8\"],[0.3333333333333333,\"#9c179e\"],[0.4444444444444444,\"#bd3786\"],[0.5555555555555556,\"#d8576b\"],[0.6666666666666666,\"#ed7953\"],[0.7777777777777778,\"#fb9f3a\"],[0.8888888888888888,\"#fdca26\"],[1.0,\"#f0f921\"]]},\"colorway\":[\"#636efa\",\"#EF553B\",\"#00cc96\",\"#ab63fa\",\"#FFA15A\",\"#19d3f3\",\"#FF6692\",\"#B6E880\",\"#FF97FF\",\"#FECB52\"],\"font\":{\"color\":\"#2a3f5f\"},\"geo\":{\"bgcolor\":\"white\",\"lakecolor\":\"white\",\"landcolor\":\"#E5ECF6\",\"showlakes\":true,\"showland\":true,\"subunitcolor\":\"white\"},\"hoverlabel\":{\"align\":\"left\"},\"hovermode\":\"closest\",\"mapbox\":{\"style\":\"light\"},\"paper_bgcolor\":\"white\",\"plot_bgcolor\":\"#E5ECF6\",\"polar\":{\"angularaxis\":{\"gridcolor\":\"white\",\"linecolor\":\"white\",\"ticks\":\"\"},\"bgcolor\":\"#E5ECF6\",\"radialaxis\":{\"gridcolor\":\"white\",\"linecolor\":\"white\",\"ticks\":\"\"}},\"scene\":{\"xaxis\":{\"backgroundcolor\":\"#E5ECF6\",\"gridcolor\":\"white\",\"gridwidth\":2,\"linecolor\":\"white\",\"showbackground\":true,\"ticks\":\"\",\"zerolinecolor\":\"white\"},\"yaxis\":{\"backgroundcolor\":\"#E5ECF6\",\"gridcolor\":\"white\",\"gridwidth\":2,\"linecolor\":\"white\",\"showbackground\":true,\"ticks\":\"\",\"zerolinecolor\":\"white\"},\"zaxis\":{\"backgroundcolor\":\"#E5ECF6\",\"gridcolor\":\"white\",\"gridwidth\":2,\"linecolor\":\"white\",\"showbackground\":true,\"ticks\":\"\",\"zerolinecolor\":\"white\"}},\"shapedefaults\":{\"line\":{\"color\":\"#2a3f5f\"}},\"ternary\":{\"aaxis\":{\"gridcolor\":\"white\",\"linecolor\":\"white\",\"ticks\":\"\"},\"baxis\":{\"gridcolor\":\"white\",\"linecolor\":\"white\",\"ticks\":\"\"},\"bgcolor\":\"#E5ECF6\",\"caxis\":{\"gridcolor\":\"white\",\"linecolor\":\"white\",\"ticks\":\"\"}},\"title\":{\"x\":0.05},\"xaxis\":{\"automargin\":true,\"gridcolor\":\"white\",\"linecolor\":\"white\",\"ticks\":\"\",\"title\":{\"standoff\":15},\"zerolinecolor\":\"white\",\"zerolinewidth\":2},\"yaxis\":{\"automargin\":true,\"gridcolor\":\"white\",\"linecolor\":\"white\",\"ticks\":\"\",\"title\":{\"standoff\":15},\"zerolinecolor\":\"white\",\"zerolinewidth\":2}}},\"width\":800},                        {\"responsive\": true}                    ).then(function(){\n",
       "                            \n",
       "var gd = document.getElementById('14b23906-3643-4a88-8241-22b75dd05564');\n",
       "var x = new MutationObserver(function (mutations, observer) {{\n",
       "        var display = window.getComputedStyle(gd).display;\n",
       "        if (!display || display === 'none') {{\n",
       "            console.log([gd, 'removed!']);\n",
       "            Plotly.purge(gd);\n",
       "            observer.disconnect();\n",
       "        }}\n",
       "}});\n",
       "\n",
       "// Listen for the removal of the full notebook cells\n",
       "var notebookContainer = gd.closest('#notebook-container');\n",
       "if (notebookContainer) {{\n",
       "    x.observe(notebookContainer, {childList: true});\n",
       "}}\n",
       "\n",
       "// Listen for the clearing of the current output cell\n",
       "var outputEl = gd.closest('.output');\n",
       "if (outputEl) {{\n",
       "    x.observe(outputEl, {childList: true});\n",
       "}}\n",
       "\n",
       "                        })                };                });            </script>        </div>"
      ]
     },
     "metadata": {},
     "output_type": "display_data"
    }
   ],
   "source": [
    "# Creating a 3D-Scatter with the PCA data and the clusters\n",
    "fig = px.scatter_3d(\n",
    "    clustered_df,\n",
    "    x=\"pc1\",\n",
    "    y=\"pc2\",\n",
    "    z=\"pc3\",\n",
    "    color=\"class\",\n",
    "    symbol=\"class\",\n",
    "    width=800,\n",
    "    hover_name=\"CoinName\",\n",
    "    hover_data=['class','pc1','pc2','pc3','Algorithm']\n",
    ")\n",
    "fig.update_layout(legend=dict(x=0, y=1))\n",
    "fig.show()\n"
   ]
  },
  {
   "cell_type": "code",
   "execution_count": 257,
   "metadata": {},
   "outputs": [
    {
     "name": "stderr",
     "output_type": "stream",
     "text": [
      "WARNING:param.main: slectable option not found for table plot; similar options include: ['selectable', 'sortable', 'editable']\n"
     ]
    },
    {
     "data": {},
     "metadata": {},
     "output_type": "display_data"
    },
    {
     "data": {
      "application/vnd.holoviews_exec.v0+json": "",
      "text/html": [
       "<div id='1238'>\n",
       "\n",
       "\n",
       "\n",
       "\n",
       "\n",
       "  <div class=\"bk-root\" id=\"c03ae742-d013-45b2-a7b9-be201924ec03\" data-root-id=\"1238\"></div>\n",
       "</div>\n",
       "<script type=\"application/javascript\">(function(root) {\n",
       "  function embed_document(root) {\n",
       "    var docs_json = {\"ac82f4e9-f5e9-497f-9924-837baa3b05b9\":{\"defs\":[{\"extends\":null,\"module\":null,\"name\":\"ReactiveHTML1\",\"overrides\":[],\"properties\":[]},{\"extends\":null,\"module\":null,\"name\":\"FlexBox1\",\"overrides\":[],\"properties\":[{\"default\":\"flex-start\",\"kind\":null,\"name\":\"align_content\"},{\"default\":\"flex-start\",\"kind\":null,\"name\":\"align_items\"},{\"default\":\"row\",\"kind\":null,\"name\":\"flex_direction\"},{\"default\":\"wrap\",\"kind\":null,\"name\":\"flex_wrap\"},{\"default\":\"flex-start\",\"kind\":null,\"name\":\"justify_content\"}]},{\"extends\":null,\"module\":null,\"name\":\"TemplateActions1\",\"overrides\":[],\"properties\":[{\"default\":0,\"kind\":null,\"name\":\"open_modal\"},{\"default\":0,\"kind\":null,\"name\":\"close_modal\"}]},{\"extends\":null,\"module\":null,\"name\":\"MaterialTemplateActions1\",\"overrides\":[],\"properties\":[{\"default\":0,\"kind\":null,\"name\":\"open_modal\"},{\"default\":0,\"kind\":null,\"name\":\"close_modal\"}]}],\"roots\":{\"references\":[{\"attributes\":{\"editor\":{\"id\":\"1268\"},\"field\":\"class\",\"formatter\":{\"id\":\"1267\"},\"title\":\"class\"},\"id\":\"1269\",\"type\":\"TableColumn\"},{\"attributes\":{},\"id\":\"1248\",\"type\":\"StringEditor\"},{\"attributes\":{\"margin\":[5,5,5,5],\"name\":\"HSpacer02006\",\"sizing_mode\":\"stretch_width\"},\"id\":\"1239\",\"type\":\"Spacer\"},{\"attributes\":{},\"id\":\"1253\",\"type\":\"StringEditor\"},{\"attributes\":{},\"id\":\"1243\",\"type\":\"StringEditor\"},{\"attributes\":{\"margin\":[5,5,5,5],\"name\":\"HSpacer02007\",\"sizing_mode\":\"stretch_width\"},\"id\":\"1279\",\"type\":\"Spacer\"},{\"attributes\":{\"editor\":{\"id\":\"1243\"},\"field\":\"CoinName\",\"formatter\":{\"id\":\"1242\"},\"title\":\"CoinName\"},\"id\":\"1244\",\"type\":\"TableColumn\"},{\"attributes\":{},\"id\":\"1247\",\"type\":\"StringFormatter\"},{\"attributes\":{},\"id\":\"1258\",\"type\":\"StringEditor\"},{\"attributes\":{},\"id\":\"1263\",\"type\":\"NumberEditor\"},{\"attributes\":{},\"id\":\"1252\",\"type\":\"StringFormatter\"},{\"attributes\":{\"editor\":{\"id\":\"1248\"},\"field\":\"Algorithm\",\"formatter\":{\"id\":\"1247\"},\"title\":\"Algorithm\"},\"id\":\"1249\",\"type\":\"TableColumn\"},{\"attributes\":{},\"id\":\"1267\",\"type\":\"NumberFormatter\"},{\"attributes\":{},\"id\":\"1242\",\"type\":\"StringFormatter\"},{\"attributes\":{},\"id\":\"1257\",\"type\":\"StringFormatter\"},{\"attributes\":{\"editor\":{\"id\":\"1253\"},\"field\":\"ProofType\",\"formatter\":{\"id\":\"1252\"},\"title\":\"ProofType\"},\"id\":\"1254\",\"type\":\"TableColumn\"},{\"attributes\":{},\"id\":\"1268\",\"type\":\"IntEditor\"},{\"attributes\":{\"format\":\"0,0.0[00000]\"},\"id\":\"1262\",\"type\":\"NumberFormatter\"},{\"attributes\":{},\"id\":\"1241\",\"type\":\"Selection\"},{\"attributes\":{\"editor\":{\"id\":\"1258\"},\"field\":\"TotalCoinSupply\",\"formatter\":{\"id\":\"1257\"},\"title\":\"TotalCoinSupply\"},\"id\":\"1259\",\"type\":\"TableColumn\"},{\"attributes\":{\"editor\":{\"id\":\"1263\"},\"field\":\"TotalCoinsMined\",\"formatter\":{\"id\":\"1262\"},\"title\":\"TotalCoinsMined\"},\"id\":\"1264\",\"type\":\"TableColumn\"},{\"attributes\":{\"children\":[{\"id\":\"1239\"},{\"id\":\"1272\"},{\"id\":\"1279\"}],\"margin\":[0,0,0,0],\"name\":\"Row02002\",\"tags\":[\"embedded\"]},\"id\":\"1238\",\"type\":\"Row\"},{\"attributes\":{\"source\":{\"id\":\"1240\"}},\"id\":\"1274\",\"type\":\"CDSView\"},{\"attributes\":{},\"id\":\"1275\",\"type\":\"UnionRenderers\"},{\"attributes\":{\"data\":{\"Algorithm\":[\"Scrypt\",\"Scrypt\",\"X13\",\"SHA-256\",\"Ethash\",\"Scrypt\",\"X11\",\"CryptoNight-V7\",\"Ethash\",\"Equihash\",\"SHA-512\",\"Multiple\",\"SHA-256\",\"SHA-256\",\"Scrypt\",\"X15\",\"X11\",\"Scrypt\",\"Scrypt\",\"Scrypt\",\"Multiple\",\"Scrypt\",\"SHA-256\",\"Scrypt\",\"Scrypt\",\"Scrypt\",\"Quark\",\"Groestl\",\"Scrypt\",\"Scrypt\",\"Scrypt\",\"Scrypt\",\"Scrypt\",\"X11\",\"Scrypt\",\"Groestl\",\"Multiple\",\"SHA-256\",\"Scrypt\",\"Scrypt\",\"Scrypt\",\"Scrypt\",\"PoS\",\"Scrypt\",\"Scrypt\",\"NeoScrypt\",\"Scrypt\",\"Scrypt\",\"Scrypt\",\"Scrypt\",\"X11\",\"Scrypt\",\"X11\",\"SHA-256\",\"Scrypt\",\"Scrypt\",\"Scrypt\",\"SHA3\",\"Scrypt\",\"HybridScryptHash256\",\"Scrypt\",\"Scrypt\",\"SHA-256\",\"Scrypt\",\"X13\",\"Scrypt\",\"SHA-256\",\"Scrypt\",\"X13\",\"NeoScrypt\",\"Scrypt\",\"Scrypt\",\"Scrypt\",\"Scrypt\",\"Scrypt\",\"Scrypt\",\"X11\",\"X11\",\"SHA-256\",\"Multiple\",\"SHA-256\",\"PHI1612\",\"X11\",\"SHA-256\",\"SHA-256\",\"SHA-256\",\"X11\",\"Scrypt\",\"Scrypt\",\"Scrypt\",\"Scrypt\",\"Lyra2REv2\",\"Scrypt\",\"X11\",\"Multiple\",\"SHA-256\",\"X13\",\"Scrypt\",\"CryptoNight\",\"CryptoNight\",\"Shabal256\",\"Counterparty\",\"Scrypt\",\"SHA-256\",\"Groestl\",\"Scrypt\",\"Scrypt\",\"Scrypt\",\"X13\",\"Scrypt\",\"Scrypt\",\"Scrypt\",\"Scrypt\",\"X13\",\"Scrypt\",\"Stanford Folding\",\"X11\",\"Multiple\",\"QuBit\",\"Scrypt\",\"Scrypt\",\"Scrypt\",\"M7 POW\",\"Scrypt\",\"SHA-256\",\"Scrypt\",\"X11\",\"SHA3\",\"X11\",\"Lyra2RE\",\"SHA-256\",\"QUAIT\",\"X11\",\"X11\",\"Scrypt\",\"Scrypt\",\"Scrypt\",\"Ethash\",\"X13\",\"Blake2b\",\"SHA-256\",\"X15\",\"X11\",\"SHA-256\",\"BLAKE256\",\"Scrypt\",\"1GB AES Pattern Search\",\"SHA-256\",\"X11\",\"Scrypt\",\"SHA-256\",\"SHA-256\",\"NIST5\",\"Scrypt\",\"Scrypt\",\"X11\",\"Dagger\",\"Scrypt\",\"X11GOST\",\"X11\",\"Scrypt\",\"SHA-256\",\"Scrypt\",\"PoS\",\"Scrypt\",\"X11\",\"X11\",\"SHA-256\",\"SHA-256\",\"NIST5\",\"X11\",\"Scrypt\",\"POS 3.0\",\"Scrypt\",\"Scrypt\",\"Scrypt\",\"X13\",\"X11\",\"X11\",\"Equihash\",\"X11\",\"Scrypt\",\"CryptoNight\",\"SHA-256\",\"SHA-256\",\"X11\",\"Scrypt\",\"Multiple\",\"Scrypt\",\"Scrypt\",\"Scrypt\",\"SHA-256\",\"Scrypt\",\"Scrypt\",\"SHA-256D\",\"PoS\",\"Scrypt\",\"X11\",\"Lyra2Z\",\"PoS\",\"X13\",\"X14\",\"PoS\",\"SHA-256D\",\"Ethash\",\"Equihash\",\"DPoS\",\"X11\",\"Scrypt\",\"X11\",\"X13\",\"X11\",\"PoS\",\"Scrypt\",\"Scrypt\",\"X11\",\"PoS\",\"X11\",\"SHA-256\",\"Scrypt\",\"X11\",\"Scrypt\",\"Scrypt\",\"X11\",\"CryptoNight\",\"Scrypt\",\"Scrypt\",\"Scrypt\",\"Scrypt\",\"Quark\",\"QuBit\",\"Scrypt\",\"CryptoNight\",\"Lyra2RE\",\"Scrypt\",\"SHA-256\",\"X11\",\"Scrypt\",\"X11\",\"Scrypt\",\"CryptoNight-V7\",\"Scrypt\",\"Scrypt\",\"Scrypt\",\"X13\",\"X11\",\"Equihash\",\"Scrypt\",\"Scrypt\",\"Lyra2RE\",\"Scrypt\",\"Dagger-Hashimoto\",\"X11\",\"Blake2S\",\"X11\",\"Scrypt\",\"PoS\",\"X11\",\"NIST5\",\"PoS\",\"X11\",\"Scrypt\",\"Scrypt\",\"Scrypt\",\"SHA-256\",\"X11\",\"Scrypt\",\"Scrypt\",\"SHA-256\",\"PoS\",\"Scrypt\",\"X15\",\"SHA-256\",\"Scrypt\",\"POS 3.0\",\"CryptoNight-V7\",\"536\",\"Argon2d\",\"Blake2b\",\"Cloverhash\",\"CryptoNight\",\"NIST5\",\"X11\",\"NIST5\",\"Skein\",\"Scrypt\",\"X13\",\"Scrypt\",\"X11\",\"X11\",\"Scrypt\",\"CryptoNight\",\"X13\",\"Time Travel\",\"Scrypt\",\"Keccak\",\"SkunkHash v2 Raptor\",\"X11\",\"Skein\",\"SHA-256\",\"X11\",\"Scrypt\",\"VeChainThor Authority\",\"Scrypt\",\"PoS\",\"Scrypt\",\"Scrypt\",\"Scrypt\",\"Scrypt\",\"Scrypt\",\"Scrypt\",\"Scrypt\",\"CryptoNight\",\"SHA-512\",\"Ouroboros\",\"X11\",\"Equihash\",\"NeoScrypt\",\"X11\",\"Scrypt\",\"NeoScrypt\",\"Lyra2REv2\",\"Equihash\",\"Scrypt\",\"SHA-256\",\"NIST5\",\"PHI1612\",\"Dagger\",\"Scrypt\",\"Quark\",\"Scrypt\",\"POS 2.0\",\"Scrypt\",\"SHA-256\",\"X11\",\"NeoScrypt\",\"Ethash\",\"NeoScrypt\",\"X11\",\"DPoS\",\"NIST5\",\"X13\",\"Multiple\",\"Scrypt\",\"CryptoNight\",\"CryptoNight\",\"Ethash\",\"NIST5\",\"Quark\",\"X11\",\"CryptoNight-V7\",\"Scrypt\",\"Scrypt\",\"Scrypt\",\"X11\",\"BLAKE256\",\"X11\",\"NeoScrypt\",\"Quark\",\"NeoScrypt\",\"Scrypt\",\"Scrypt\",\"Scrypt\",\"X11\",\"X11\",\"SHA-256\",\"C11\",\"POS 3.0\",\"Ethash\",\"Scrypt\",\"CryptoNight\",\"SkunkHash\",\"Scrypt\",\"CryptoNight\",\"Scrypt\",\"Dagger\",\"Lyra2REv2\",\"X13\",\"Proof-of-BibleHash\",\"SHA-256 + Hive\",\"Scrypt\",\"Scrypt\",\"X11\",\"C11\",\"Proof-of-Authority\",\"X11\",\"XEVAN\",\"Scrypt\",\"VBFT\",\"Ethash\",\"CryptoNight\",\"Scrypt\",\"IMesh\",\"NIST5\",\"Scrypt\",\"Scrypt\",\"Equihash\",\"Scrypt\",\"Lyra2Z\",\"Green Protocol\",\"PoS\",\"Scrypt\",\"Semux BFT consensus\",\"X11\",\"Quark\",\"PoS\",\"CryptoNight\",\"X16R\",\"Scrypt\",\"NIST5\",\"Lyra2RE\",\"XEVAN\",\"Tribus\",\"Scrypt\",\"Lyra2Z\",\"CryptoNight\",\"CryptoNight Heavy\",\"CryptoNight\",\"Scrypt\",\"Scrypt\",\"Jump Consistent Hash\",\"SHA-256D\",\"CryptoNight\",\"Scrypt\",\"X15\",\"Scrypt\",\"Quark\",\"SHA-256\",\"DPoS\",\"X16R\",\"HMQ1725\",\"X11\",\"X16R\",\"Quark\",\"Quark\",\"Scrypt\",\"Lyra2REv2\",\"Quark\",\"Scrypt\",\"Scrypt\",\"CryptoNight-V7\",\"Cryptonight-GPU\",\"XEVAN\",\"CryptoNight Heavy\",\"X11\",\"X11\",\"Scrypt\",\"PoS\",\"SHA-256\",\"Keccak\",\"X11\",\"X11\",\"Scrypt\",\"SHA-512\",\"X16R\",\"ECC 256K1\",\"Equihash\",\"XEVAN\",\"Lyra2Z\",\"SHA-256\",\"XEVAN\",\"X11\",\"CryptoNight\",\"Quark\",\"Blake\",\"Blake\",\"Equihash\",\"Exosis\",\"Scrypt\",\"Scrypt\",\"Equihash\",\"Quark\",\"Equihash\",\"Quark\",\"Scrypt\",\"QuBit\",\"X11\",\"Scrypt\",\"XEVAN\",\"SHA-256D\",\"X11\",\"SHA-256\",\"X13\",\"SHA-256\",\"X11\",\"DPoS\",\"Scrypt\",\"Scrypt\",\"X11\",\"NeoScrypt\",\"Scrypt\",\"Blake\",\"Scrypt\",\"SHA-256\",\"Scrypt\",\"X11\",\"Scrypt\",\"Scrypt\",\"SHA-256\",\"X11\",\"SHA-256\",\"Scrypt\",\"Scrypt\",\"Scrypt\",\"Groestl\",\"X11\",\"Scrypt\",\"PoS\",\"Scrypt\",\"Scrypt\",\"X11\",\"SHA-256\",\"DPoS\",\"Scrypt\",\"Scrypt\",\"NeoScrypt\",\"Multiple\",\"X13\",\"Equihash+Scrypt\",\"DPoS\",\"Ethash\",\"DPoS\",\"SHA-256\",\"Leased POS\",\"PoS\",\"TRC10\",\"PoS\",\"SHA-256\",\"Scrypt\",\"CryptoNight\",\"Equihash\",\"Scrypt\"],\"CoinName\":[\"42 Coin\",\"404Coin\",\"EliteCoin\",\"Bitcoin\",\"Ethereum\",\"Litecoin\",\"Dash\",\"Monero\",\"Ethereum Classic\",\"ZCash\",\"Bitshares\",\"DigiByte\",\"BitcoinDark\",\"PayCoin\",\"ProsperCoin\",\"KoboCoin\",\"Spreadcoin\",\"Argentum\",\"Aurora Coin\",\"BlueCoin\",\"MyriadCoin\",\"MoonCoin\",\"ZetaCoin\",\"SexCoin\",\"Quatloo\",\"EnergyCoin\",\"QuarkCoin\",\"Riecoin\",\"Digitalcoin \",\"BitBar\",\"Catcoin\",\"CryptoBullion\",\"CannaCoin\",\"CryptCoin\",\"CasinoCoin\",\"Diamond\",\"Verge\",\"DevCoin\",\"EarthCoin\",\"E-Gulden\",\"Einsteinium\",\"Emerald\",\"Exclusive Coin\",\"FlutterCoin\",\"Franko\",\"FeatherCoin\",\"GrandCoin\",\"GlobalCoin\",\"GoldCoin\",\"HoboNickels\",\"HyperStake\",\"Infinite Coin\",\"IOCoin\",\"IXcoin\",\"KrugerCoin\",\"LuckyCoin\",\"Litebar \",\"MaxCoin\",\"MegaCoin\",\"MediterraneanCoin\",\"MintCoin\",\"MinCoin\",\"MazaCoin\",\"Nautilus Coin\",\"NavCoin\",\"NobleCoin\",\"Namecoin\",\"NyanCoin\",\"OpalCoin\",\"Orbitcoin\",\"PotCoin\",\"PhoenixCoin\",\"Reddcoin\",\"RonPaulCoin\",\"StableCoin\",\"SmartCoin\",\"SuperCoin\",\"SyncCoin\",\"SysCoin\",\"TeslaCoin\",\"TigerCoin\",\"TittieCoin\",\"TorCoin\",\"TerraCoin\",\"UnbreakableCoin\",\"Unobtanium\",\"UroCoin\",\"UnitaryStatus Dollar\",\"UltraCoin\",\"ViaCoin\",\"VeriCoin\",\"Vertcoin\",\"WorldCoin\",\"X11 Coin\",\"Crypti\",\"JouleCoin\",\"StealthCoin\",\"ZCC Coin\",\"ByteCoin\",\"DigitalNote \",\"BurstCoin\",\"StorjCoin\",\"MonaCoin\",\"Neutron\",\"FairCoin\",\"Gulden\",\"RubyCoin\",\"PesetaCoin\",\"Kore\",\"Wild Beast Coin\",\"Dnotes\",\"Flo\",\"8BIT Coin\",\"Sativa Coin\",\"ArtByte\",\"Folding Coin\",\"Ucoin\",\"Unitus\",\"CypherPunkCoin\",\"OmniCron\",\"Vtorrent\",\"GreenCoin\",\"Cryptonite\",\"MasterCoin\",\"SoonCoin\",\"1Credit\",\"IslaCoin\",\"Nexus\",\"MarsCoin \",\"Crypto\",\"Anarchists Prime\",\"Droidz\",\"BowsCoin\",\"Squall Coin\",\"Song Coin\",\"BitZeny\",\"Diggits\",\"Expanse\",\"Paycon\",\"Siacoin\",\"Emercoin\",\"EverGreenCoin\",\"MindCoin\",\"I0coin\",\"Decred\",\"Revolution VR\",\"HOdlcoin\",\"EDRCoin\",\"Hitcoin\",\"Gamecredits\",\"DubaiCoin\",\"CarpeDiemCoin\",\"PWR Coin\",\"BillaryCoin\",\"GPU Coin\",\"Adzcoin\",\"SoilCoin\",\"YoCoin\",\"SibCoin\",\"EuropeCoin\",\"ZeitCoin\",\"SwingCoin\",\"SafeExchangeCoin\",\"Nebuchadnezzar\",\"Francs\",\"BolivarCoin\",\"Ratecoin\",\"Revenu\",\"Clockcoin\",\"VIP Tokens\",\"BitSend\",\"Omni\",\"Let it Ride\",\"PutinCoin\",\"iBankCoin\",\"Frankywillcoin\",\"MudraCoin\",\"PizzaCoin\",\"Lutetium Coin\",\"Komodo\",\"GoldBlocks\",\"CarterCoin\",\"Karbo\",\"BitTokens\",\"ZayedCoin\",\"MustangCoin\",\"ZoneCoin\",\"Circuits of Value\",\"RootCoin\",\"DopeCoin\",\"BitCurrency\",\"DollarCoin\",\"Swiscoin\",\"Shilling\",\"BuzzCoin\",\"Opair\",\"PesoBit\",\"Halloween Coin\",\"ZCoin\",\"CoffeeCoin\",\"RoyalCoin\",\"GanjaCoin V2\",\"TeamUP\",\"LanaCoin\",\"Elementrem\",\"ZClassic\",\"ARK\",\"InsaneCoin\",\"KiloCoin\",\"ArtexCoin\",\"EmberCoin\",\"XenixCoin\",\"FreeCoin\",\"PLNCoin\",\"AquariusCoin\",\"Kurrent\",\"Creatio\",\"Eternity\",\"Eurocoin\",\"BitcoinFast\",\"Stakenet\",\"BitConnect Coin\",\"MoneyCoin\",\"Enigma\",\"Cannabis Industry Coin\",\"Russiacoin\",\"PandaCoin\",\"GameUnits\",\"GAKHcoin\",\"Allsafe\",\"LiteCreed\",\"OsmiumCoin\",\"Bikercoins\",\"HexxCoin\",\"Klingon Empire Darsek\",\"Internet of People\",\"KushCoin\",\"Printerium\",\"PacCoin\",\"Impeach\",\"Citadel\",\"Zilbercoin\",\"FirstCoin\",\"BeaverCoin\",\"FindCoin\",\"VaultCoin\",\"Zero\",\"OpenChat\",\"Canada eCoin\",\"Zoin\",\"RenosCoin\",\"DubaiCoin\",\"VirtacoinPlus\",\"TajCoin\",\"Impact\",\"EB3coin\",\"Atmos\",\"HappyCoin\",\"Coinonat\",\"MacronCoin\",\"Condensate\",\"Independent Money System\",\"ArgusCoin\",\"LomoCoin\",\"ProCurrency\",\"GoldReserve\",\"BenjiRolls\",\"GrowthCoin\",\"ILCoin\",\"Phreak\",\"Degas Coin\",\"HTML5 Coin\",\"Ultimate Secure Cash\",\"EquiTrader\",\"QTUM\",\"Quantum Resistant Ledger\",\"Espers\",\"Dynamic\",\"Nano\",\"ChanCoin\",\"Dinastycoin\",\"Denarius\",\"DigitalPrice\",\"Virta Unique Coin\",\"Bitcoin Planet\",\"Unify\",\"BritCoin\",\"SocialCoin\",\"ArcticCoin\",\"DAS\",\"Linda\",\"LeviarCoin\",\"DeepOnion\",\"Bitcore\",\"gCn Coin\",\"SmartCash\",\"Signatum\",\"Onix\",\"Cream\",\"Bitcoin Cash\",\"Monoeci\",\"Draftcoin\",\"Vechain\",\"Sojourn Coin\",\"Stakecoin\",\"NewYorkCoin\",\"FrazCoin\",\"Kronecoin\",\"AdCoin\",\"Linx\",\"CoinonatX\",\"Ethereum Dark\",\"Sumokoin\",\"Obsidian\",\"Cardano\",\"Regalcoin\",\"BitcoinZ\",\"TrezarCoin\",\"Elements\",\"TerraNovaCoin\",\"VIVO Coin\",\"Rupee\",\"Bitcoin Gold\",\"WomenCoin\",\"Theresa May Coin\",\"NamoCoin\",\"LUXCoin\",\"Pirl\",\"Xios\",\"Bitcloud 2.0\",\"eBoost\",\"KekCoin\",\"BlackholeCoin\",\"Infinity Economics\",\"Pura\",\"Innova\",\"Ellaism\",\"GoByte\",\"Magnet\",\"Lamden Tau\",\"Electra\",\"Bitcoin Diamond\",\"SHIELD\",\"Cash & Back Coin\",\"UltraNote\",\"BitCoal\",\"DaxxCoin\",\"Bulwark\",\"Kalkulus\",\"AC3\",\"Lethean\",\"GermanCoin\",\"LiteCoin Ultra\",\"PopularCoin\",\"PhantomX\",\"Photon\",\"Sucre\",\"SparksPay\",\"Digiwage\",\"GunCoin\",\"IrishCoin\",\"Trollcoin\",\"Litecoin Plus\",\"Monkey Project\",\"Pioneer Coin\",\"UnitedBitcoin\",\"Interzone\",\"TokenPay\",\"1717 Masonic Commemorative Token\",\"My Big Coin\",\"TurtleCoin\",\"MUNcoin\",\"Unified Society USDEX\",\"Niobio Cash\",\"ShareChain\",\"Travelflex\",\"KREDS\",\"Tokyo Coin\",\"BiblePay\",\"LitecoinCash\",\"BitFlip\",\"LottoCoin\",\"Crypto Improvement Fund\",\"Stipend\",\"Poa Network\",\"Pushi\",\"Ellerium\",\"Velox\",\"Ontology\",\"Callisto Network\",\"BitTube\",\"Poseidon\",\"Aidos Kuneen\",\"Bitspace\",\"Briacoin\",\"Ignition\",\"Bitrolium\",\"MedicCoin\",\"Alpenschillling\",\"Bitcoin Green\",\"Deviant Coin\",\"Abjcoin\",\"Semux\",\"FuturoCoin\",\"Carebit\",\"Zealium\",\"Monero Classic\",\"Proton\",\"iDealCash\",\"Jumpcoin\",\"Infinex\",\"Bitcoin Incognito\",\"KEYCO\",\"HollyWoodCoin\",\"GINcoin\",\"PlatinCoin\",\"Loki\",\"Newton Coin\",\"Swisscoin\",\"Xt3ch\",\"MassGrid\",\"TheVig\",\"PluraCoin\",\"EmaratCoin\",\"Dekado\",\"Lynx\",\"Poseidon Quark\",\"BitcoinWSpectrum\",\"Muse\",\"Motion\",\"PlusOneCoin\",\"Axe\",\"Trivechain\",\"Dystem\",\"Giant\",\"Peony Coin\",\"Absolute Coin\",\"Vitae\",\"HexCoin\",\"TPCash\",\"Webchain\",\"Ryo\",\"Urals Coin\",\"Qwertycoin\",\"ARENON\",\"EUNO\",\"MMOCoin\",\"Ketan\",\"Project Pai\",\"XDNA\",\"PAXEX\",\"Azart\",\"ThunderStake\",\"Kcash\",\"Xchange\",\"Acute Angle Cloud\",\"CrypticCoin\",\"Bettex coin\",\"Actinium\",\"Bitcoin SV\",\"BitMoney\",\"Junson Ming Chan Coin\",\"FREDEnergy\",\"HerbCoin\",\"Universal Molecule\",\"Lithium\",\"PirateCash\",\"Exosis\",\"Block-Logic\",\"Oduwa\",\"Beam\",\"Galilel\",\"Bithereum\",\"Crypto Sports\",\"Credit\",\"SLICE\",\"Dash Platinum\",\"Nasdacoin\",\"Beetle Coin\",\"Titan Coin\",\"Award\",\"BLAST\",\"Bitcoin Rhodium\",\"GlobalToken\",\"Insane Coin\",\"ALAX\",\"LiteDoge\",\"SolarCoin\",\"TruckCoin\",\"UFO Coin\",\"OrangeCoin\",\"BlakeCoin\",\"BitstarCoin\",\"NeosCoin\",\"HyperCoin\",\"PinkCoin\",\"Crypto Escudo\",\"AudioCoin\",\"IncaKoin\",\"Piggy Coin\",\"Crown Coin\",\"Genstake\",\"SmileyCoin\",\"XiaoMiCoin\",\"Groestlcoin\",\"CapriCoin\",\" ClubCoin\",\"Radium\",\"Bata\",\"Pakcoin\",\"Creditbit \",\"OKCash\",\"Lisk\",\"HiCoin\",\"WhiteCoin\",\"FriendshipCoin\",\"JoinCoin\",\"Triangles Coin\",\"Vollar\",\"EOS\",\"Reality Clash\",\"Oxycoin\",\"TigerCash\",\"Waves\",\"Particl\",\"BitTorrent\",\"Nxt\",\"ZEPHYR\",\"Gapcoin\",\"Beldex\",\"Horizen\",\"BitcoinPlus\"],\"ProofType\":[\"PoW/PoS\",\"PoW/PoS\",\"PoW/PoS\",\"PoW\",\"PoW\",\"PoW\",\"PoW/PoS\",\"PoW\",\"PoW\",\"PoW\",\"PoS\",\"PoW\",\"PoW/PoS\",\"PoS\",\"PoW\",\"PoW/PoS\",\"PoW\",\"PoW\",\"PoW/PoS\",\"PoW/PoS\",\"PoW\",\"PoW\",\"PoW\",\"PoW\",\"PoW\",\"PoW/PoS\",\"PoW\",\"PoW\",\"PoW\",\"PoW/PoS\",\"PoW\",\"PoW/PoS\",\"PoW\",\"PoW\",\"PoC\",\"PoW/PoS\",\"PoW\",\"PoW\",\"PoW\",\"PoW\",\"PoW\",\"PoW\",\"PoS\",\"PoS/PoW/PoT\",\"PoW\",\"PoW\",\"PoW\",\"PoW\",\"PoW\",\"PoW/PoS\",\"PoS\",\"PoW\",\"PoW/PoS\",\"PoW\",\"PoW\",\"PoW\",\"PoW\",\"PoW/PoS\",\"PoW\",\"PoW\",\"PoS\",\"PoW\",\"PoW/PoS\",\"PoS\",\"PoW/PoS\",\"PoW\",\"PoW\",\"PoW\",\"PoW/PoS\",\"PoW/PoS\",\"PoW/PoS\",\"PoW/PoS\",\"PoW/PoS\",\"PoW\",\"PoW\",\"PoW\",\"PoS\",\"PoW/PoS\",\"PoW\",\"PoS\",\"PoW\",\"PoS\",\"PoW/PoS\",\"PoW\",\"PoW\",\"PoW\",\"PoW\",\"PoW/PoS\",\"PoW/PoS\",\"PoW\",\"PoST\",\"PoW\",\"PoW\",\"PoW/PoS\",\"PoS\",\"PoW\",\"PoW/PoS\",\"PoW/PoS\",\"PoW\",\"PoW\",\"PoC\",\"PoS\",\"PoW\",\"PoW/PoS\",\"PoW/PoS\",\"PoW\",\"PoS\",\"PoW\",\"PoW/PoS\",\"PoW\",\"PoS\",\"PoW\",\"PoW/PoS\",\"PoW/PoS\",\"PoW\",\"PoW\",\"PoS\",\"PoW\",\"PoW\",\"PoW\",\"PoW/PoS\",\"PoW\",\"PoW\",\"PoW\",\"PoW\",\"PoW\",\"PoW/PoS\",\"PoW/nPoS\",\"PoW\",\"PoW\",\"PoW\",\"PoW/PoS\",\"PoW\",\"PoS/PoW\",\"PoW\",\"PoW\",\"PoS\",\"PoW\",\"PoW/PoS\",\"PoW\",\"PoW/PoS\",\"PoW/PoS\",\"PoW\",\"PoW\",\"PoW/PoS\",\"PoW\",\"PoW\",\"PoW/PoS\",\"PoW/PoS\",\"PoW\",\"PoW/PoS\",\"PoW\",\"PoW/PoS\",\"PoW/PoS\",\"PoS\",\"PoW\",\"PoW\",\"PoW\",\"PoW\",\"PoW/PoS\",\"PoS\",\"PoW/PoS\",\"PoC\",\"PoS\",\"PoW\",\"PoW\",\"PoW/PoS\",\"PoW/PoS\",\"PoW/PoS\",\"PoW/PoS\",\"PoW/PoS\",\"PoW\",\"PoS\",\"PoW/PoS\",\"PoW/PoS\",\"PoW/PoS\",\"PoS\",\"PoW\",\"PoS\",\"dPoW/PoW\",\"PoW/PoS\",\"PoW/PoS\",\"PoW\",\"PoW/PoS\",\"PoW\",\"PoW/PoS\",\"PoW/PoS\",\"PoW\",\"PoW/PoS\",\"PoW\",\"PoS\",\"PoW\",\"PoW/PoW\",\"PoW\",\"PoW/PoS\",\"PoS\",\"PoW/PoS\",\"PoW/PoS\",\"PoW\",\"PoS\",\"PoS\",\"PoW/PoS\",\"PoS\",\"PoW/PoS\",\"PoW\",\"PoW\",\"DPoS\",\"PoW/PoS\",\"PoW\",\"PoW\",\"PoW/PoS\",\"PoW/PoS\",\"PoS\",\"PoW/PoS\",\"PoW/PoS\",\"PoW\",\"PoS\",\"PoW/PoS\",\"PoW/PoS\",\"PoW/PoS\",\"TPoS\",\"PoW/PoS\",\"PoW/PoS\",\"PoW/PoS\",\"PoW\",\"PoW/PoS\",\"PoS\",\"PoW/PoS\",\"PoW/PoS\",\"PoS\",\"PoW/PoS\",\"PoW\",\"PoW\",\"PoW\",\"PoW/PoS\",\"PoW/PoS\",\"PoW/PoS\",\"PoW/PoS\",\"PoW\",\"PoW/PoS\",\"PoW\",\"PoS\",\"PoW/PoS \",\"PoW\",\"PoS\",\"PoW\",\"PoW\",\"PoW/PoS\",\"PoW\",\"PoW\",\"PoS\",\"PoW\",\"PoW/PoS\",\"PoW/PoS\",\"PoW/PoS\",\"PoW\",\"PoS\",\"PoW/PoS\",\"PoW\",\"PoS\",\"PoW/PoS\",\"PoW/PoS\",\"PoW/PoS\",\"PoW/PoS\",\"PoS\",\"PoW/PoS\",\"PoW\",\"PoS\",\"PoW\",\"PoS\",\"PoW/PoS\",\"PoW/PoS\",\"PoS\",\"PoW\",\"PoS\",\"PoW\",\"PoW/PoS\",\"PoW\",\"PoW\",\"PoW\",\"PoW\",\"PoW/PoS\",\"PoW\",\"PoW/PoS\",\"PoW/PoS\",\"PoW\",\"PoW/PoS\",\"PoW\",\"PoW\",\"PoW\",\"PoW/PoS\",\"PoW\",\"PoW/PoS\",\"PoW\",\"PoW\",\"PoW\",\"PoS\",\"PoW\",\"PoW/PoS\",\"PoW\",\"PoW/PoS\",\"PoS\",\"Proof of Authority\",\"PoW\",\"PoS\",\"PoW\",\"PoW\",\"PoW\",\"PoW\",\"PoW\",\"PoW/PoS\",\"PoW/PoS\",\"PoW\",\"PoS\",\"PoS\",\"PoW/PoS\",\"PoW\",\"PoW/PoS\",\"PoW\",\"PoW/PoS\",\"PoW\",\"PoS\",\"PoW\",\"PoW/PoS\",\"PoW/PoS\",\"PoW/PoS\",\"PoW/PoS\",\"PoW\",\"PoW/PoS\",\"PoW/PoS\",\"PoW\",\"PoS\",\"PoW/PoS\",\"PoS\",\"PoW\",\"PoW\",\"PoW\",\"PoW\",\"PoW/PoS\",\"DPoS\",\"PoW/PoS\",\"PoW/PoS\",\"PoW\",\"PoW/PoS\",\"PoW\",\"PoW\",\"PoW\",\"PoS\",\"PoS\",\"PoW\",\"PoW\",\"PoW/PoS\",\"PoW/PoS\",\"PoW\",\"PoW/PoS\",\"PoW\",\"PoW\",\"PoW\",\"PoS\",\"PoW\",\"PoW\",\"PoW/PoS\",\"PoW/PoS\",\"PoS\",\"PoW\",\"PoW\",\"PoW\",\"PoS\",\"PoS\",\"PoW and PoS\",\"PoW\",\"PoW\",\"PoW/PoS\",\"PoW\",\"PoW\",\"PoW\",\"PoW\",\"PoS\",\"POBh\",\"PoW + Hive\",\"PoW\",\"PoW\",\"PoW\",\"PoW/PoS\",\"PoA\",\"PoW/PoS\",\"PoW/PoS\",\"PoS\",\"PoS\",\"PoW\",\"PoW\",\"PoW\",\"PoW\",\"PoW/PoS\",\"PoW/PoS\",\"PoW/PoS\",\"PoW\",\"PoS\",\"PoW\",\"PoS\",\"PoS\",\"PoW/PoS\",\"DPoS\",\"PoW\",\"PoW/PoS\",\"PoS\",\"PoW\",\"PoS\",\"PoW/PoS\",\"PoW\",\"PoW\",\"PoS/PoW\",\"PoW\",\"PoS\",\"PoW\",\"PoW\",\"PoW\",\"PoW\",\"PoW/PoS\",\"PoS\",\"PoW\",\"PoW/PoS\",\"PoW\",\"PoW/PoS\",\"PoS\",\"HPoW\",\"PoS\",\"PoS\",\"PoS\",\"PoW\",\"PoW\",\"PoW\",\"PoW/PoS\",\"PoS\",\"PoW/PoS\",\"PoS\",\"PoW/PoS\",\"PoS\",\"PoW\",\"PoW/PoS\",\"PoW\",\"PoW\",\"PoW\",\"PoW\",\"PoS\",\"PoW/PoS\",\"PoS\",\"PoS\",\"PoW\",\"PoW/PoS\",\"PoS\",\"PoW\",\"PoW/PoS\",\"Zero-Knowledge Proof\",\"PoW\",\"DPOS\",\"PoW\",\"PoS\",\"PoW\",\"PoW\",\"Pos\",\"PoS\",\"PoW\",\"PoW/PoS\",\"PoW\",\"PoW\",\"PoS\",\"PoW\",\"PoW\",\"PoW/PoS\",\"PoW\",\"PoW/PoS\",\"PoW\",\"PoS\",\"PoW/PoS\",\"PoW\",\"PoS\",\"PoW/PoS\",\"PoW/PoS\",\"PoW/PoS\",\"PoW/PoS\",\"PoW\",\"PoW\",\"PoW\",\"PoW/PoS\",\"DPoS\",\"PoW/PoS\",\"PoW\",\"PoW/PoS\",\"PoW\",\"PoW/PoS\",\"PoW\",\"PoW/PoS\",\"PoS\",\"PoW/PoS\",\"PoW/PoS\",\"PoW\",\"PoW/PoS\",\"PoW/PoS\",\"PoW/PoS\",\"PoW\",\"PoW/PoS\",\"PoW\",\"PoW/PoS\",\"PoW\",\"PoW/PoS\",\"PoW/PoS\",\"PoS\",\"PoW\",\"PoW\",\"Proof of Trust\",\"PoW/PoS\",\"DPoS\",\"PoS\",\"PoW/PoS\",\"PoW/PoS\",\"PoW\",\"PoW/PoS\",\"PoW\",\"DPoS\",\"PoW\",\"DPoS\",\"PoS\",\"LPoS\",\"PoS\",\"DPoS\",\"PoS/LPoS\",\"DPoS\",\"PoW/PoS\",\"PoW\",\"PoW\",\"PoS\"],\"TotalCoinSupply\":[\"42\",\"532000000\",\"314159265359\",\"21000000\",\"0\",\"84000000\",\"22000000\",\"0\",\"210000000\",\"21000000\",\"3600570502\",\"21000000000\",\"22000000\",\"12500000\",\"21000000\",\"350000000\",\"20000000\",\"64000000\",\"16768584\",\"0\",\"2000000000\",\"384000000000\",\"169795588\",\"250000000\",\"100000000\",\"0\",\"247000000\",\"84000000\",\"48166000\",\"500000\",\"21000000 \",\"1000000\",\"13140000\",\"18000000\",\"40000000000\",\"4380000\",\"16555000000\",\"21000000000\",\"13500000000\",\"21000000 \",\"299792458\",\"32000000\",\"0\",\"0\",\"11235813\",\"336000000\",\"1420609614\",\"70000000\",\"72245700\",\"120000000\",\"0\",\"90600000000\",\"22000000\",\"21000000\",\"265420800\",\"20000000\",\"1350000\",\"100000000\",\"42000000\",\"200000000\",\"0\",\"10000000\",\"2419200000\",\"16180000\",\"0\",\"15000000000\",\"21000000\",\"337000000\",\"0\",\"3770000\",\"420000000\",\"98000000\",\"0\",\"21000000\",\"250000000\",\"51200000\",\"0\",\"1000\",\"888000000\",\"100000000\",\"47011968\",\"2300000000\",\"10000000\",\"42000000\",\"80000000\",\"250000\",\"0\",\"1600000000\",\"100000000\",\"23000000\",\"0\",\"84000000\",\"265420800\",\"5500000\",\"0\",\"45000000\",\"0\",\"1000000000\",\"184467440735\",\"10000000000\",\"2158812800\",\"500000000\",\"105120000\",\"68000000\",\"0\",\"1680000000\",\"0\",\"166386000\",\"12000000\",\"2628000\",\"500000000\",\"160000000\",\"0\",\"10000000\",\"1000000000\",\"1000000000\",\"20000000\",\"0\",\"0\",\"3371337\",\"20000000\",\"10000000000\",\"1840000000\",\"619478\",\"21000000\",\"92000000000\",\"0\",\"78000000\",\"33000000\",\"65789100\",\"53760000\",\"5060000\",\"21000000\",\"0\",\"210240000\",\"250000000\",\"100000000\",\"16906397\",\"50000000\",\"0\",\"1000000000\",\"26298000\",\"16000000\",\"21000000\",\"21000000\",\"210000000\",\"81962100\",\"22000000\",\"26550000000\",\"84000000\",\"10500000\",\"21626280000 \",\"0\",\"42000000\",\"221052632\",\"84000000\",\"30000000\",\"168351300\",\"24000000\",\"384000000\",\" 99000000000\",\"40000000\",\"2147483647\",\"20000000\",\"20000000\",\"25000000\",\"75000000\",\"222725000\",\"525000000\",\"90000000\",\"139000000\",\"616448\",\"33500000\",\"2000000000\",\"44333333\",\"100000000\",\"200000000\",\"25000000\",\"657000000\",\"200000000\",\"50000000\",\"90000000\",\"10000000\",\"21000000\",\"9736000\",\"3000000\",\"21000000\",\"1200000000\",\"0\",\"200000000\",\"0\",\"10638298\",\"3100000000\",\"30000000\",\"20000000000\",\"74000000\",\"0\",\"1500000000\",\"21400000\",\"39999898\",\"2500124\",\"100000000\",\"301000000\",\"7506000000\",\"26205539\",\"21000000\",\"125000000\",\"30000000\",\"10000000000\",\"500000000\",\"850000000\",\"3853326.77707314\",\"50000000\",\"38540000 \",\"42000000\",\"228000000\",\"20000000\",\"60000000\",\"20000000\",\"33000000\",\"76500000\",\"28000000\",\"650659833\",\"5000000\",\"21000000\",\"144000000\",\"32514916898\",\"13000000\",\"3315789\",\"15000000\",\"78835200\",\"2714286\",\"25000000\",\"9999999\",\"500000000\",\"21000000\",\"9354000\",\"20000000\",\"100000000000\",\"21933333\",\"185000000\",\"55000000\",\"110000000\",\"3360000\",\"14524851.4827\",\"1000000000\",\"17000000\",\"1000000000\",\"100000000 \",\"21000000\",\"34426423\",\"2232901\",\"100000000\",\"36900000\",\"110000000\",\"4000000000\",\"110290030\",\"100000000\",\"48252000\",\"400000000\",\"500000000\",\"21212121\",\"28600000\",\"1000000000\",\"75000000000\",\"40000000\",\"35520400\",\"2000000000\",\"2500000000\",\"30000000\",\"105000000\",\"90000000000\",\"200084200\",\"72000000\",\"100000000\",\"105000000\",\"50000000000\",\"0\",\"340282367\",\"30000000\",\"2000000000\",\"10000000\",\"100000000\",\"120000000\",\"100000000\",\"19276800\",\"30000000\",\" 75000000\",\"60000000\",\"18900000\",\"50000000000\",\"54000000\",\"18898187.6216583\",\"21000000\",\"200000000000\",\"5000000000\",\"137500000\",\"1100000000\",\"100000000\",\"21000000\",\"9507271\",\"17405891.19707116\",\"86712634466\",\"10500000000\",\"61599965\",\"0\",\"20000000\",\"84000000\",\"100000000\",\"100000000\",\"48252000\",\"4200000\",\"88888888\",\"91388946\",\"45000000000\",\"27000000\",\"21000000000\",\"400000000\",\"1800000000\",\"15733333\",\"27000000\",\"24000000\",\"21000000\",\"25000000000\",\"100000000\",\"1200000000\",\"60000000\",\"156306732.71\",\"21000000\",\"200000000\",\"100000000\",\"21000000\",\"14788275.991\",\"9000000000\",\"350000000\",\"45000000\",\"280000000\",\"31800000\",\"144000000\",\"500000000\",\"30000000000\",\"210000000\",\"660000000\",\"210000000\",\"85000000000\",\"12500000\",\"10000000000\",\"27716121\",\"20000000\",\"550000000\",\"999481516\",\"50000000000\",\"150000000\",\"4999999999\",\"50000000\",\" 90000000000\",\"19800000\",\"21000000\",\"120000000\",\"500000000\",\"64000000\",\"900000000\",\"4000000\",\"21000000\",\"23000000\",\"20166000\",\"23000000\",\"25000000\",\"1618033\",\"30000000\",\"1000000000000\",\"16600000\",\"232000000\",\"336000000\",\"10000000000\",\"100000000\",\"1100000000\",\"800000000\",\"5200000000\",\"840000000\",\"40000000\",\"18406979840\",\"500000000\",\"19340594\",\"252460800\",\"25000000\",\"60000000\",\"124000000\",\"1000000000\",\"6500000000\",\"1000000000\",\"21000000\",\"25000000\",\"50000000\",\"3000000\",\"5000000\",\"70000000\",\"500000000\",\"300000000\",\"21000000\",\"88000000\",\"30000000\",\"100000000\",\"100000000\",\"200000000\",\"80000000\",\"18400000\",\"45000000\",\"5121951220\",\"21000000\",\"26280000\",\"21000000\",\"18000000\",\"26000000\",\"10500000\",\"600000518\",\"150000000\",\"184000000000\",\"10200000000\",\"44000000\",\"168000000\",\"100000000\",\"1000000000\",\"84000000\",\"90000000\",\"92000000000\",\"650000000 \",\"100262205\",\"18081806 \",\"22075700\",\"21000000\",\"21000000\",\"82546564\",\"21000000\",\"5151000\",\"16880000000\",\"52500000\",\"100000000\",\"22105263\",\"1000000000\",\"1750000000\",\"88188888\",\"210000000\",\"184470000000\",\"55000000\",\"50000000\",\"260000000\",\"210000000\",\"2100000000\",\"366000000\",\"100000000\",\"25000000\",\"18000000000\",\"1000000000\",\"100000000\",\"1000000000\",\"7600000000\",\"50000000\",\"84000000\",\"21000000\",\"70000000000\",\"0\",\"8080000000\",\"54000000\",\"105120001.44\",\"25228800\",\"105000000\",\"21000000\",\"120000000\",\"21000000\",\"262800000\",\"19035999\",\"30886000\",\"13370000\",\"74800000000\",\"100000000\",\"19700000\",\"84000000\",\"500000000\",\"5000000000\",\"420000000\",\"64000000\",\"2100000\",\"168000000\",\"30000000\",\"1000000000\",\"35000000000\",\"98100000000\",\"0\",\"4000000000\",\"200000000\",\"7000000000\",\"54256119\",\"21000000\",\"0\",\"500000000\",\"1000000000\",\"10500000000\",\"190000000\",\"1000000000\",\"42000000\",\"15000000\",\"50000000000\",\"400000000\",\"105000000\",\"208000000\",\"160000000\",\"9000000\",\"5000000\",\"182000000\",\"16504333\",\"105000000\",\"159918400\",\"10008835635\",\"300000000\",\"60168145\",\"2800000\",\"120000\",\"2100000000\",\"0\",\"24487944\",\"0\",\"1000000000\",\"100000000\",\"8634140\",\"990000000000\",\"1000000000\",\"2000000000\",\"250000000\",\"1400222610\",\"21000000\",\"1000000\"],\"TotalCoinsMined\":{\"__ndarray__\":\"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\",\"dtype\":\"float64\",\"order\":\"little\",\"shape\":[532]},\"class\":{\"__ndarray__\":\"AAAAAAAAAAAAAAAAAwAAAAMAAAADAAAAAAAAAAMAAAADAAAAAwAAAAAAAAADAAAAAAAAAAAAAAADAAAAAAAAAAMAAAADAAAAAAAAAAAAAAADAAAAAwAAAAMAAAADAAAAAwAAAAAAAAADAAAAAwAAAAMAAAAAAAAAAwAAAAAAAAADAAAAAwAAAAAAAAAAAAAAAwAAAAMAAAADAAAAAwAAAAMAAAADAAAAAAAAAAAAAAADAAAAAwAAAAMAAAADAAAAAwAAAAAAAAAAAAAAAwAAAAAAAAADAAAAAwAAAAMAAAADAAAAAAAAAAMAAAADAAAAAAAAAAMAAAAAAAAAAAAAAAAAAAADAAAAAwAAAAMAAAAAAAAAAAAAAAAAAAAAAAAAAAAAAAMAAAADAAAAAwAAAAAAAAAAAAAAAwAAAAAAAAADAAAAAAAAAAAAAAADAAAAAwAAAAMAAAADAAAAAAAAAAAAAAADAAAAAAAAAAMAAAADAAAAAAAAAAAAAAADAAAAAAAAAAAAAAADAAAAAwAAAAAAAAAAAAAAAwAAAAAAAAAAAAAAAwAAAAAAAAADAAAAAAAAAAMAAAAAAAAAAwAAAAAAAAAAAAAAAwAAAAMAAAAAAAAAAwAAAAMAAAADAAAAAAAAAAMAAAADAAAAAwAAAAMAAAADAAAAAAAAAAAAAAADAAAAAwAAAAMAAAAAAAAAAwAAAAAAAAADAAAAAwAAAAAAAAADAAAAAAAAAAMAAAAAAAAAAAAAAAMAAAADAAAAAAAAAAMAAAADAAAAAAAAAAAAAAADAAAAAAAAAAMAAAAAAAAAAAAAAAAAAAADAAAAAwAAAAMAAAADAAAAAAAAAAAAAAAAAAAAAAAAAAAAAAADAAAAAwAAAAAAAAAAAAAAAAAAAAAAAAAAAAAAAwAAAAAAAAAAAAAAAAAAAAAAAAAAAAAAAwAAAAAAAAADAAAAAAAAAAAAAAADAAAAAAAAAAMAAAAAAAAAAAAAAAMAAAAAAAAAAwAAAAAAAAADAAAAAAAAAAMAAAAAAAAAAAAAAAAAAAAAAAAAAwAAAAAAAAAAAAAAAAAAAAAAAAAAAAAAAwAAAAMAAAAAAAAAAAAAAAMAAAADAAAAAAAAAAAAAAAAAAAAAAAAAAAAAAADAAAAAAAAAAAAAAAAAAAAAAAAAAAAAAAAAAAAAAAAAAAAAAADAAAAAAAAAAAAAAAAAAAAAAAAAAAAAAAAAAAAAwAAAAMAAAADAAAAAAAAAAAAAAAAAAAAAAAAAAMAAAAAAAAAAwAAAAAAAAAAAAAAAwAAAAAAAAADAAAAAwAAAAAAAAADAAAAAwAAAAAAAAADAAAAAAAAAAAAAAAAAAAAAwAAAAAAAAAAAAAAAwAAAAAAAAAAAAAAAAAAAAAAAAAAAAAAAAAAAAAAAAADAAAAAAAAAAMAAAAAAAAAAAAAAAAAAAAAAAAAAwAAAAAAAAADAAAAAAAAAAMAAAADAAAAAwAAAAMAAAAAAAAAAwAAAAAAAAAAAAAAAwAAAAAAAAADAAAAAwAAAAMAAAAAAAAAAwAAAAAAAAADAAAAAwAAAAMAAAAAAAAAAwAAAAAAAAADAAAAAAAAAAAAAAAAAAAAAwAAAAAAAAADAAAAAwAAAAMAAAADAAAAAwAAAAAAAAAAAAAAAwAAAAAAAAAAAAAAAAAAAAMAAAAAAAAAAwAAAAAAAAADAAAAAAAAAAMAAAAAAAAAAAAAAAAAAAAAAAAAAwAAAAAAAAAAAAAAAwAAAAAAAAAAAAAAAAAAAAMAAAADAAAAAwAAAAMAAAAAAAAAAAAAAAAAAAAAAAAAAwAAAAAAAAADAAAAAwAAAAMAAAAAAAAAAAAAAAMAAAADAAAAAAAAAAAAAAADAAAAAAAAAAMAAAADAAAAAwAAAAAAAAADAAAAAwAAAAAAAAAAAAAAAAAAAAMAAAADAAAAAwAAAAAAAAADAAAAAAAAAAMAAAADAAAAAAAAAAMAAAADAAAAAwAAAAMAAAAAAAAAAQAAAAEAAAADAAAAAwAAAAMAAAAAAAAAAQAAAAAAAAAAAAAAAAAAAAAAAAADAAAAAwAAAAMAAAADAAAAAAAAAAAAAAAAAAAAAwAAAAAAAAADAAAAAAAAAAAAAAAAAAAAAAAAAAMAAAAAAAAAAAAAAAMAAAAAAAAAAAAAAAMAAAADAAAAAAAAAAMAAAAAAAAAAwAAAAMAAAADAAAAAwAAAAAAAAAAAAAAAwAAAAAAAAADAAAAAAAAAAAAAAAAAAAAAAAAAAAAAAAAAAAAAwAAAAMAAAADAAAAAAAAAAAAAAAAAAAAAAAAAAAAAAAAAAAAAwAAAAAAAAADAAAAAwAAAAMAAAADAAAAAAAAAAAAAAAAAAAAAAAAAAMAAAAAAAAAAAAAAAMAAAAAAAAAAAAAAAMAAAABAAAAAwAAAAAAAAADAAAAAwAAAAAAAAAAAAAAAwAAAAAAAAADAAAAAwAAAAAAAAADAAAAAwAAAAAAAAADAAAAAAAAAAMAAAAAAAAAAAAAAAMAAAAAAAAAAAAAAAAAAAAAAAAAAAAAAAMAAAADAAAAAwAAAAAAAAAAAAAAAAAAAAMAAAAAAAAAAwAAAAAAAAADAAAAAAAAAAAAAAAAAAAAAAAAAAMAAAAAAAAAAAAAAAAAAAADAAAAAAAAAAMAAAAAAAAAAwAAAAAAAAAAAAAAAAAAAAMAAAADAAAAAAAAAAAAAAAAAAAAAAAAAAAAAAAAAAAAAwAAAAAAAAADAAAAAAAAAAMAAAAAAAAAAAAAAAEAAAAAAAAAAgAAAAAAAAAAAAAAAAAAAAMAAAADAAAAAAAAAA==\",\"dtype\":\"int32\",\"order\":\"little\",\"shape\":[532]}},\"selected\":{\"id\":\"1241\"},\"selection_policy\":{\"id\":\"1275\"}},\"id\":\"1240\",\"type\":\"ColumnDataSource\"},{\"attributes\":{\"columns\":[{\"id\":\"1244\"},{\"id\":\"1249\"},{\"id\":\"1254\"},{\"id\":\"1259\"},{\"id\":\"1264\"},{\"id\":\"1269\"}],\"height\":300,\"reorderable\":false,\"source\":{\"id\":\"1240\"},\"view\":{\"id\":\"1274\"},\"width\":700},\"id\":\"1272\",\"type\":\"DataTable\"}],\"root_ids\":[\"1238\"]},\"title\":\"Bokeh Application\",\"version\":\"2.3.3\"}};\n",
       "    var render_items = [{\"docid\":\"ac82f4e9-f5e9-497f-9924-837baa3b05b9\",\"root_ids\":[\"1238\"],\"roots\":{\"1238\":\"c03ae742-d013-45b2-a7b9-be201924ec03\"}}];\n",
       "    root.Bokeh.embed.embed_items_notebook(docs_json, render_items);\n",
       "  }\n",
       "  if (root.Bokeh !== undefined && root.Bokeh.Panel !== undefined) {\n",
       "    embed_document(root);\n",
       "  } else {\n",
       "    var attempts = 0;\n",
       "    var timer = setInterval(function(root) {\n",
       "      if (root.Bokeh !== undefined && root.Bokeh.Panel !== undefined) {\n",
       "        clearInterval(timer);\n",
       "        embed_document(root);\n",
       "      } else if (document.readyState == \"complete\") {\n",
       "        attempts++;\n",
       "        if (attempts > 200) {\n",
       "          clearInterval(timer);\n",
       "          console.log(\"Bokeh: ERROR: Unable to run BokehJS code because BokehJS library is missing\");\n",
       "        }\n",
       "      }\n",
       "    }, 25, root)\n",
       "  }\n",
       "})(window);</script>"
      ],
      "text/plain": [
       ":Table   [CoinName,Algorithm,ProofType,TotalCoinSupply,TotalCoinsMined,class]"
      ]
     },
     "execution_count": 257,
     "metadata": {
      "application/vnd.holoviews_exec.v0+json": {
       "id": "1238"
      }
     },
     "output_type": "execute_result"
    }
   ],
   "source": [
    "# Create a table with tradable cryptocurrencies.\n",
    "clustered_df.hvplot.table(columns=['CoinName', 'Algorithm', 'ProofType', 'TotalCoinSupply', 'TotalCoinsMined', 'class'], sortable=True, slectable=True)"
   ]
  },
  {
   "cell_type": "code",
   "execution_count": 263,
   "metadata": {},
   "outputs": [
    {
     "name": "stdout",
     "output_type": "stream",
     "text": [
      "There are 532 tradable cryptocurrencies.\n"
     ]
    }
   ],
   "source": [
    "# Print the total number of tradable cryptocurrencies.\n",
    "print(f\"There are {clustered_df['CoinName'].count()} tradable cryptocurrencies.\")"
   ]
  },
  {
   "cell_type": "code",
   "execution_count": 275,
   "metadata": {},
   "outputs": [
    {
     "data": {
      "text/plain": [
       "array([[4.20000000e-11, 0.00000000e+00],\n",
       "       [5.32000000e-04, 1.06585544e-03],\n",
       "       [3.14159265e-01, 2.95755135e-02],\n",
       "       ...,\n",
       "       [1.40022261e-03, 9.90135079e-04],\n",
       "       [2.10000000e-05, 7.37028150e-06],\n",
       "       [1.00000000e-06, 1.29582282e-07]])"
      ]
     },
     "execution_count": 275,
     "metadata": {},
     "output_type": "execute_result"
    }
   ],
   "source": [
    "# Scaling data to create the scatter plot with tradable cryptocurrencies.\n",
    "clustered_df_scaled = MinMaxScaler().fit_transform(clustered_df[['TotalCoinSupply', 'TotalCoinsMined']])\n",
    "clustered_df_scaled"
   ]
  },
  {
   "cell_type": "code",
   "execution_count": 280,
   "metadata": {},
   "outputs": [
    {
     "data": {
      "text/html": [
       "<div>\n",
       "<style scoped>\n",
       "    .dataframe tbody tr th:only-of-type {\n",
       "        vertical-align: middle;\n",
       "    }\n",
       "\n",
       "    .dataframe tbody tr th {\n",
       "        vertical-align: top;\n",
       "    }\n",
       "\n",
       "    .dataframe thead th {\n",
       "        text-align: right;\n",
       "    }\n",
       "</style>\n",
       "<table border=\"1\" class=\"dataframe\">\n",
       "  <thead>\n",
       "    <tr style=\"text-align: right;\">\n",
       "      <th></th>\n",
       "      <th>TotalCoinSupply</th>\n",
       "      <th>TotalCoinsMined</th>\n",
       "      <th>CoinName</th>\n",
       "      <th>class</th>\n",
       "    </tr>\n",
       "  </thead>\n",
       "  <tbody>\n",
       "    <tr>\n",
       "      <th>42</th>\n",
       "      <td>4.200000e-11</td>\n",
       "      <td>0.000000e+00</td>\n",
       "      <td>42 Coin</td>\n",
       "      <td>0</td>\n",
       "    </tr>\n",
       "    <tr>\n",
       "      <th>404</th>\n",
       "      <td>5.320000e-04</td>\n",
       "      <td>1.065855e-03</td>\n",
       "      <td>404Coin</td>\n",
       "      <td>0</td>\n",
       "    </tr>\n",
       "    <tr>\n",
       "      <th>1337</th>\n",
       "      <td>3.141593e-01</td>\n",
       "      <td>2.957551e-02</td>\n",
       "      <td>EliteCoin</td>\n",
       "      <td>0</td>\n",
       "    </tr>\n",
       "    <tr>\n",
       "      <th>BTC</th>\n",
       "      <td>2.100000e-05</td>\n",
       "      <td>1.810842e-05</td>\n",
       "      <td>Bitcoin</td>\n",
       "      <td>3</td>\n",
       "    </tr>\n",
       "    <tr>\n",
       "      <th>ETH</th>\n",
       "      <td>0.000000e+00</td>\n",
       "      <td>1.087731e-04</td>\n",
       "      <td>Ethereum</td>\n",
       "      <td>3</td>\n",
       "    </tr>\n",
       "    <tr>\n",
       "      <th>...</th>\n",
       "      <td>...</td>\n",
       "      <td>...</td>\n",
       "      <td>...</td>\n",
       "      <td>...</td>\n",
       "    </tr>\n",
       "    <tr>\n",
       "      <th>ZEPH</th>\n",
       "      <td>2.000000e-03</td>\n",
       "      <td>2.020225e-03</td>\n",
       "      <td>ZEPHYR</td>\n",
       "      <td>0</td>\n",
       "    </tr>\n",
       "    <tr>\n",
       "      <th>GAP</th>\n",
       "      <td>2.500000e-04</td>\n",
       "      <td>1.508199e-05</td>\n",
       "      <td>Gapcoin</td>\n",
       "      <td>0</td>\n",
       "    </tr>\n",
       "    <tr>\n",
       "      <th>BDX</th>\n",
       "      <td>1.400223e-03</td>\n",
       "      <td>9.901351e-04</td>\n",
       "      <td>Beldex</td>\n",
       "      <td>3</td>\n",
       "    </tr>\n",
       "    <tr>\n",
       "      <th>ZEN</th>\n",
       "      <td>2.100000e-05</td>\n",
       "      <td>7.370282e-06</td>\n",
       "      <td>Horizen</td>\n",
       "      <td>3</td>\n",
       "    </tr>\n",
       "    <tr>\n",
       "      <th>XBC</th>\n",
       "      <td>1.000000e-06</td>\n",
       "      <td>1.295823e-07</td>\n",
       "      <td>BitcoinPlus</td>\n",
       "      <td>0</td>\n",
       "    </tr>\n",
       "  </tbody>\n",
       "</table>\n",
       "<p>532 rows × 4 columns</p>\n",
       "</div>"
      ],
      "text/plain": [
       "      TotalCoinSupply  TotalCoinsMined     CoinName  class\n",
       "42       4.200000e-11     0.000000e+00      42 Coin      0\n",
       "404      5.320000e-04     1.065855e-03      404Coin      0\n",
       "1337     3.141593e-01     2.957551e-02    EliteCoin      0\n",
       "BTC      2.100000e-05     1.810842e-05      Bitcoin      3\n",
       "ETH      0.000000e+00     1.087731e-04     Ethereum      3\n",
       "...               ...              ...          ...    ...\n",
       "ZEPH     2.000000e-03     2.020225e-03       ZEPHYR      0\n",
       "GAP      2.500000e-04     1.508199e-05      Gapcoin      0\n",
       "BDX      1.400223e-03     9.901351e-04       Beldex      3\n",
       "ZEN      2.100000e-05     7.370282e-06      Horizen      3\n",
       "XBC      1.000000e-06     1.295823e-07  BitcoinPlus      0\n",
       "\n",
       "[532 rows x 4 columns]"
      ]
     },
     "execution_count": 280,
     "metadata": {},
     "output_type": "execute_result"
    }
   ],
   "source": [
    "# Create a new DataFrame that has the scaled data with the clustered_df DataFrame index.\n",
    "plot_df = pd.DataFrame(\n",
    "    data=clustered_df_scaled, columns=[\"TotalCoinSupply\", \"TotalCoinsMined\"]\n",
    ")\n",
    "plot_df.index = df2.index\n",
    "\n",
    "# Add the \"CoinName\" column from the clustered_df DataFrame to the new DataFrame.\n",
    "plot_df = pd.merge(plot_df, clustered_df['CoinName'], left_index=True, right_index=True)\n",
    "\n",
    "# Add the \"Class\" column from the clustered_df DataFrame to the new DataFrame. \n",
    "plot_df = pd.merge(plot_df, clustered_df['class'], left_index=True, right_index=True)\n",
    "\n",
    "plot_df"
   ]
  },
  {
   "cell_type": "code",
   "execution_count": 281,
   "metadata": {},
   "outputs": [
    {
     "data": {},
     "metadata": {},
     "output_type": "display_data"
    },
    {
     "data": {
      "application/vnd.holoviews_exec.v0+json": "",
      "text/html": [
       "<div id='1291'>\n",
       "\n",
       "\n",
       "\n",
       "\n",
       "\n",
       "  <div class=\"bk-root\" id=\"5d7762e7-7f80-4771-89e7-81535e9a940d\" data-root-id=\"1291\"></div>\n",
       "</div>\n",
       "<script type=\"application/javascript\">(function(root) {\n",
       "  function embed_document(root) {\n",
       "    var docs_json = {\"40d416a3-19ce-43a3-ae87-0f165d225a76\":{\"defs\":[{\"extends\":null,\"module\":null,\"name\":\"ReactiveHTML1\",\"overrides\":[],\"properties\":[]},{\"extends\":null,\"module\":null,\"name\":\"FlexBox1\",\"overrides\":[],\"properties\":[{\"default\":\"flex-start\",\"kind\":null,\"name\":\"align_content\"},{\"default\":\"flex-start\",\"kind\":null,\"name\":\"align_items\"},{\"default\":\"row\",\"kind\":null,\"name\":\"flex_direction\"},{\"default\":\"wrap\",\"kind\":null,\"name\":\"flex_wrap\"},{\"default\":\"flex-start\",\"kind\":null,\"name\":\"justify_content\"}]},{\"extends\":null,\"module\":null,\"name\":\"TemplateActions1\",\"overrides\":[],\"properties\":[{\"default\":0,\"kind\":null,\"name\":\"open_modal\"},{\"default\":0,\"kind\":null,\"name\":\"close_modal\"}]},{\"extends\":null,\"module\":null,\"name\":\"MaterialTemplateActions1\",\"overrides\":[],\"properties\":[{\"default\":0,\"kind\":null,\"name\":\"open_modal\"},{\"default\":0,\"kind\":null,\"name\":\"close_modal\"}]}],\"roots\":{\"references\":[{\"attributes\":{\"angle\":{\"value\":0.0},\"fill_alpha\":{\"value\":1.0},\"fill_color\":{\"value\":\"#fc4f30\"},\"hatch_alpha\":{\"value\":1.0},\"hatch_color\":{\"value\":\"black\"},\"hatch_scale\":{\"value\":12.0},\"hatch_weight\":{\"value\":1.0},\"line_alpha\":{\"value\":1.0},\"line_cap\":{\"value\":\"butt\"},\"line_color\":{\"value\":\"#fc4f30\"},\"line_dash\":{\"value\":[]},\"line_dash_offset\":{\"value\":0},\"line_join\":{\"value\":\"bevel\"},\"line_width\":{\"value\":1},\"marker\":{\"value\":\"circle\"},\"size\":{\"value\":5.477225575051661},\"x\":{\"field\":\"TotalCoinsMined\"},\"y\":{\"field\":\"TotalCoinSupply\"}},\"id\":\"1377\",\"type\":\"Scatter\"},{\"attributes\":{\"fill_alpha\":{\"value\":0.1},\"fill_color\":{\"value\":\"#e5ae38\"},\"line_alpha\":{\"value\":0.1},\"line_color\":{\"value\":\"#e5ae38\"},\"size\":{\"value\":5.477225575051661},\"x\":{\"field\":\"TotalCoinsMined\"},\"y\":{\"field\":\"TotalCoinSupply\"}},\"id\":\"1382\",\"type\":\"Scatter\"},{\"attributes\":{\"source\":{\"id\":\"1378\"}},\"id\":\"1385\",\"type\":\"CDSView\"},{\"attributes\":{\"margin\":[5,5,5,5],\"name\":\"HSpacer02198\",\"sizing_mode\":\"stretch_width\"},\"id\":\"1572\",\"type\":\"Spacer\"},{\"attributes\":{},\"id\":\"1379\",\"type\":\"Selection\"},{\"attributes\":{\"data_source\":{\"id\":\"1378\"},\"glyph\":{\"id\":\"1381\"},\"hover_glyph\":null,\"muted_glyph\":{\"id\":\"1383\"},\"nonselection_glyph\":{\"id\":\"1382\"},\"selection_glyph\":{\"id\":\"1401\"},\"view\":{\"id\":\"1385\"}},\"id\":\"1384\",\"type\":\"GlyphRenderer\"},{\"attributes\":{\"fill_color\":{\"value\":\"#e5ae38\"},\"line_color\":{\"value\":\"#e5ae38\"},\"size\":{\"value\":5.477225575051661},\"x\":{\"field\":\"TotalCoinsMined\"},\"y\":{\"field\":\"TotalCoinSupply\"}},\"id\":\"1381\",\"type\":\"Scatter\"},{\"attributes\":{\"label\":{\"value\":\"2\"},\"renderers\":[{\"id\":\"1384\"}]},\"id\":\"1400\",\"type\":\"LegendItem\"},{\"attributes\":{},\"id\":\"1330\",\"type\":\"AllLabels\"},{\"attributes\":{\"angle\":{\"value\":0.0},\"fill_alpha\":{\"value\":1.0},\"fill_color\":{\"value\":\"#6d904f\"},\"hatch_alpha\":{\"value\":1.0},\"hatch_color\":{\"value\":\"black\"},\"hatch_scale\":{\"value\":12.0},\"hatch_weight\":{\"value\":1.0},\"line_alpha\":{\"value\":1.0},\"line_cap\":{\"value\":\"butt\"},\"line_color\":{\"value\":\"#6d904f\"},\"line_dash\":{\"value\":[]},\"line_dash_offset\":{\"value\":0},\"line_join\":{\"value\":\"bevel\"},\"line_width\":{\"value\":1},\"marker\":{\"value\":\"circle\"},\"size\":{\"value\":5.477225575051661},\"x\":{\"field\":\"TotalCoinsMined\"},\"y\":{\"field\":\"TotalCoinSupply\"}},\"id\":\"1427\",\"type\":\"Scatter\"},{\"attributes\":{},\"id\":\"1329\",\"type\":\"BasicTickFormatter\"},{\"attributes\":{\"below\":[{\"id\":\"1308\"}],\"center\":[{\"id\":\"1311\"},{\"id\":\"1315\"}],\"height\":300,\"left\":[{\"id\":\"1312\"}],\"margin\":[5,5,5,5],\"min_border_bottom\":10,\"min_border_left\":10,\"min_border_right\":10,\"min_border_top\":10,\"renderers\":[{\"id\":\"1341\"},{\"id\":\"1362\"},{\"id\":\"1384\"},{\"id\":\"1408\"}],\"right\":[{\"id\":\"1353\"}],\"sizing_mode\":\"fixed\",\"title\":{\"id\":\"1300\"},\"toolbar\":{\"id\":\"1322\"},\"width\":700,\"x_range\":{\"id\":\"1293\"},\"x_scale\":{\"id\":\"1304\"},\"y_range\":{\"id\":\"1294\"},\"y_scale\":{\"id\":\"1306\"}},\"id\":\"1299\",\"subtype\":\"Figure\",\"type\":\"Plot\"},{\"attributes\":{\"fill_alpha\":{\"value\":0.2},\"fill_color\":{\"value\":\"#e5ae38\"},\"line_alpha\":{\"value\":0.2},\"line_color\":{\"value\":\"#e5ae38\"},\"size\":{\"value\":5.477225575051661},\"x\":{\"field\":\"TotalCoinsMined\"},\"y\":{\"field\":\"TotalCoinSupply\"}},\"id\":\"1383\",\"type\":\"Scatter\"},{\"attributes\":{\"label\":{\"value\":\"0\"},\"renderers\":[{\"id\":\"1341\"}]},\"id\":\"1354\",\"type\":\"LegendItem\"},{\"attributes\":{},\"id\":\"1332\",\"type\":\"BasicTickFormatter\"},{\"attributes\":{},\"id\":\"1309\",\"type\":\"BasicTicker\"},{\"attributes\":{},\"id\":\"1397\",\"type\":\"UnionRenderers\"},{\"attributes\":{\"text_color\":\"black\",\"text_font_size\":\"12pt\"},\"id\":\"1300\",\"type\":\"Title\"},{\"attributes\":{\"data\":{\"TotalCoinSupply\":{\"__ndarray__\":\"rkfhehSu7z8=\",\"dtype\":\"float64\",\"order\":\"little\",\"shape\":[1]},\"TotalCoinsMined\":{\"__ndarray__\":\"AAAAAAAA8D8=\",\"dtype\":\"float64\",\"order\":\"little\",\"shape\":[1]},\"class\":{\"__ndarray__\":\"AgAAAA==\",\"dtype\":\"int32\",\"order\":\"little\",\"shape\":[1]}},\"selected\":{\"id\":\"1379\"},\"selection_policy\":{\"id\":\"1397\"}},\"id\":\"1378\",\"type\":\"ColumnDataSource\"},{\"attributes\":{\"end\":1.042857142857143,\"reset_end\":1.042857142857143,\"reset_start\":-0.04285714285714286,\"start\":-0.04285714285714286,\"tags\":[[[\"TotalCoinsMined\",\"TotalCoinsMined\",null]]]},\"id\":\"1293\",\"type\":\"Range1d\"},{\"attributes\":{},\"id\":\"1333\",\"type\":\"AllLabels\"},{\"attributes\":{\"click_policy\":\"mute\",\"items\":[{\"id\":\"1354\"},{\"id\":\"1376\"},{\"id\":\"1400\"},{\"id\":\"1426\"}],\"location\":[0,0],\"title\":\"class\"},\"id\":\"1353\",\"type\":\"Legend\"},{\"attributes\":{\"angle\":{\"value\":0.0},\"fill_alpha\":{\"value\":1.0},\"fill_color\":{\"value\":\"#30a2da\"},\"hatch_alpha\":{\"value\":1.0},\"hatch_color\":{\"value\":\"black\"},\"hatch_scale\":{\"value\":12.0},\"hatch_weight\":{\"value\":1.0},\"line_alpha\":{\"value\":1.0},\"line_cap\":{\"value\":\"butt\"},\"line_color\":{\"value\":\"#30a2da\"},\"line_dash\":{\"value\":[]},\"line_dash_offset\":{\"value\":0},\"line_join\":{\"value\":\"bevel\"},\"line_width\":{\"value\":1},\"marker\":{\"value\":\"circle\"},\"size\":{\"value\":5.477225575051661},\"x\":{\"field\":\"TotalCoinsMined\"},\"y\":{\"field\":\"TotalCoinSupply\"}},\"id\":\"1355\",\"type\":\"Scatter\"},{\"attributes\":{\"callback\":null,\"renderers\":[{\"id\":\"1341\"},{\"id\":\"1362\"},{\"id\":\"1384\"},{\"id\":\"1408\"}],\"tags\":[\"hv_created\"],\"tooltips\":[[\"class\",\"@{class}\"],[\"TotalCoinsMined\",\"@{TotalCoinsMined}\"],[\"TotalCoinSupply\",\"@{TotalCoinSupply}\"]]},\"id\":\"1295\",\"type\":\"HoverTool\"},{\"attributes\":{\"label\":{\"value\":\"1\"},\"renderers\":[{\"id\":\"1362\"}]},\"id\":\"1376\",\"type\":\"LegendItem\"},{\"attributes\":{\"end\":1.1,\"reset_end\":1.1,\"reset_start\":-0.1,\"start\":-0.1,\"tags\":[[[\"TotalCoinSupply\",\"TotalCoinSupply\",null]]]},\"id\":\"1294\",\"type\":\"Range1d\"},{\"attributes\":{\"data_source\":{\"id\":\"1356\"},\"glyph\":{\"id\":\"1359\"},\"hover_glyph\":null,\"muted_glyph\":{\"id\":\"1361\"},\"nonselection_glyph\":{\"id\":\"1360\"},\"selection_glyph\":{\"id\":\"1377\"},\"view\":{\"id\":\"1363\"}},\"id\":\"1362\",\"type\":\"GlyphRenderer\"},{\"attributes\":{},\"id\":\"1304\",\"type\":\"LinearScale\"},{\"attributes\":{\"source\":{\"id\":\"1356\"}},\"id\":\"1363\",\"type\":\"CDSView\"},{\"attributes\":{},\"id\":\"1317\",\"type\":\"PanTool\"},{\"attributes\":{\"fill_alpha\":{\"value\":0.1},\"fill_color\":{\"value\":\"#fc4f30\"},\"line_alpha\":{\"value\":0.1},\"line_color\":{\"value\":\"#fc4f30\"},\"size\":{\"value\":5.477225575051661},\"x\":{\"field\":\"TotalCoinsMined\"},\"y\":{\"field\":\"TotalCoinSupply\"}},\"id\":\"1360\",\"type\":\"Scatter\"},{\"attributes\":{},\"id\":\"1423\",\"type\":\"UnionRenderers\"},{\"attributes\":{\"axis_label\":\"TotalCoinsMined\",\"formatter\":{\"id\":\"1329\"},\"major_label_policy\":{\"id\":\"1330\"},\"ticker\":{\"id\":\"1309\"}},\"id\":\"1308\",\"type\":\"LinearAxis\"},{\"attributes\":{\"fill_color\":{\"value\":\"#fc4f30\"},\"line_color\":{\"value\":\"#fc4f30\"},\"size\":{\"value\":5.477225575051661},\"x\":{\"field\":\"TotalCoinsMined\"},\"y\":{\"field\":\"TotalCoinSupply\"}},\"id\":\"1359\",\"type\":\"Scatter\"},{\"attributes\":{},\"id\":\"1306\",\"type\":\"LinearScale\"},{\"attributes\":{\"fill_alpha\":{\"value\":0.2},\"fill_color\":{\"value\":\"#fc4f30\"},\"line_alpha\":{\"value\":0.2},\"line_color\":{\"value\":\"#fc4f30\"},\"size\":{\"value\":5.477225575051661},\"x\":{\"field\":\"TotalCoinsMined\"},\"y\":{\"field\":\"TotalCoinSupply\"}},\"id\":\"1361\",\"type\":\"Scatter\"},{\"attributes\":{},\"id\":\"1318\",\"type\":\"WheelZoomTool\"},{\"attributes\":{\"axis\":{\"id\":\"1308\"},\"grid_line_color\":null,\"ticker\":null},\"id\":\"1311\",\"type\":\"Grid\"},{\"attributes\":{\"data\":{\"TotalCoinSupply\":{\"__ndarray__\":\"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\",\"dtype\":\"float64\",\"order\":\"little\",\"shape\":[239]},\"TotalCoinsMined\":{\"__ndarray__\":\"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\",\"dtype\":\"float64\",\"order\":\"little\",\"shape\":[239]},\"class\":{\"__ndarray__\":\"AwAAAAMAAAADAAAAAwAAAAMAAAADAAAAAwAAAAMAAAADAAAAAwAAAAMAAAADAAAAAwAAAAMAAAADAAAAAwAAAAMAAAADAAAAAwAAAAMAAAADAAAAAwAAAAMAAAADAAAAAwAAAAMAAAADAAAAAwAAAAMAAAADAAAAAwAAAAMAAAADAAAAAwAAAAMAAAADAAAAAwAAAAMAAAADAAAAAwAAAAMAAAADAAAAAwAAAAMAAAADAAAAAwAAAAMAAAADAAAAAwAAAAMAAAADAAAAAwAAAAMAAAADAAAAAwAAAAMAAAADAAAAAwAAAAMAAAADAAAAAwAAAAMAAAADAAAAAwAAAAMAAAADAAAAAwAAAAMAAAADAAAAAwAAAAMAAAADAAAAAwAAAAMAAAADAAAAAwAAAAMAAAADAAAAAwAAAAMAAAADAAAAAwAAAAMAAAADAAAAAwAAAAMAAAADAAAAAwAAAAMAAAADAAAAAwAAAAMAAAADAAAAAwAAAAMAAAADAAAAAwAAAAMAAAADAAAAAwAAAAMAAAADAAAAAwAAAAMAAAADAAAAAwAAAAMAAAADAAAAAwAAAAMAAAADAAAAAwAAAAMAAAADAAAAAwAAAAMAAAADAAAAAwAAAAMAAAADAAAAAwAAAAMAAAADAAAAAwAAAAMAAAADAAAAAwAAAAMAAAADAAAAAwAAAAMAAAADAAAAAwAAAAMAAAADAAAAAwAAAAMAAAADAAAAAwAAAAMAAAADAAAAAwAAAAMAAAADAAAAAwAAAAMAAAADAAAAAwAAAAMAAAADAAAAAwAAAAMAAAADAAAAAwAAAAMAAAADAAAAAwAAAAMAAAADAAAAAwAAAAMAAAADAAAAAwAAAAMAAAADAAAAAwAAAAMAAAADAAAAAwAAAAMAAAADAAAAAwAAAAMAAAADAAAAAwAAAAMAAAADAAAAAwAAAAMAAAADAAAAAwAAAAMAAAADAAAAAwAAAAMAAAADAAAAAwAAAAMAAAADAAAAAwAAAAMAAAADAAAAAwAAAAMAAAADAAAAAwAAAAMAAAADAAAAAwAAAAMAAAADAAAAAwAAAAMAAAADAAAAAwAAAAMAAAADAAAAAwAAAAMAAAADAAAAAwAAAAMAAAADAAAAAwAAAAMAAAADAAAAAwAAAAMAAAADAAAAAwAAAAMAAAADAAAAAwAAAAMAAAADAAAAAwAAAAMAAAADAAAAAwAAAAMAAAADAAAAAwAAAAMAAAADAAAAAwAAAAMAAAADAAAAAwAAAAMAAAA=\",\"dtype\":\"int32\",\"order\":\"little\",\"shape\":[239]}},\"selected\":{\"id\":\"1403\"},\"selection_policy\":{\"id\":\"1423\"}},\"id\":\"1402\",\"type\":\"ColumnDataSource\"},{\"attributes\":{\"axis_label\":\"TotalCoinSupply\",\"formatter\":{\"id\":\"1332\"},\"major_label_policy\":{\"id\":\"1333\"},\"ticker\":{\"id\":\"1313\"}},\"id\":\"1312\",\"type\":\"LinearAxis\"},{\"attributes\":{\"axis\":{\"id\":\"1312\"},\"dimension\":1,\"grid_line_color\":null,\"ticker\":null},\"id\":\"1315\",\"type\":\"Grid\"},{\"attributes\":{},\"id\":\"1313\",\"type\":\"BasicTicker\"},{\"attributes\":{},\"id\":\"1373\",\"type\":\"UnionRenderers\"},{\"attributes\":{\"fill_alpha\":{\"value\":0.2},\"fill_color\":{\"value\":\"#30a2da\"},\"line_alpha\":{\"value\":0.2},\"line_color\":{\"value\":\"#30a2da\"},\"size\":{\"value\":5.477225575051661},\"x\":{\"field\":\"TotalCoinsMined\"},\"y\":{\"field\":\"TotalCoinSupply\"}},\"id\":\"1340\",\"type\":\"Scatter\"},{\"attributes\":{\"angle\":{\"value\":0.0},\"fill_alpha\":{\"value\":1.0},\"fill_color\":{\"value\":\"#e5ae38\"},\"hatch_alpha\":{\"value\":1.0},\"hatch_color\":{\"value\":\"black\"},\"hatch_scale\":{\"value\":12.0},\"hatch_weight\":{\"value\":1.0},\"line_alpha\":{\"value\":1.0},\"line_cap\":{\"value\":\"butt\"},\"line_color\":{\"value\":\"#e5ae38\"},\"line_dash\":{\"value\":[]},\"line_dash_offset\":{\"value\":0},\"line_join\":{\"value\":\"bevel\"},\"line_width\":{\"value\":1},\"marker\":{\"value\":\"circle\"},\"size\":{\"value\":5.477225575051661},\"x\":{\"field\":\"TotalCoinsMined\"},\"y\":{\"field\":\"TotalCoinSupply\"}},\"id\":\"1401\",\"type\":\"Scatter\"},{\"attributes\":{},\"id\":\"1316\",\"type\":\"SaveTool\"},{\"attributes\":{\"margin\":[5,5,5,5],\"name\":\"HSpacer02197\",\"sizing_mode\":\"stretch_width\"},\"id\":\"1292\",\"type\":\"Spacer\"},{\"attributes\":{\"source\":{\"id\":\"1402\"}},\"id\":\"1409\",\"type\":\"CDSView\"},{\"attributes\":{\"overlay\":{\"id\":\"1321\"}},\"id\":\"1319\",\"type\":\"BoxZoomTool\"},{\"attributes\":{},\"id\":\"1320\",\"type\":\"ResetTool\"},{\"attributes\":{\"active_multi\":null,\"tools\":[{\"id\":\"1295\"},{\"id\":\"1316\"},{\"id\":\"1317\"},{\"id\":\"1318\"},{\"id\":\"1319\"},{\"id\":\"1320\"}]},\"id\":\"1322\",\"type\":\"Toolbar\"},{\"attributes\":{\"children\":[{\"id\":\"1292\"},{\"id\":\"1299\"},{\"id\":\"1572\"}],\"margin\":[0,0,0,0],\"name\":\"Row02193\",\"tags\":[\"embedded\"]},\"id\":\"1291\",\"type\":\"Row\"},{\"attributes\":{},\"id\":\"1357\",\"type\":\"Selection\"},{\"attributes\":{\"data\":{\"TotalCoinSupply\":{\"__ndarray__\":\"lPYGX5hMdT+8eapDboZLP4RaKOGWizA//Knx0k1iUD8sQxzr4jYaPw==\",\"dtype\":\"float64\",\"order\":\"little\",\"shape\":[5]},\"TotalCoinsMined\":{\"__ndarray__\":\"j1gNkdpTXT+QpMXySiFFP5wZJXiPEis/ekNDBbiMUD/7RX5gv3oaPw==\",\"dtype\":\"float64\",\"order\":\"little\",\"shape\":[5]},\"class\":{\"__ndarray__\":\"AQAAAAEAAAABAAAAAQAAAAEAAAA=\",\"dtype\":\"int32\",\"order\":\"little\",\"shape\":[5]}},\"selected\":{\"id\":\"1357\"},\"selection_policy\":{\"id\":\"1373\"}},\"id\":\"1356\",\"type\":\"ColumnDataSource\"},{\"attributes\":{\"fill_color\":{\"value\":\"#6d904f\"},\"line_color\":{\"value\":\"#6d904f\"},\"size\":{\"value\":5.477225575051661},\"x\":{\"field\":\"TotalCoinsMined\"},\"y\":{\"field\":\"TotalCoinSupply\"}},\"id\":\"1405\",\"type\":\"Scatter\"},{\"attributes\":{},\"id\":\"1336\",\"type\":\"Selection\"},{\"attributes\":{\"data_source\":{\"id\":\"1402\"},\"glyph\":{\"id\":\"1405\"},\"hover_glyph\":null,\"muted_glyph\":{\"id\":\"1407\"},\"nonselection_glyph\":{\"id\":\"1406\"},\"selection_glyph\":{\"id\":\"1427\"},\"view\":{\"id\":\"1409\"}},\"id\":\"1408\",\"type\":\"GlyphRenderer\"},{\"attributes\":{\"source\":{\"id\":\"1335\"}},\"id\":\"1342\",\"type\":\"CDSView\"},{\"attributes\":{\"data_source\":{\"id\":\"1335\"},\"glyph\":{\"id\":\"1338\"},\"hover_glyph\":null,\"muted_glyph\":{\"id\":\"1340\"},\"nonselection_glyph\":{\"id\":\"1339\"},\"selection_glyph\":{\"id\":\"1355\"},\"view\":{\"id\":\"1342\"}},\"id\":\"1341\",\"type\":\"GlyphRenderer\"},{\"attributes\":{},\"id\":\"1403\",\"type\":\"Selection\"},{\"attributes\":{\"fill_alpha\":{\"value\":0.1},\"fill_color\":{\"value\":\"#6d904f\"},\"line_alpha\":{\"value\":0.1},\"line_color\":{\"value\":\"#6d904f\"},\"size\":{\"value\":5.477225575051661},\"x\":{\"field\":\"TotalCoinsMined\"},\"y\":{\"field\":\"TotalCoinSupply\"}},\"id\":\"1406\",\"type\":\"Scatter\"},{\"attributes\":{\"fill_alpha\":{\"value\":0.1},\"fill_color\":{\"value\":\"#30a2da\"},\"line_alpha\":{\"value\":0.1},\"line_color\":{\"value\":\"#30a2da\"},\"size\":{\"value\":5.477225575051661},\"x\":{\"field\":\"TotalCoinsMined\"},\"y\":{\"field\":\"TotalCoinSupply\"}},\"id\":\"1339\",\"type\":\"Scatter\"},{\"attributes\":{\"label\":{\"value\":\"3\"},\"renderers\":[{\"id\":\"1408\"}]},\"id\":\"1426\",\"type\":\"LegendItem\"},{\"attributes\":{\"data\":{\"TotalCoinSupply\":{\"__ndarray__\":\"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\",\"dtype\":\"float64\",\"order\":\"little\",\"shape\":[287]},\"TotalCoinsMined\":{\"__ndarray__\":\"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\",\"dtype\":\"float64\",\"order\":\"little\",\"shape\":[287]},\"class\":{\"__ndarray__\":\"AAAAAAAAAAAAAAAAAAAAAAAAAAAAAAAAAAAAAAAAAAAAAAAAAAAAAAAAAAAAAAAAAAAAAAAAAAAAAAAAAAAAAAAAAAAAAAAAAAAAAAAAAAAAAAAAAAAAAAAAAAAAAAAAAAAAAAAAAAAAAAAAAAAAAAAAAAAAAAAAAAAAAAAAAAAAAAAAAAAAAAAAAAAAAAAAAAAAAAAAAAAAAAAAAAAAAAAAAAAAAAAAAAAAAAAAAAAAAAAAAAAAAAAAAAAAAAAAAAAAAAAAAAAAAAAAAAAAAAAAAAAAAAAAAAAAAAAAAAAAAAAAAAAAAAAAAAAAAAAAAAAAAAAAAAAAAAAAAAAAAAAAAAAAAAAAAAAAAAAAAAAAAAAAAAAAAAAAAAAAAAAAAAAAAAAAAAAAAAAAAAAAAAAAAAAAAAAAAAAAAAAAAAAAAAAAAAAAAAAAAAAAAAAAAAAAAAAAAAAAAAAAAAAAAAAAAAAAAAAAAAAAAAAAAAAAAAAAAAAAAAAAAAAAAAAAAAAAAAAAAAAAAAAAAAAAAAAAAAAAAAAAAAAAAAAAAAAAAAAAAAAAAAAAAAAAAAAAAAAAAAAAAAAAAAAAAAAAAAAAAAAAAAAAAAAAAAAAAAAAAAAAAAAAAAAAAAAAAAAAAAAAAAAAAAAAAAAAAAAAAAAAAAAAAAAAAAAAAAAAAAAAAAAAAAAAAAAAAAAAAAAAAAAAAAAAAAAAAAAAAAAAAAAAAAAAAAAAAAAAAAAAAAAAAAAAAAAAAAAAAAAAAAAAAAAAAAAAAAAAAAAAAAAAAAAAAAAAAAAAAAAAAAAAAAAAAAAAAAAAAAAAAAAAAAAAAAAAAAAAAAAAAAAAAAAAAAAAAAAAAAAAAAAAAAAAAAAAAAAAAAAAAAAAAAAAAAAAAAAAAAAAAAAAAAAAAAAAAAAAAAAAAAAAAAAAAAAAAAAAAAAAAAAAAAAAAAAAAAAAAAAAAAAAAAAAAAAAAAAAAAAAAAAAAAAAAAAAAAAAAAAAAAAAAAAAAAAAAAAAAAAAAAAAAAAAAAAAAAAAAAAAAAAAAAAAAAAAAAAAAAAAAAAAAAAAAAAAAAAAAAAAAAAAAAAAAAAAAAAAAAAAAAAAAAAAAAAAAAAAAAAAAAAAAAAAAAAAAAAAAAAAAAAAAAAAAAAAAAAAAAAAAAAAAAAAAAAAAAAAAAAAAAAAAAAAAAAAAAAAAAAAAAAAAAAAAAAAAAAAAAAAAAAAAAAAAAAAAAAAAAAAAAAAAAAAAAAAAAAAAAAAAAAAAAAAAAAAAAAAAAAAAAAAAAAAAAAAAAAAAAAAAAAAAAAAAAAAAAAAAAAAAAAAAAAAAAAAAAAAAAAAAAAAAAAAAAAAAAAAAAAAAAAAAAAAAAAAAAAAAAAAAAAAAAAAAAAAAAAAAAAAAAAAAAAAAAAAAAAAAAAAAAAAAAAAAAAAAAAAAAAAAAAAAAAAAAAAAAAAAAAAAAAAAAAAAAAAAAAAAAAAAAAAAAAAAAAAAAAAAAAAAAAAAAAAAAAAAAAAAAAAAAAAAAA=\",\"dtype\":\"int32\",\"order\":\"little\",\"shape\":[287]}},\"selected\":{\"id\":\"1336\"},\"selection_policy\":{\"id\":\"1350\"}},\"id\":\"1335\",\"type\":\"ColumnDataSource\"},{\"attributes\":{},\"id\":\"1350\",\"type\":\"UnionRenderers\"},{\"attributes\":{\"fill_color\":{\"value\":\"#30a2da\"},\"line_color\":{\"value\":\"#30a2da\"},\"size\":{\"value\":5.477225575051661},\"x\":{\"field\":\"TotalCoinsMined\"},\"y\":{\"field\":\"TotalCoinSupply\"}},\"id\":\"1338\",\"type\":\"Scatter\"},{\"attributes\":{\"fill_alpha\":{\"value\":0.2},\"fill_color\":{\"value\":\"#6d904f\"},\"line_alpha\":{\"value\":0.2},\"line_color\":{\"value\":\"#6d904f\"},\"size\":{\"value\":5.477225575051661},\"x\":{\"field\":\"TotalCoinsMined\"},\"y\":{\"field\":\"TotalCoinSupply\"}},\"id\":\"1407\",\"type\":\"Scatter\"},{\"attributes\":{\"bottom_units\":\"screen\",\"fill_alpha\":0.5,\"fill_color\":\"lightgrey\",\"left_units\":\"screen\",\"level\":\"overlay\",\"line_alpha\":1.0,\"line_color\":\"black\",\"line_dash\":[4,4],\"line_width\":2,\"right_units\":\"screen\",\"syncable\":false,\"top_units\":\"screen\"},\"id\":\"1321\",\"type\":\"BoxAnnotation\"}],\"root_ids\":[\"1291\"]},\"title\":\"Bokeh Application\",\"version\":\"2.3.3\"}};\n",
       "    var render_items = [{\"docid\":\"40d416a3-19ce-43a3-ae87-0f165d225a76\",\"root_ids\":[\"1291\"],\"roots\":{\"1291\":\"5d7762e7-7f80-4771-89e7-81535e9a940d\"}}];\n",
       "    root.Bokeh.embed.embed_items_notebook(docs_json, render_items);\n",
       "  }\n",
       "  if (root.Bokeh !== undefined && root.Bokeh.Panel !== undefined) {\n",
       "    embed_document(root);\n",
       "  } else {\n",
       "    var attempts = 0;\n",
       "    var timer = setInterval(function(root) {\n",
       "      if (root.Bokeh !== undefined && root.Bokeh.Panel !== undefined) {\n",
       "        clearInterval(timer);\n",
       "        embed_document(root);\n",
       "      } else if (document.readyState == \"complete\") {\n",
       "        attempts++;\n",
       "        if (attempts > 200) {\n",
       "          clearInterval(timer);\n",
       "          console.log(\"Bokeh: ERROR: Unable to run BokehJS code because BokehJS library is missing\");\n",
       "        }\n",
       "      }\n",
       "    }, 25, root)\n",
       "  }\n",
       "})(window);</script>"
      ],
      "text/plain": [
       ":NdOverlay   [class]\n",
       "   :Scatter   [TotalCoinsMined]   (TotalCoinSupply,class)"
      ]
     },
     "execution_count": 281,
     "metadata": {
      "application/vnd.holoviews_exec.v0+json": {
       "id": "1291"
      }
     },
     "output_type": "execute_result"
    }
   ],
   "source": [
    "# Create a hvplot.scatter plot using x=\"TotalCoinsMined\" and y=\"TotalCoinSupply\".\n",
    "plot_df.hvplot.scatter(\n",
    "    x=\"TotalCoinsMined\",\n",
    "    y=\"TotalCoinSupply\",\n",
    "    hover_cols=[\"class\"],\n",
    "    by=\"class\",\n",
    ")\n"
   ]
  },
  {
   "cell_type": "code",
   "execution_count": null,
   "metadata": {},
   "outputs": [],
   "source": []
  }
 ],
 "metadata": {
  "file_extension": ".py",
  "kernelspec": {
   "display_name": "Python 3 (ipykernel)",
   "language": "python",
   "name": "python3"
  },
  "language_info": {
   "codemirror_mode": {
    "name": "ipython",
    "version": 3
   },
   "file_extension": ".py",
   "mimetype": "text/x-python",
   "name": "python",
   "nbconvert_exporter": "python",
   "pygments_lexer": "ipython3",
   "version": "3.8.11"
  },
  "latex_envs": {
   "LaTeX_envs_menu_present": true,
   "autoclose": false,
   "autocomplete": true,
   "bibliofile": "biblio.bib",
   "cite_by": "apalike",
   "current_citInitial": 1,
   "eqLabelWithNumbers": true,
   "eqNumInitial": 1,
   "hotkeys": {
    "equation": "Ctrl-E",
    "itemize": "Ctrl-I"
   },
   "labels_anchors": false,
   "latex_user_defs": false,
   "report_style_numbering": false,
   "user_envs_cfg": false
  },
  "mimetype": "text/x-python",
  "name": "python",
  "npconvert_exporter": "python",
  "pygments_lexer": "ipython3",
  "version": 3
 },
 "nbformat": 4,
 "nbformat_minor": 4
}
